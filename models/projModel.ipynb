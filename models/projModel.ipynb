{
  "nbformat": 4,
  "nbformat_minor": 0,
  "metadata": {
    "colab": {
      "name": "projModel.ipynb",
      "version": "0.3.2",
      "provenance": [],
      "collapsed_sections": []
    },
    "kernelspec": {
      "name": "python3",
      "display_name": "Python 3"
    },
    "accelerator": "GPU"
  },
  "cells": [
    {
      "cell_type": "code",
      "metadata": {
        "id": "Jsb_ny4cMl5j",
        "colab_type": "code",
        "colab": {}
      },
      "source": [
        "import pandas as pd\n",
        "import matplotlib.pyplot as plt\n",
        "%matplotlib inline"
      ],
      "execution_count": 0,
      "outputs": []
    },
    {
      "cell_type": "markdown",
      "metadata": {
        "id": "77mwF5_L-aa-",
        "colab_type": "text"
      },
      "source": [
        ""
      ]
    },
    {
      "cell_type": "code",
      "metadata": {
        "id": "pdqG1pTiVEvw",
        "colab_type": "code",
        "outputId": "2e8a3a4f-a220-46d1-8800-00cb32d3b193",
        "colab": {
          "base_uri": "https://localhost:8080/",
          "height": 122
        }
      },
      "source": [
        "from google.colab import drive\n",
        "drive.mount('/content/drive')"
      ],
      "execution_count": 0,
      "outputs": [
        {
          "output_type": "stream",
          "text": [
            "Go to this URL in a browser: https://accounts.google.com/o/oauth2/auth?client_id=947318989803-6bn6qk8qdgf4n4g3pfee6491hc0brc4i.apps.googleusercontent.com&redirect_uri=urn%3Aietf%3Awg%3Aoauth%3A2.0%3Aoob&scope=email%20https%3A%2F%2Fwww.googleapis.com%2Fauth%2Fdocs.test%20https%3A%2F%2Fwww.googleapis.com%2Fauth%2Fdrive%20https%3A%2F%2Fwww.googleapis.com%2Fauth%2Fdrive.photos.readonly%20https%3A%2F%2Fwww.googleapis.com%2Fauth%2Fpeopleapi.readonly&response_type=code\n",
            "\n",
            "Enter your authorization code:\n",
            "··········\n",
            "Mounted at /content/drive\n"
          ],
          "name": "stdout"
        }
      ]
    },
    {
      "cell_type": "code",
      "metadata": {
        "id": "-47nc6dxUNaB",
        "colab_type": "code",
        "colab": {}
      },
      "source": [
        "data = pd.read_csv('/content/drive/My Drive/Colab Notebooks/project/SD_products.csv')"
      ],
      "execution_count": 0,
      "outputs": []
    },
    {
      "cell_type": "code",
      "metadata": {
        "id": "R_aDldpTUe04",
        "colab_type": "code",
        "outputId": "7b825c76-0546-475c-8280-3845c6a7c700",
        "colab": {
          "base_uri": "https://localhost:8080/",
          "height": 547
        }
      },
      "source": [
        "data.head()"
      ],
      "execution_count": 0,
      "outputs": [
        {
          "output_type": "execute_result",
          "data": {
            "text/html": [
              "<div>\n",
              "<style scoped>\n",
              "    .dataframe tbody tr th:only-of-type {\n",
              "        vertical-align: middle;\n",
              "    }\n",
              "\n",
              "    .dataframe tbody tr th {\n",
              "        vertical-align: top;\n",
              "    }\n",
              "\n",
              "    .dataframe thead th {\n",
              "        text-align: right;\n",
              "    }\n",
              "</style>\n",
              "<table border=\"1\" class=\"dataframe\">\n",
              "  <thead>\n",
              "    <tr style=\"text-align: right;\">\n",
              "      <th></th>\n",
              "      <th>_id</th>\n",
              "      <th>category</th>\n",
              "      <th>details</th>\n",
              "      <th>discountedPrice</th>\n",
              "      <th>imageUrl</th>\n",
              "      <th>name</th>\n",
              "      <th>originalPrice</th>\n",
              "      <th>subCategory</th>\n",
              "      <th>subSubCategory</th>\n",
              "    </tr>\n",
              "  </thead>\n",
              "  <tbody>\n",
              "    <tr>\n",
              "      <th>0</th>\n",
              "      <td>ObjectId(5cd1c5d8bc423a01e90cdfd0)</td>\n",
              "      <td>Women</td>\n",
              "      <td>Designers Piece</td>\n",
              "      <td>2288.0</td>\n",
              "      <td>https://sd.azureedge.net/0/images/product/2011...</td>\n",
              "      <td>Specially Designed Red Rayon Kurti with Jaipur...</td>\n",
              "      <td>2782.0</td>\n",
              "      <td>Clothing</td>\n",
              "      <td>Sarees &amp; Lehengas</td>\n",
              "    </tr>\n",
              "    <tr>\n",
              "      <th>1</th>\n",
              "      <td>ObjectId(5cd1c5d8bc423a01e90cdfd1)</td>\n",
              "      <td>Women</td>\n",
              "      <td>Paper silk suit\\r\\nSleeveless\\r\\nDry Clean\\r\\n...</td>\n",
              "      <td>6000.0</td>\n",
              "      <td>https://sd.azureedge.net/0/images/product/8285...</td>\n",
              "      <td>Chiffon Block Print Dupatta SU030</td>\n",
              "      <td>6666.0</td>\n",
              "      <td>Clothing</td>\n",
              "      <td>Sarees &amp; Lehengas</td>\n",
              "    </tr>\n",
              "    <tr>\n",
              "      <th>2</th>\n",
              "      <td>ObjectId(5cd1c5d8bc423a01e90cdfd2)</td>\n",
              "      <td>Women</td>\n",
              "      <td>Thread and Mirror Work Blouse\\r\\nChiffon Sari\\...</td>\n",
              "      <td>8000.0</td>\n",
              "      <td>https://sd.azureedge.net/0/images/product/8377...</td>\n",
              "      <td>Thread and Mirror Work Blouse Saree SR001</td>\n",
              "      <td>8888.0</td>\n",
              "      <td>Clothing</td>\n",
              "      <td>Sarees &amp; Lehengas</td>\n",
              "    </tr>\n",
              "    <tr>\n",
              "      <th>3</th>\n",
              "      <td>ObjectId(5cd1c5d8bc423a01e90cdfd3)</td>\n",
              "      <td>Women</td>\n",
              "      <td>Gota Work Blouse\\r\\nChiffon Sari\\r\\nGolden Lac...</td>\n",
              "      <td>8000.0</td>\n",
              "      <td>https://sd.azureedge.net/0/images/product/8384...</td>\n",
              "      <td>Chiffon Sari SR008</td>\n",
              "      <td>8888.0</td>\n",
              "      <td>Clothing</td>\n",
              "      <td>Sarees &amp; Lehengas</td>\n",
              "    </tr>\n",
              "    <tr>\n",
              "      <th>4</th>\n",
              "      <td>ObjectId(5cd1c5d8bc423a01e90cdfd4)</td>\n",
              "      <td>Women</td>\n",
              "      <td>Sequence Blouse\\r\\nChiffon Sari\\r\\nThread Lace...</td>\n",
              "      <td>8000.0</td>\n",
              "      <td>https://sd.azureedge.net/0/images/product/8385...</td>\n",
              "      <td>Chiffon Sari SR009</td>\n",
              "      <td>8888.0</td>\n",
              "      <td>Clothing</td>\n",
              "      <td>Sarees &amp; Lehengas</td>\n",
              "    </tr>\n",
              "  </tbody>\n",
              "</table>\n",
              "</div>"
            ],
            "text/plain": [
              "                                  _id category  ... subCategory     subSubCategory\n",
              "0  ObjectId(5cd1c5d8bc423a01e90cdfd0)    Women  ...    Clothing  Sarees & Lehengas\n",
              "1  ObjectId(5cd1c5d8bc423a01e90cdfd1)    Women  ...    Clothing  Sarees & Lehengas\n",
              "2  ObjectId(5cd1c5d8bc423a01e90cdfd2)    Women  ...    Clothing  Sarees & Lehengas\n",
              "3  ObjectId(5cd1c5d8bc423a01e90cdfd3)    Women  ...    Clothing  Sarees & Lehengas\n",
              "4  ObjectId(5cd1c5d8bc423a01e90cdfd4)    Women  ...    Clothing  Sarees & Lehengas\n",
              "\n",
              "[5 rows x 9 columns]"
            ]
          },
          "metadata": {
            "tags": []
          },
          "execution_count": 4
        }
      ]
    },
    {
      "cell_type": "code",
      "metadata": {
        "id": "8grBoUDLVGyv",
        "colab_type": "code",
        "outputId": "e7c3af6a-9b53-4a05-d1a5-1c84dd013346",
        "colab": {
          "base_uri": "https://localhost:8080/",
          "height": 255
        }
      },
      "source": [
        "data.info()"
      ],
      "execution_count": 0,
      "outputs": [
        {
          "output_type": "stream",
          "text": [
            "<class 'pandas.core.frame.DataFrame'>\n",
            "RangeIndex: 137330 entries, 0 to 137329\n",
            "Data columns (total 9 columns):\n",
            "_id                137330 non-null object\n",
            "category           137330 non-null object\n",
            "details            136844 non-null object\n",
            "discountedPrice    87333 non-null float64\n",
            "imageUrl           137297 non-null object\n",
            "name               137000 non-null object\n",
            "originalPrice      136964 non-null float64\n",
            "subCategory        137330 non-null object\n",
            "subSubCategory     137318 non-null object\n",
            "dtypes: float64(2), object(7)\n",
            "memory usage: 9.4+ MB\n"
          ],
          "name": "stdout"
        }
      ]
    },
    {
      "cell_type": "code",
      "metadata": {
        "id": "gR5nQmaUWhQY",
        "colab_type": "code",
        "colab": {}
      },
      "source": [
        "use_data = data[['category', 'details', 'subCategory', 'subSubCategory']]"
      ],
      "execution_count": 0,
      "outputs": []
    },
    {
      "cell_type": "code",
      "metadata": {
        "id": "OteQaEDAXId3",
        "colab_type": "code",
        "outputId": "62c3109a-ad92-4da6-d0b6-cc229b4153d5",
        "colab": {
          "base_uri": "https://localhost:8080/",
          "height": 170
        }
      },
      "source": [
        "use_data.info()"
      ],
      "execution_count": 0,
      "outputs": [
        {
          "output_type": "stream",
          "text": [
            "<class 'pandas.core.frame.DataFrame'>\n",
            "RangeIndex: 137330 entries, 0 to 137329\n",
            "Data columns (total 4 columns):\n",
            "category          137330 non-null object\n",
            "details           136844 non-null object\n",
            "subCategory       137330 non-null object\n",
            "subSubCategory    137318 non-null object\n",
            "dtypes: object(4)\n",
            "memory usage: 4.2+ MB\n"
          ],
          "name": "stdout"
        }
      ]
    },
    {
      "cell_type": "code",
      "metadata": {
        "id": "4HRuuKzaXSao",
        "colab_type": "code",
        "colab": {}
      },
      "source": [
        "use_data = use_data.dropna()"
      ],
      "execution_count": 0,
      "outputs": []
    },
    {
      "cell_type": "code",
      "metadata": {
        "id": "rb5UcBH_YA52",
        "colab_type": "code",
        "outputId": "0eb3892b-949f-43c6-ab8a-141f543743c8",
        "colab": {
          "base_uri": "https://localhost:8080/",
          "height": 170
        }
      },
      "source": [
        "use_data.info()"
      ],
      "execution_count": 0,
      "outputs": [
        {
          "output_type": "stream",
          "text": [
            "<class 'pandas.core.frame.DataFrame'>\n",
            "Int64Index: 136832 entries, 0 to 137329\n",
            "Data columns (total 4 columns):\n",
            "category          136832 non-null object\n",
            "details           136832 non-null object\n",
            "subCategory       136832 non-null object\n",
            "subSubCategory    136832 non-null object\n",
            "dtypes: object(4)\n",
            "memory usage: 5.2+ MB\n"
          ],
          "name": "stdout"
        }
      ]
    },
    {
      "cell_type": "code",
      "metadata": {
        "id": "1gysIIsFYCbg",
        "colab_type": "code",
        "outputId": "0872d0fe-df1e-4691-c3f8-6da4491c0ddc",
        "colab": {
          "base_uri": "https://localhost:8080/",
          "height": 1969
        }
      },
      "source": [
        "use_data"
      ],
      "execution_count": 0,
      "outputs": [
        {
          "output_type": "execute_result",
          "data": {
            "text/html": [
              "<div>\n",
              "<style scoped>\n",
              "    .dataframe tbody tr th:only-of-type {\n",
              "        vertical-align: middle;\n",
              "    }\n",
              "\n",
              "    .dataframe tbody tr th {\n",
              "        vertical-align: top;\n",
              "    }\n",
              "\n",
              "    .dataframe thead th {\n",
              "        text-align: right;\n",
              "    }\n",
              "</style>\n",
              "<table border=\"1\" class=\"dataframe\">\n",
              "  <thead>\n",
              "    <tr style=\"text-align: right;\">\n",
              "      <th></th>\n",
              "      <th>category</th>\n",
              "      <th>details</th>\n",
              "      <th>subCategory</th>\n",
              "      <th>subSubCategory</th>\n",
              "    </tr>\n",
              "  </thead>\n",
              "  <tbody>\n",
              "    <tr>\n",
              "      <th>0</th>\n",
              "      <td>Women</td>\n",
              "      <td>Designers Piece</td>\n",
              "      <td>Clothing</td>\n",
              "      <td>Sarees &amp; Lehengas</td>\n",
              "    </tr>\n",
              "    <tr>\n",
              "      <th>1</th>\n",
              "      <td>Women</td>\n",
              "      <td>Paper silk suit\\r\\nSleeveless\\r\\nDry Clean\\r\\n...</td>\n",
              "      <td>Clothing</td>\n",
              "      <td>Sarees &amp; Lehengas</td>\n",
              "    </tr>\n",
              "    <tr>\n",
              "      <th>2</th>\n",
              "      <td>Women</td>\n",
              "      <td>Thread and Mirror Work Blouse\\r\\nChiffon Sari\\...</td>\n",
              "      <td>Clothing</td>\n",
              "      <td>Sarees &amp; Lehengas</td>\n",
              "    </tr>\n",
              "    <tr>\n",
              "      <th>3</th>\n",
              "      <td>Women</td>\n",
              "      <td>Gota Work Blouse\\r\\nChiffon Sari\\r\\nGolden Lac...</td>\n",
              "      <td>Clothing</td>\n",
              "      <td>Sarees &amp; Lehengas</td>\n",
              "    </tr>\n",
              "    <tr>\n",
              "      <th>4</th>\n",
              "      <td>Women</td>\n",
              "      <td>Sequence Blouse\\r\\nChiffon Sari\\r\\nThread Lace...</td>\n",
              "      <td>Clothing</td>\n",
              "      <td>Sarees &amp; Lehengas</td>\n",
              "    </tr>\n",
              "    <tr>\n",
              "      <th>5</th>\n",
              "      <td>Women</td>\n",
              "      <td>Brocade Blouse\\r\\nChiffon Sari\\r\\nGota Lace\\r\\...</td>\n",
              "      <td>Clothing</td>\n",
              "      <td>Sarees &amp; Lehengas</td>\n",
              "    </tr>\n",
              "    <tr>\n",
              "      <th>6</th>\n",
              "      <td>Women</td>\n",
              "      <td>Georgette Thread Work Blouse\\r\\nChiffon Sari\\r...</td>\n",
              "      <td>Clothing</td>\n",
              "      <td>Sarees &amp; Lehengas</td>\n",
              "    </tr>\n",
              "    <tr>\n",
              "      <th>7</th>\n",
              "      <td>Women</td>\n",
              "      <td>Sequence Blouse\\r\\nGeorgette Stripe Sari\\r\\nSe...</td>\n",
              "      <td>Clothing</td>\n",
              "      <td>Sarees &amp; Lehengas</td>\n",
              "    </tr>\n",
              "    <tr>\n",
              "      <th>8</th>\n",
              "      <td>Women</td>\n",
              "      <td>Raw Silk Blouse with Stone Work Neck\\r\\nChiffo...</td>\n",
              "      <td>Clothing</td>\n",
              "      <td>Sarees &amp; Lehengas</td>\n",
              "    </tr>\n",
              "    <tr>\n",
              "      <th>9</th>\n",
              "      <td>Women</td>\n",
              "      <td>Brocade Blouse\\r\\nCrepe Sari\\r\\nThread Work La...</td>\n",
              "      <td>Clothing</td>\n",
              "      <td>Sarees &amp; Lehengas</td>\n",
              "    </tr>\n",
              "    <tr>\n",
              "      <th>10</th>\n",
              "      <td>Women</td>\n",
              "      <td>Net Fabric\\r\\nZari Work\\r\\nFront Cut\\r\\nV-Neck...</td>\n",
              "      <td>Clothing</td>\n",
              "      <td>Sarees &amp; Lehengas</td>\n",
              "    </tr>\n",
              "    <tr>\n",
              "      <th>11</th>\n",
              "      <td>Women</td>\n",
              "      <td>Silk Blouse\\r\\nGeorgette and Banarasi Sari\\r\\n...</td>\n",
              "      <td>Clothing</td>\n",
              "      <td>Sarees &amp; Lehengas</td>\n",
              "    </tr>\n",
              "    <tr>\n",
              "      <th>12</th>\n",
              "      <td>Women</td>\n",
              "      <td>Silk Thread Work Shirt\\r\\nCotton Silk Skirt wi...</td>\n",
              "      <td>Clothing</td>\n",
              "      <td>Sarees &amp; Lehengas</td>\n",
              "    </tr>\n",
              "    <tr>\n",
              "      <th>13</th>\n",
              "      <td>Women</td>\n",
              "      <td>Gota Work Blouse\\r\\nGeorgette Mukesh Work Sari...</td>\n",
              "      <td>Clothing</td>\n",
              "      <td>Sarees &amp; Lehengas</td>\n",
              "    </tr>\n",
              "    <tr>\n",
              "      <th>14</th>\n",
              "      <td>Women</td>\n",
              "      <td>Linen Floral Blouse\\r\\nChiffon Sari\\r\\nPearl a...</td>\n",
              "      <td>Clothing</td>\n",
              "      <td>Sarees &amp; Lehengas</td>\n",
              "    </tr>\n",
              "    <tr>\n",
              "      <th>15</th>\n",
              "      <td>Women</td>\n",
              "      <td>Sequence Blouse\\r\\nNet and Georgette Sari\\r\\nS...</td>\n",
              "      <td>Clothing</td>\n",
              "      <td>Sarees &amp; Lehengas</td>\n",
              "    </tr>\n",
              "    <tr>\n",
              "      <th>16</th>\n",
              "      <td>Women</td>\n",
              "      <td>Golden Zari Blouse\\r\\nChiffon Pearl Work Sari\\...</td>\n",
              "      <td>Clothing</td>\n",
              "      <td>Sarees &amp; Lehengas</td>\n",
              "    </tr>\n",
              "    <tr>\n",
              "      <th>17</th>\n",
              "      <td>Women</td>\n",
              "      <td>Silk Long Kurti\\r\\nChinese Collar\\r\\nNet Dupat...</td>\n",
              "      <td>Clothing</td>\n",
              "      <td>Sarees &amp; Lehengas</td>\n",
              "    </tr>\n",
              "    <tr>\n",
              "      <th>18</th>\n",
              "      <td>Women</td>\n",
              "      <td>Raw Silk Lehenga\\r\\nThread Work\\r\\nNet Dupatta...</td>\n",
              "      <td>Clothing</td>\n",
              "      <td>Sarees &amp; Lehengas</td>\n",
              "    </tr>\n",
              "    <tr>\n",
              "      <th>19</th>\n",
              "      <td>Women</td>\n",
              "      <td>Net Fabric\\r\\nZari Work\\r\\nFront Cut Kurti\\r\\n...</td>\n",
              "      <td>Clothing</td>\n",
              "      <td>Sarees &amp; Lehengas</td>\n",
              "    </tr>\n",
              "    <tr>\n",
              "      <th>20</th>\n",
              "      <td>Women</td>\n",
              "      <td>Raw Silk Blouse\\r\\nNet Sequence Dupatta\\r\\nKot...</td>\n",
              "      <td>Clothing</td>\n",
              "      <td>Sarees &amp; Lehengas</td>\n",
              "    </tr>\n",
              "    <tr>\n",
              "      <th>21</th>\n",
              "      <td>Women</td>\n",
              "      <td>Georgette Shirt\\r\\nBanarasi Silk Dupatta\\r\\nBa...</td>\n",
              "      <td>Clothing</td>\n",
              "      <td>Sarees &amp; Lehengas</td>\n",
              "    </tr>\n",
              "    <tr>\n",
              "      <th>22</th>\n",
              "      <td>Women</td>\n",
              "      <td>Silk Fabric\\r\\nStone Zari Work Blouse\\r\\nThrea...</td>\n",
              "      <td>Clothing</td>\n",
              "      <td>Sarees &amp; Lehengas</td>\n",
              "    </tr>\n",
              "    <tr>\n",
              "      <th>23</th>\n",
              "      <td>Women</td>\n",
              "      <td>Banarasi Blouse with Lace\\r\\nChiffon Sari\\r\\nG...</td>\n",
              "      <td>Clothing</td>\n",
              "      <td>Sarees &amp; Lehengas</td>\n",
              "    </tr>\n",
              "    <tr>\n",
              "      <th>24</th>\n",
              "      <td>Women</td>\n",
              "      <td>Raw Silk Blouse\\r\\nGeorgette Sequence Dupatta\\...</td>\n",
              "      <td>Clothing</td>\n",
              "      <td>Sarees &amp; Lehengas</td>\n",
              "    </tr>\n",
              "    <tr>\n",
              "      <th>25</th>\n",
              "      <td>Women</td>\n",
              "      <td>Banarasi Cape,\\r\\nNet Sequence Dupatta with a ...</td>\n",
              "      <td>Clothing</td>\n",
              "      <td>Sarees &amp; Lehengas</td>\n",
              "    </tr>\n",
              "    <tr>\n",
              "      <th>26</th>\n",
              "      <td>Women</td>\n",
              "      <td>Banarasi silk and heavy blouse\\r\\nDupatta pure...</td>\n",
              "      <td>Clothing</td>\n",
              "      <td>Sarees &amp; Lehengas</td>\n",
              "    </tr>\n",
              "    <tr>\n",
              "      <th>27</th>\n",
              "      <td>Women</td>\n",
              "      <td>Fabric: Linen\\r\\nNeck: Round\\r\\nSleeves: Quart...</td>\n",
              "      <td>Clothing</td>\n",
              "      <td>Kurti Kurta and Kurta Set</td>\n",
              "    </tr>\n",
              "    <tr>\n",
              "      <th>28</th>\n",
              "      <td>Women</td>\n",
              "      <td>Fabric: Linen\\r\\nNeck: Round\\r\\nSleeves: Quart...</td>\n",
              "      <td>Clothing</td>\n",
              "      <td>Kurti Kurta and Kurta Set</td>\n",
              "    </tr>\n",
              "    <tr>\n",
              "      <th>29</th>\n",
              "      <td>Women</td>\n",
              "      <td>Chikan Kurthi\\r\\nNeck: Round\\r\\nSleeves: Quart...</td>\n",
              "      <td>Clothing</td>\n",
              "      <td>Kurti Kurta and Kurta Set</td>\n",
              "    </tr>\n",
              "    <tr>\n",
              "      <th>...</th>\n",
              "      <td>...</td>\n",
              "      <td>...</td>\n",
              "      <td>...</td>\n",
              "      <td>...</td>\n",
              "    </tr>\n",
              "    <tr>\n",
              "      <th>137300</th>\n",
              "      <td>Sastobook</td>\n",
              "      <td>ISBN: 9788126559572\\r\\nAuthor: Sweeney John Im...</td>\n",
              "      <td>Genres</td>\n",
              "      <td>Science Fiction</td>\n",
              "    </tr>\n",
              "    <tr>\n",
              "      <th>137301</th>\n",
              "      <td>Sastobook</td>\n",
              "      <td>ISBN: 9780452298842\\r\\nAuthor: Cowen Tyler\\r\\n...</td>\n",
              "      <td>Genres</td>\n",
              "      <td>Science Fiction</td>\n",
              "    </tr>\n",
              "    <tr>\n",
              "      <th>137302</th>\n",
              "      <td>Sastobook</td>\n",
              "      <td>ISBN: 9781101980552\\r\\nAuthor: Blair Ryan\\r\\nB...</td>\n",
              "      <td>Genres</td>\n",
              "      <td>Science Fiction</td>\n",
              "    </tr>\n",
              "    <tr>\n",
              "      <th>137303</th>\n",
              "      <td>Sastobook</td>\n",
              "      <td>ISBN: 9780007340774\\r\\nAuthor: Klein Naomi\\r\\n...</td>\n",
              "      <td>Genres</td>\n",
              "      <td>Science Fiction</td>\n",
              "    </tr>\n",
              "    <tr>\n",
              "      <th>137304</th>\n",
              "      <td>Sastobook</td>\n",
              "      <td>ISBN: 9780593073476\\r\\nAuthor: Kennedy Pagan\\r...</td>\n",
              "      <td>Genres</td>\n",
              "      <td>Science Fiction</td>\n",
              "    </tr>\n",
              "    <tr>\n",
              "      <th>137305</th>\n",
              "      <td>Sastobook</td>\n",
              "      <td>ISBN: 9781595231239\\r\\nAuthor: Conrad Edward\\r...</td>\n",
              "      <td>Genres</td>\n",
              "      <td>Science Fiction</td>\n",
              "    </tr>\n",
              "    <tr>\n",
              "      <th>137306</th>\n",
              "      <td>Sastobook</td>\n",
              "      <td>ISBN: 9780593060513\\r\\nAuthor: Mckenna Paul\\r\\...</td>\n",
              "      <td>Genres</td>\n",
              "      <td>Science Fiction</td>\n",
              "    </tr>\n",
              "    <tr>\n",
              "      <th>137307</th>\n",
              "      <td>Sastobook</td>\n",
              "      <td>ISBN: 9780753509630\\r\\nAuthor: Barrow Paul\\r\\n...</td>\n",
              "      <td>Genres</td>\n",
              "      <td>Science Fiction</td>\n",
              "    </tr>\n",
              "    <tr>\n",
              "      <th>137308</th>\n",
              "      <td>Sastobook</td>\n",
              "      <td>ISBN: 978-1472259356\\r\\nAuthor: Atticus\\r\\nLan...</td>\n",
              "      <td>Genres</td>\n",
              "      <td>Science Fiction</td>\n",
              "    </tr>\n",
              "    <tr>\n",
              "      <th>137309</th>\n",
              "      <td>Sastobook</td>\n",
              "      <td>Author: Ernest Hemingway\\r\\nISBN:9780099908401...</td>\n",
              "      <td>Genres</td>\n",
              "      <td>Science Fiction</td>\n",
              "    </tr>\n",
              "    <tr>\n",
              "      <th>137310</th>\n",
              "      <td>Sastobook</td>\n",
              "      <td>ISBN: 9788129142146\\r\\nAuthor: Bhagat Chetan\\r...</td>\n",
              "      <td>Genres</td>\n",
              "      <td>Science Fiction</td>\n",
              "    </tr>\n",
              "    <tr>\n",
              "      <th>137311</th>\n",
              "      <td>Sastobook</td>\n",
              "      <td>ISBN: 9788129135537\\r\\nAuthor: CHETAN BHAGAT\\r...</td>\n",
              "      <td>Genres</td>\n",
              "      <td>Science Fiction</td>\n",
              "    </tr>\n",
              "    <tr>\n",
              "      <th>137312</th>\n",
              "      <td>Sastobook</td>\n",
              "      <td>Author: Carnegie Dale\\r\\nISBN: 9789386037756\\r...</td>\n",
              "      <td>Genres</td>\n",
              "      <td>Science Fiction</td>\n",
              "    </tr>\n",
              "    <tr>\n",
              "      <th>137313</th>\n",
              "      <td>Sastobook</td>\n",
              "      <td>ISBN: 9780312320768\\r\\nAuthor: Osho\\r\\nLanguag...</td>\n",
              "      <td>Genres</td>\n",
              "      <td>Science Fiction</td>\n",
              "    </tr>\n",
              "    <tr>\n",
              "      <th>137314</th>\n",
              "      <td>Sastobook</td>\n",
              "      <td>ISBN: 9780553175219\\r\\nAuthor: Stephen Hawking...</td>\n",
              "      <td>Genres</td>\n",
              "      <td>Science Fiction</td>\n",
              "    </tr>\n",
              "    <tr>\n",
              "      <th>137315</th>\n",
              "      <td>Sastobook</td>\n",
              "      <td>ISBN: 9789386348838\\r\\nAuthor: Robert Butera, ...</td>\n",
              "      <td>Genres</td>\n",
              "      <td>Science Fiction</td>\n",
              "    </tr>\n",
              "    <tr>\n",
              "      <th>137316</th>\n",
              "      <td>Sastobook</td>\n",
              "      <td>Author: Larsson Stieg\\r\\nPublisher: Quercus Pu...</td>\n",
              "      <td>Genres</td>\n",
              "      <td>Science Fiction</td>\n",
              "    </tr>\n",
              "    <tr>\n",
              "      <th>137317</th>\n",
              "      <td>Sastobook</td>\n",
              "      <td>ISBN: 9780552554107\\r\\nAuthor: Christopher Pao...</td>\n",
              "      <td>Genres</td>\n",
              "      <td>Science Fiction</td>\n",
              "    </tr>\n",
              "    <tr>\n",
              "      <th>137318</th>\n",
              "      <td>Sastobook</td>\n",
              "      <td>Author: Ravinder Singh\\r\\nCover: Paperback\\r\\n...</td>\n",
              "      <td>Genres</td>\n",
              "      <td>Science Fiction</td>\n",
              "    </tr>\n",
              "    <tr>\n",
              "      <th>137319</th>\n",
              "      <td>Sastobook</td>\n",
              "      <td>ISBN: 9780008278427\\r\\nAuthor: Dalai Lama\\r\\nL...</td>\n",
              "      <td>Genres</td>\n",
              "      <td>Science Fiction</td>\n",
              "    </tr>\n",
              "    <tr>\n",
              "      <th>137320</th>\n",
              "      <td>Sastobook</td>\n",
              "      <td>ISBN: 9780143442479\\r\\nAuthor: Venkatesan Chan...</td>\n",
              "      <td>Genres</td>\n",
              "      <td>Science Fiction</td>\n",
              "    </tr>\n",
              "    <tr>\n",
              "      <th>137321</th>\n",
              "      <td>Sastobook</td>\n",
              "      <td>ISBN: 9789386348555\\r\\nAuthor: Rose Rosetree\\r...</td>\n",
              "      <td>Genres</td>\n",
              "      <td>Science Fiction</td>\n",
              "    </tr>\n",
              "    <tr>\n",
              "      <th>137322</th>\n",
              "      <td>Sastobook</td>\n",
              "      <td>ISBN: 9781444707861\\r\\nAuthor: Stephen King\\r\\...</td>\n",
              "      <td>Genres</td>\n",
              "      <td>Science Fiction</td>\n",
              "    </tr>\n",
              "    <tr>\n",
              "      <th>137323</th>\n",
              "      <td>Sastobook</td>\n",
              "      <td>ISBN: 9781848549609\\r\\nAuthor: Keller Gary &amp; P...</td>\n",
              "      <td>Genres</td>\n",
              "      <td>Science Fiction</td>\n",
              "    </tr>\n",
              "    <tr>\n",
              "      <th>137324</th>\n",
              "      <td>Sastobook</td>\n",
              "      <td>ISBN: 9781408855652\\r\\nAuthor: J. K. Rowling\\r...</td>\n",
              "      <td>Genres</td>\n",
              "      <td>Science Fiction</td>\n",
              "    </tr>\n",
              "    <tr>\n",
              "      <th>137325</th>\n",
              "      <td>Sastobook</td>\n",
              "      <td>ISBN: 9789384898403\\r\\nAuthor: John Green\\r\\nL...</td>\n",
              "      <td>Genres</td>\n",
              "      <td>Science Fiction</td>\n",
              "    </tr>\n",
              "    <tr>\n",
              "      <th>137326</th>\n",
              "      <td>Sastobook</td>\n",
              "      <td>ISBN: 9780141979090\\r\\nAuthor: Steven Pinker\\r...</td>\n",
              "      <td>Genres</td>\n",
              "      <td>Science Fiction</td>\n",
              "    </tr>\n",
              "    <tr>\n",
              "      <th>137327</th>\n",
              "      <td>Sastobook</td>\n",
              "      <td>ISBN: 9788126568192\\r\\nAuthor: RAM CHARAN\\r\\nL...</td>\n",
              "      <td>Genres</td>\n",
              "      <td>Science Fiction</td>\n",
              "    </tr>\n",
              "    <tr>\n",
              "      <th>137328</th>\n",
              "      <td>Sastobook</td>\n",
              "      <td>ISBN: 9780099302780\\r\\nAuthor: Diamond Jared\\r...</td>\n",
              "      <td>Genres</td>\n",
              "      <td>Science Fiction</td>\n",
              "    </tr>\n",
              "    <tr>\n",
              "      <th>137329</th>\n",
              "      <td>Sastobook</td>\n",
              "      <td>ISBN: 9788191067378\\r\\nAuthor: Malhotra Rajiv ...</td>\n",
              "      <td>Genres</td>\n",
              "      <td>Science Fiction</td>\n",
              "    </tr>\n",
              "  </tbody>\n",
              "</table>\n",
              "<p>136832 rows × 4 columns</p>\n",
              "</div>"
            ],
            "text/plain": [
              "         category  ...             subSubCategory\n",
              "0           Women  ...          Sarees & Lehengas\n",
              "1           Women  ...          Sarees & Lehengas\n",
              "2           Women  ...          Sarees & Lehengas\n",
              "3           Women  ...          Sarees & Lehengas\n",
              "4           Women  ...          Sarees & Lehengas\n",
              "5           Women  ...          Sarees & Lehengas\n",
              "6           Women  ...          Sarees & Lehengas\n",
              "7           Women  ...          Sarees & Lehengas\n",
              "8           Women  ...          Sarees & Lehengas\n",
              "9           Women  ...          Sarees & Lehengas\n",
              "10          Women  ...          Sarees & Lehengas\n",
              "11          Women  ...          Sarees & Lehengas\n",
              "12          Women  ...          Sarees & Lehengas\n",
              "13          Women  ...          Sarees & Lehengas\n",
              "14          Women  ...          Sarees & Lehengas\n",
              "15          Women  ...          Sarees & Lehengas\n",
              "16          Women  ...          Sarees & Lehengas\n",
              "17          Women  ...          Sarees & Lehengas\n",
              "18          Women  ...          Sarees & Lehengas\n",
              "19          Women  ...          Sarees & Lehengas\n",
              "20          Women  ...          Sarees & Lehengas\n",
              "21          Women  ...          Sarees & Lehengas\n",
              "22          Women  ...          Sarees & Lehengas\n",
              "23          Women  ...          Sarees & Lehengas\n",
              "24          Women  ...          Sarees & Lehengas\n",
              "25          Women  ...          Sarees & Lehengas\n",
              "26          Women  ...          Sarees & Lehengas\n",
              "27          Women  ...  Kurti Kurta and Kurta Set\n",
              "28          Women  ...  Kurti Kurta and Kurta Set\n",
              "29          Women  ...  Kurti Kurta and Kurta Set\n",
              "...           ...  ...                        ...\n",
              "137300  Sastobook  ...            Science Fiction\n",
              "137301  Sastobook  ...            Science Fiction\n",
              "137302  Sastobook  ...            Science Fiction\n",
              "137303  Sastobook  ...            Science Fiction\n",
              "137304  Sastobook  ...            Science Fiction\n",
              "137305  Sastobook  ...            Science Fiction\n",
              "137306  Sastobook  ...            Science Fiction\n",
              "137307  Sastobook  ...            Science Fiction\n",
              "137308  Sastobook  ...            Science Fiction\n",
              "137309  Sastobook  ...            Science Fiction\n",
              "137310  Sastobook  ...            Science Fiction\n",
              "137311  Sastobook  ...            Science Fiction\n",
              "137312  Sastobook  ...            Science Fiction\n",
              "137313  Sastobook  ...            Science Fiction\n",
              "137314  Sastobook  ...            Science Fiction\n",
              "137315  Sastobook  ...            Science Fiction\n",
              "137316  Sastobook  ...            Science Fiction\n",
              "137317  Sastobook  ...            Science Fiction\n",
              "137318  Sastobook  ...            Science Fiction\n",
              "137319  Sastobook  ...            Science Fiction\n",
              "137320  Sastobook  ...            Science Fiction\n",
              "137321  Sastobook  ...            Science Fiction\n",
              "137322  Sastobook  ...            Science Fiction\n",
              "137323  Sastobook  ...            Science Fiction\n",
              "137324  Sastobook  ...            Science Fiction\n",
              "137325  Sastobook  ...            Science Fiction\n",
              "137326  Sastobook  ...            Science Fiction\n",
              "137327  Sastobook  ...            Science Fiction\n",
              "137328  Sastobook  ...            Science Fiction\n",
              "137329  Sastobook  ...            Science Fiction\n",
              "\n",
              "[136832 rows x 4 columns]"
            ]
          },
          "metadata": {
            "tags": []
          },
          "execution_count": 10
        }
      ]
    },
    {
      "cell_type": "code",
      "metadata": {
        "id": "JA5ZOaajYIsW",
        "colab_type": "code",
        "colab": {}
      },
      "source": [
        ""
      ],
      "execution_count": 0,
      "outputs": []
    },
    {
      "cell_type": "markdown",
      "metadata": {
        "id": "YS8m4uH2YM5L",
        "colab_type": "text"
      },
      "source": [
        "cleaning the data"
      ]
    },
    {
      "cell_type": "code",
      "metadata": {
        "id": "IaVd1CWVYO7U",
        "colab_type": "code",
        "outputId": "590226d0-2583-4d73-c5fa-d6d097948ceb",
        "colab": {
          "base_uri": "https://localhost:8080/",
          "height": 204
        }
      },
      "source": [
        "#lowercase\n",
        "use_data['details'] = use_data['details'].apply(lambda x: \" \".join(x.lower() for x in x.split()))\n",
        "use_data.head()\n"
      ],
      "execution_count": 0,
      "outputs": [
        {
          "output_type": "execute_result",
          "data": {
            "text/html": [
              "<div>\n",
              "<style scoped>\n",
              "    .dataframe tbody tr th:only-of-type {\n",
              "        vertical-align: middle;\n",
              "    }\n",
              "\n",
              "    .dataframe tbody tr th {\n",
              "        vertical-align: top;\n",
              "    }\n",
              "\n",
              "    .dataframe thead th {\n",
              "        text-align: right;\n",
              "    }\n",
              "</style>\n",
              "<table border=\"1\" class=\"dataframe\">\n",
              "  <thead>\n",
              "    <tr style=\"text-align: right;\">\n",
              "      <th></th>\n",
              "      <th>category</th>\n",
              "      <th>details</th>\n",
              "      <th>subCategory</th>\n",
              "      <th>subSubCategory</th>\n",
              "    </tr>\n",
              "  </thead>\n",
              "  <tbody>\n",
              "    <tr>\n",
              "      <th>0</th>\n",
              "      <td>Women</td>\n",
              "      <td>designers piece</td>\n",
              "      <td>Clothing</td>\n",
              "      <td>Sarees &amp; Lehengas</td>\n",
              "    </tr>\n",
              "    <tr>\n",
              "      <th>1</th>\n",
              "      <td>Women</td>\n",
              "      <td>paper silk suit sleeveless dry clean technique...</td>\n",
              "      <td>Clothing</td>\n",
              "      <td>Sarees &amp; Lehengas</td>\n",
              "    </tr>\n",
              "    <tr>\n",
              "      <th>2</th>\n",
              "      <td>Women</td>\n",
              "      <td>thread and mirror work blouse chiffon sari seq...</td>\n",
              "      <td>Clothing</td>\n",
              "      <td>Sarees &amp; Lehengas</td>\n",
              "    </tr>\n",
              "    <tr>\n",
              "      <th>3</th>\n",
              "      <td>Women</td>\n",
              "      <td>gota work blouse chiffon sari golden lace disc...</td>\n",
              "      <td>Clothing</td>\n",
              "      <td>Sarees &amp; Lehengas</td>\n",
              "    </tr>\n",
              "    <tr>\n",
              "      <th>4</th>\n",
              "      <td>Women</td>\n",
              "      <td>sequence blouse chiffon sari thread lace discl...</td>\n",
              "      <td>Clothing</td>\n",
              "      <td>Sarees &amp; Lehengas</td>\n",
              "    </tr>\n",
              "  </tbody>\n",
              "</table>\n",
              "</div>"
            ],
            "text/plain": [
              "  category  ...     subSubCategory\n",
              "0    Women  ...  Sarees & Lehengas\n",
              "1    Women  ...  Sarees & Lehengas\n",
              "2    Women  ...  Sarees & Lehengas\n",
              "3    Women  ...  Sarees & Lehengas\n",
              "4    Women  ...  Sarees & Lehengas\n",
              "\n",
              "[5 rows x 4 columns]"
            ]
          },
          "metadata": {
            "tags": []
          },
          "execution_count": 11
        }
      ]
    },
    {
      "cell_type": "code",
      "metadata": {
        "id": "1mk3iVT_awSl",
        "colab_type": "code",
        "outputId": "e20f9c17-01c6-40be-fb8d-2240bc2b0d69",
        "colab": {
          "base_uri": "https://localhost:8080/",
          "height": 1969
        }
      },
      "source": [
        "#removing punctuations\n",
        "use_data['details'] = use_data['details'].str.replace('[^\\w\\s]','')\n",
        "use_data"
      ],
      "execution_count": 0,
      "outputs": [
        {
          "output_type": "execute_result",
          "data": {
            "text/html": [
              "<div>\n",
              "<style scoped>\n",
              "    .dataframe tbody tr th:only-of-type {\n",
              "        vertical-align: middle;\n",
              "    }\n",
              "\n",
              "    .dataframe tbody tr th {\n",
              "        vertical-align: top;\n",
              "    }\n",
              "\n",
              "    .dataframe thead th {\n",
              "        text-align: right;\n",
              "    }\n",
              "</style>\n",
              "<table border=\"1\" class=\"dataframe\">\n",
              "  <thead>\n",
              "    <tr style=\"text-align: right;\">\n",
              "      <th></th>\n",
              "      <th>category</th>\n",
              "      <th>details</th>\n",
              "      <th>subCategory</th>\n",
              "      <th>subSubCategory</th>\n",
              "    </tr>\n",
              "  </thead>\n",
              "  <tbody>\n",
              "    <tr>\n",
              "      <th>0</th>\n",
              "      <td>Women</td>\n",
              "      <td>designers piece</td>\n",
              "      <td>Clothing</td>\n",
              "      <td>Sarees &amp; Lehengas</td>\n",
              "    </tr>\n",
              "    <tr>\n",
              "      <th>1</th>\n",
              "      <td>Women</td>\n",
              "      <td>paper silk suit sleeveless dry clean technique...</td>\n",
              "      <td>Clothing</td>\n",
              "      <td>Sarees &amp; Lehengas</td>\n",
              "    </tr>\n",
              "    <tr>\n",
              "      <th>2</th>\n",
              "      <td>Women</td>\n",
              "      <td>thread and mirror work blouse chiffon sari seq...</td>\n",
              "      <td>Clothing</td>\n",
              "      <td>Sarees &amp; Lehengas</td>\n",
              "    </tr>\n",
              "    <tr>\n",
              "      <th>3</th>\n",
              "      <td>Women</td>\n",
              "      <td>gota work blouse chiffon sari golden lace disc...</td>\n",
              "      <td>Clothing</td>\n",
              "      <td>Sarees &amp; Lehengas</td>\n",
              "    </tr>\n",
              "    <tr>\n",
              "      <th>4</th>\n",
              "      <td>Women</td>\n",
              "      <td>sequence blouse chiffon sari thread lace discl...</td>\n",
              "      <td>Clothing</td>\n",
              "      <td>Sarees &amp; Lehengas</td>\n",
              "    </tr>\n",
              "    <tr>\n",
              "      <th>5</th>\n",
              "      <td>Women</td>\n",
              "      <td>brocade blouse chiffon sari gota lace disclaim...</td>\n",
              "      <td>Clothing</td>\n",
              "      <td>Sarees &amp; Lehengas</td>\n",
              "    </tr>\n",
              "    <tr>\n",
              "      <th>6</th>\n",
              "      <td>Women</td>\n",
              "      <td>georgette thread work blouse chiffon sari thre...</td>\n",
              "      <td>Clothing</td>\n",
              "      <td>Sarees &amp; Lehengas</td>\n",
              "    </tr>\n",
              "    <tr>\n",
              "      <th>7</th>\n",
              "      <td>Women</td>\n",
              "      <td>sequence blouse georgette stripe sari sequence...</td>\n",
              "      <td>Clothing</td>\n",
              "      <td>Sarees &amp; Lehengas</td>\n",
              "    </tr>\n",
              "    <tr>\n",
              "      <th>8</th>\n",
              "      <td>Women</td>\n",
              "      <td>raw silk blouse with stone work neck chiffon p...</td>\n",
              "      <td>Clothing</td>\n",
              "      <td>Sarees &amp; Lehengas</td>\n",
              "    </tr>\n",
              "    <tr>\n",
              "      <th>9</th>\n",
              "      <td>Women</td>\n",
              "      <td>brocade blouse crepe sari thread work lace dis...</td>\n",
              "      <td>Clothing</td>\n",
              "      <td>Sarees &amp; Lehengas</td>\n",
              "    </tr>\n",
              "    <tr>\n",
              "      <th>10</th>\n",
              "      <td>Women</td>\n",
              "      <td>net fabric zari work front cut vneck perfect w...</td>\n",
              "      <td>Clothing</td>\n",
              "      <td>Sarees &amp; Lehengas</td>\n",
              "    </tr>\n",
              "    <tr>\n",
              "      <th>11</th>\n",
              "      <td>Women</td>\n",
              "      <td>silk blouse georgette and banarasi sari thread...</td>\n",
              "      <td>Clothing</td>\n",
              "      <td>Sarees &amp; Lehengas</td>\n",
              "    </tr>\n",
              "    <tr>\n",
              "      <th>12</th>\n",
              "      <td>Women</td>\n",
              "      <td>silk thread work shirt cotton silk skirt with ...</td>\n",
              "      <td>Clothing</td>\n",
              "      <td>Sarees &amp; Lehengas</td>\n",
              "    </tr>\n",
              "    <tr>\n",
              "      <th>13</th>\n",
              "      <td>Women</td>\n",
              "      <td>gota work blouse georgette mukesh work sari wi...</td>\n",
              "      <td>Clothing</td>\n",
              "      <td>Sarees &amp; Lehengas</td>\n",
              "    </tr>\n",
              "    <tr>\n",
              "      <th>14</th>\n",
              "      <td>Women</td>\n",
              "      <td>linen floral blouse chiffon sari pearl and gol...</td>\n",
              "      <td>Clothing</td>\n",
              "      <td>Sarees &amp; Lehengas</td>\n",
              "    </tr>\n",
              "    <tr>\n",
              "      <th>15</th>\n",
              "      <td>Women</td>\n",
              "      <td>sequence blouse net and georgette sari sequenc...</td>\n",
              "      <td>Clothing</td>\n",
              "      <td>Sarees &amp; Lehengas</td>\n",
              "    </tr>\n",
              "    <tr>\n",
              "      <th>16</th>\n",
              "      <td>Women</td>\n",
              "      <td>golden zari blouse chiffon pearl work sari pan...</td>\n",
              "      <td>Clothing</td>\n",
              "      <td>Sarees &amp; Lehengas</td>\n",
              "    </tr>\n",
              "    <tr>\n",
              "      <th>17</th>\n",
              "      <td>Women</td>\n",
              "      <td>silk long kurti chinese collar net dupatta sil...</td>\n",
              "      <td>Clothing</td>\n",
              "      <td>Sarees &amp; Lehengas</td>\n",
              "    </tr>\n",
              "    <tr>\n",
              "      <th>18</th>\n",
              "      <td>Women</td>\n",
              "      <td>raw silk lehenga thread work net dupatta comes...</td>\n",
              "      <td>Clothing</td>\n",
              "      <td>Sarees &amp; Lehengas</td>\n",
              "    </tr>\n",
              "    <tr>\n",
              "      <th>19</th>\n",
              "      <td>Women</td>\n",
              "      <td>net fabric zari work front cut kurti uneck sil...</td>\n",
              "      <td>Clothing</td>\n",
              "      <td>Sarees &amp; Lehengas</td>\n",
              "    </tr>\n",
              "    <tr>\n",
              "      <th>20</th>\n",
              "      <td>Women</td>\n",
              "      <td>raw silk blouse net sequence dupatta kota silk...</td>\n",
              "      <td>Clothing</td>\n",
              "      <td>Sarees &amp; Lehengas</td>\n",
              "    </tr>\n",
              "    <tr>\n",
              "      <th>21</th>\n",
              "      <td>Women</td>\n",
              "      <td>georgette shirt banarasi silk dupatta banarasi...</td>\n",
              "      <td>Clothing</td>\n",
              "      <td>Sarees &amp; Lehengas</td>\n",
              "    </tr>\n",
              "    <tr>\n",
              "      <th>22</th>\n",
              "      <td>Women</td>\n",
              "      <td>silk fabric stone zari work blouse thread work...</td>\n",
              "      <td>Clothing</td>\n",
              "      <td>Sarees &amp; Lehengas</td>\n",
              "    </tr>\n",
              "    <tr>\n",
              "      <th>23</th>\n",
              "      <td>Women</td>\n",
              "      <td>banarasi blouse with lace chiffon sari golden ...</td>\n",
              "      <td>Clothing</td>\n",
              "      <td>Sarees &amp; Lehengas</td>\n",
              "    </tr>\n",
              "    <tr>\n",
              "      <th>24</th>\n",
              "      <td>Women</td>\n",
              "      <td>raw silk blouse georgette sequence dupatta ban...</td>\n",
              "      <td>Clothing</td>\n",
              "      <td>Sarees &amp; Lehengas</td>\n",
              "    </tr>\n",
              "    <tr>\n",
              "      <th>25</th>\n",
              "      <td>Women</td>\n",
              "      <td>banarasi cape net sequence dupatta with a gold...</td>\n",
              "      <td>Clothing</td>\n",
              "      <td>Sarees &amp; Lehengas</td>\n",
              "    </tr>\n",
              "    <tr>\n",
              "      <th>26</th>\n",
              "      <td>Women</td>\n",
              "      <td>banarasi silk and heavy blouse dupatta pure si...</td>\n",
              "      <td>Clothing</td>\n",
              "      <td>Sarees &amp; Lehengas</td>\n",
              "    </tr>\n",
              "    <tr>\n",
              "      <th>27</th>\n",
              "      <td>Women</td>\n",
              "      <td>fabric linen neck round sleeves quarter length...</td>\n",
              "      <td>Clothing</td>\n",
              "      <td>Kurti Kurta and Kurta Set</td>\n",
              "    </tr>\n",
              "    <tr>\n",
              "      <th>28</th>\n",
              "      <td>Women</td>\n",
              "      <td>fabric linen neck round sleeves quarter length...</td>\n",
              "      <td>Clothing</td>\n",
              "      <td>Kurti Kurta and Kurta Set</td>\n",
              "    </tr>\n",
              "    <tr>\n",
              "      <th>29</th>\n",
              "      <td>Women</td>\n",
              "      <td>chikan kurthi neck round sleeves quarter lengt...</td>\n",
              "      <td>Clothing</td>\n",
              "      <td>Kurti Kurta and Kurta Set</td>\n",
              "    </tr>\n",
              "    <tr>\n",
              "      <th>...</th>\n",
              "      <td>...</td>\n",
              "      <td>...</td>\n",
              "      <td>...</td>\n",
              "      <td>...</td>\n",
              "    </tr>\n",
              "    <tr>\n",
              "      <th>137300</th>\n",
              "      <td>Sastobook</td>\n",
              "      <td>isbn 9788126559572 author sweeney john imarets...</td>\n",
              "      <td>Genres</td>\n",
              "      <td>Science Fiction</td>\n",
              "    </tr>\n",
              "    <tr>\n",
              "      <th>137301</th>\n",
              "      <td>Sastobook</td>\n",
              "      <td>isbn 9780452298842 author cowen tyler binding ...</td>\n",
              "      <td>Genres</td>\n",
              "      <td>Science Fiction</td>\n",
              "    </tr>\n",
              "    <tr>\n",
              "      <th>137302</th>\n",
              "      <td>Sastobook</td>\n",
              "      <td>isbn 9781101980552 author blair ryan binding h...</td>\n",
              "      <td>Genres</td>\n",
              "      <td>Science Fiction</td>\n",
              "    </tr>\n",
              "    <tr>\n",
              "      <th>137303</th>\n",
              "      <td>Sastobook</td>\n",
              "      <td>isbn 9780007340774 author klein naomi binding ...</td>\n",
              "      <td>Genres</td>\n",
              "      <td>Science Fiction</td>\n",
              "    </tr>\n",
              "    <tr>\n",
              "      <th>137304</th>\n",
              "      <td>Sastobook</td>\n",
              "      <td>isbn 9780593073476 author kennedy pagan bindin...</td>\n",
              "      <td>Genres</td>\n",
              "      <td>Science Fiction</td>\n",
              "    </tr>\n",
              "    <tr>\n",
              "      <th>137305</th>\n",
              "      <td>Sastobook</td>\n",
              "      <td>isbn 9781595231239 author conrad edward bindin...</td>\n",
              "      <td>Genres</td>\n",
              "      <td>Science Fiction</td>\n",
              "    </tr>\n",
              "    <tr>\n",
              "      <th>137306</th>\n",
              "      <td>Sastobook</td>\n",
              "      <td>isbn 9780593060513 author mckenna paul binding...</td>\n",
              "      <td>Genres</td>\n",
              "      <td>Science Fiction</td>\n",
              "    </tr>\n",
              "    <tr>\n",
              "      <th>137307</th>\n",
              "      <td>Sastobook</td>\n",
              "      <td>isbn 9780753509630 author barrow paul binding ...</td>\n",
              "      <td>Genres</td>\n",
              "      <td>Science Fiction</td>\n",
              "    </tr>\n",
              "    <tr>\n",
              "      <th>137308</th>\n",
              "      <td>Sastobook</td>\n",
              "      <td>isbn 9781472259356 author atticus language eng...</td>\n",
              "      <td>Genres</td>\n",
              "      <td>Science Fiction</td>\n",
              "    </tr>\n",
              "    <tr>\n",
              "      <th>137309</th>\n",
              "      <td>Sastobook</td>\n",
              "      <td>author ernest hemingway isbn9780099908401 pape...</td>\n",
              "      <td>Genres</td>\n",
              "      <td>Science Fiction</td>\n",
              "    </tr>\n",
              "    <tr>\n",
              "      <th>137310</th>\n",
              "      <td>Sastobook</td>\n",
              "      <td>isbn 9788129142146 author bhagat chetan langua...</td>\n",
              "      <td>Genres</td>\n",
              "      <td>Science Fiction</td>\n",
              "    </tr>\n",
              "    <tr>\n",
              "      <th>137311</th>\n",
              "      <td>Sastobook</td>\n",
              "      <td>isbn 9788129135537 author chetan bhagat langua...</td>\n",
              "      <td>Genres</td>\n",
              "      <td>Science Fiction</td>\n",
              "    </tr>\n",
              "    <tr>\n",
              "      <th>137312</th>\n",
              "      <td>Sastobook</td>\n",
              "      <td>author carnegie dale isbn 9789386037756 publis...</td>\n",
              "      <td>Genres</td>\n",
              "      <td>Science Fiction</td>\n",
              "    </tr>\n",
              "    <tr>\n",
              "      <th>137313</th>\n",
              "      <td>Sastobook</td>\n",
              "      <td>isbn 9780312320768 author osho language englis...</td>\n",
              "      <td>Genres</td>\n",
              "      <td>Science Fiction</td>\n",
              "    </tr>\n",
              "    <tr>\n",
              "      <th>137314</th>\n",
              "      <td>Sastobook</td>\n",
              "      <td>isbn 9780553175219 author stephen hawking publ...</td>\n",
              "      <td>Genres</td>\n",
              "      <td>Science Fiction</td>\n",
              "    </tr>\n",
              "    <tr>\n",
              "      <th>137315</th>\n",
              "      <td>Sastobook</td>\n",
              "      <td>isbn 9789386348838 author robert butera erin b...</td>\n",
              "      <td>Genres</td>\n",
              "      <td>Science Fiction</td>\n",
              "    </tr>\n",
              "    <tr>\n",
              "      <th>137316</th>\n",
              "      <td>Sastobook</td>\n",
              "      <td>author larsson stieg publisher quercus publish...</td>\n",
              "      <td>Genres</td>\n",
              "      <td>Science Fiction</td>\n",
              "    </tr>\n",
              "    <tr>\n",
              "      <th>137317</th>\n",
              "      <td>Sastobook</td>\n",
              "      <td>isbn 9780552554107 author christopher paolini ...</td>\n",
              "      <td>Genres</td>\n",
              "      <td>Science Fiction</td>\n",
              "    </tr>\n",
              "    <tr>\n",
              "      <th>137318</th>\n",
              "      <td>Sastobook</td>\n",
              "      <td>author ravinder singh cover paperback language...</td>\n",
              "      <td>Genres</td>\n",
              "      <td>Science Fiction</td>\n",
              "    </tr>\n",
              "    <tr>\n",
              "      <th>137319</th>\n",
              "      <td>Sastobook</td>\n",
              "      <td>isbn 9780008278427 author dalai lama language ...</td>\n",
              "      <td>Genres</td>\n",
              "      <td>Science Fiction</td>\n",
              "    </tr>\n",
              "    <tr>\n",
              "      <th>137320</th>\n",
              "      <td>Sastobook</td>\n",
              "      <td>isbn 9780143442479 author venkatesan chandramo...</td>\n",
              "      <td>Genres</td>\n",
              "      <td>Science Fiction</td>\n",
              "    </tr>\n",
              "    <tr>\n",
              "      <th>137321</th>\n",
              "      <td>Sastobook</td>\n",
              "      <td>isbn 9789386348555 author rose rosetree langua...</td>\n",
              "      <td>Genres</td>\n",
              "      <td>Science Fiction</td>\n",
              "    </tr>\n",
              "    <tr>\n",
              "      <th>137322</th>\n",
              "      <td>Sastobook</td>\n",
              "      <td>isbn 9781444707861 author stephen king languag...</td>\n",
              "      <td>Genres</td>\n",
              "      <td>Science Fiction</td>\n",
              "    </tr>\n",
              "    <tr>\n",
              "      <th>137323</th>\n",
              "      <td>Sastobook</td>\n",
              "      <td>isbn 9781848549609 author keller gary  papasan...</td>\n",
              "      <td>Genres</td>\n",
              "      <td>Science Fiction</td>\n",
              "    </tr>\n",
              "    <tr>\n",
              "      <th>137324</th>\n",
              "      <td>Sastobook</td>\n",
              "      <td>isbn 9781408855652 author j k rowling language...</td>\n",
              "      <td>Genres</td>\n",
              "      <td>Science Fiction</td>\n",
              "    </tr>\n",
              "    <tr>\n",
              "      <th>137325</th>\n",
              "      <td>Sastobook</td>\n",
              "      <td>isbn 9789384898403 author john green language ...</td>\n",
              "      <td>Genres</td>\n",
              "      <td>Science Fiction</td>\n",
              "    </tr>\n",
              "    <tr>\n",
              "      <th>137326</th>\n",
              "      <td>Sastobook</td>\n",
              "      <td>isbn 9780141979090 author steven pinker langua...</td>\n",
              "      <td>Genres</td>\n",
              "      <td>Science Fiction</td>\n",
              "    </tr>\n",
              "    <tr>\n",
              "      <th>137327</th>\n",
              "      <td>Sastobook</td>\n",
              "      <td>isbn 9788126568192 author ram charan language ...</td>\n",
              "      <td>Genres</td>\n",
              "      <td>Science Fiction</td>\n",
              "    </tr>\n",
              "    <tr>\n",
              "      <th>137328</th>\n",
              "      <td>Sastobook</td>\n",
              "      <td>isbn 9780099302780 author diamond jared langua...</td>\n",
              "      <td>Genres</td>\n",
              "      <td>Science Fiction</td>\n",
              "    </tr>\n",
              "    <tr>\n",
              "      <th>137329</th>\n",
              "      <td>Sastobook</td>\n",
              "      <td>isbn 9788191067378 author malhotra rajiv  neel...</td>\n",
              "      <td>Genres</td>\n",
              "      <td>Science Fiction</td>\n",
              "    </tr>\n",
              "  </tbody>\n",
              "</table>\n",
              "<p>136832 rows × 4 columns</p>\n",
              "</div>"
            ],
            "text/plain": [
              "         category  ...             subSubCategory\n",
              "0           Women  ...          Sarees & Lehengas\n",
              "1           Women  ...          Sarees & Lehengas\n",
              "2           Women  ...          Sarees & Lehengas\n",
              "3           Women  ...          Sarees & Lehengas\n",
              "4           Women  ...          Sarees & Lehengas\n",
              "5           Women  ...          Sarees & Lehengas\n",
              "6           Women  ...          Sarees & Lehengas\n",
              "7           Women  ...          Sarees & Lehengas\n",
              "8           Women  ...          Sarees & Lehengas\n",
              "9           Women  ...          Sarees & Lehengas\n",
              "10          Women  ...          Sarees & Lehengas\n",
              "11          Women  ...          Sarees & Lehengas\n",
              "12          Women  ...          Sarees & Lehengas\n",
              "13          Women  ...          Sarees & Lehengas\n",
              "14          Women  ...          Sarees & Lehengas\n",
              "15          Women  ...          Sarees & Lehengas\n",
              "16          Women  ...          Sarees & Lehengas\n",
              "17          Women  ...          Sarees & Lehengas\n",
              "18          Women  ...          Sarees & Lehengas\n",
              "19          Women  ...          Sarees & Lehengas\n",
              "20          Women  ...          Sarees & Lehengas\n",
              "21          Women  ...          Sarees & Lehengas\n",
              "22          Women  ...          Sarees & Lehengas\n",
              "23          Women  ...          Sarees & Lehengas\n",
              "24          Women  ...          Sarees & Lehengas\n",
              "25          Women  ...          Sarees & Lehengas\n",
              "26          Women  ...          Sarees & Lehengas\n",
              "27          Women  ...  Kurti Kurta and Kurta Set\n",
              "28          Women  ...  Kurti Kurta and Kurta Set\n",
              "29          Women  ...  Kurti Kurta and Kurta Set\n",
              "...           ...  ...                        ...\n",
              "137300  Sastobook  ...            Science Fiction\n",
              "137301  Sastobook  ...            Science Fiction\n",
              "137302  Sastobook  ...            Science Fiction\n",
              "137303  Sastobook  ...            Science Fiction\n",
              "137304  Sastobook  ...            Science Fiction\n",
              "137305  Sastobook  ...            Science Fiction\n",
              "137306  Sastobook  ...            Science Fiction\n",
              "137307  Sastobook  ...            Science Fiction\n",
              "137308  Sastobook  ...            Science Fiction\n",
              "137309  Sastobook  ...            Science Fiction\n",
              "137310  Sastobook  ...            Science Fiction\n",
              "137311  Sastobook  ...            Science Fiction\n",
              "137312  Sastobook  ...            Science Fiction\n",
              "137313  Sastobook  ...            Science Fiction\n",
              "137314  Sastobook  ...            Science Fiction\n",
              "137315  Sastobook  ...            Science Fiction\n",
              "137316  Sastobook  ...            Science Fiction\n",
              "137317  Sastobook  ...            Science Fiction\n",
              "137318  Sastobook  ...            Science Fiction\n",
              "137319  Sastobook  ...            Science Fiction\n",
              "137320  Sastobook  ...            Science Fiction\n",
              "137321  Sastobook  ...            Science Fiction\n",
              "137322  Sastobook  ...            Science Fiction\n",
              "137323  Sastobook  ...            Science Fiction\n",
              "137324  Sastobook  ...            Science Fiction\n",
              "137325  Sastobook  ...            Science Fiction\n",
              "137326  Sastobook  ...            Science Fiction\n",
              "137327  Sastobook  ...            Science Fiction\n",
              "137328  Sastobook  ...            Science Fiction\n",
              "137329  Sastobook  ...            Science Fiction\n",
              "\n",
              "[136832 rows x 4 columns]"
            ]
          },
          "metadata": {
            "tags": []
          },
          "execution_count": 12
        }
      ]
    },
    {
      "cell_type": "code",
      "metadata": {
        "id": "Nd4Ns7xlg-0i",
        "colab_type": "code",
        "colab": {}
      },
      "source": [
        "use_data['details'] = use_data['details'].str.replace(r'\\d+','')"
      ],
      "execution_count": 0,
      "outputs": []
    },
    {
      "cell_type": "code",
      "metadata": {
        "id": "4MjbMzVZbGMc",
        "colab_type": "code",
        "outputId": "3b49eb4a-78bb-4f50-b15b-923930de8b6a",
        "colab": {
          "base_uri": "https://localhost:8080/",
          "height": 221
        }
      },
      "source": [
        "use_data['category'].value_counts()"
      ],
      "execution_count": 0,
      "outputs": [
        {
          "output_type": "execute_result",
          "data": {
            "text/plain": [
              "Home and Living         63198\n",
              "Electronics             31520\n",
              "Sastobook               16220\n",
              "Kids                     7751\n",
              "Activities               5468\n",
              "Auto                     4440\n",
              "Health and Fitness       3075\n",
              "Grocery and Crockery     2344\n",
              "Women                    1806\n",
              "Men                       805\n",
              "Pet Supplies              205\n",
              "Name: category, dtype: int64"
            ]
          },
          "metadata": {
            "tags": []
          },
          "execution_count": 14
        }
      ]
    },
    {
      "cell_type": "code",
      "metadata": {
        "id": "fEpItIWycIM8",
        "colab_type": "code",
        "outputId": "e22fc22c-0140-4dbd-eeba-a3d433d02af2",
        "colab": {
          "base_uri": "https://localhost:8080/",
          "height": 1071
        }
      },
      "source": [
        "use_data.duplicated()"
      ],
      "execution_count": 0,
      "outputs": [
        {
          "output_type": "execute_result",
          "data": {
            "text/plain": [
              "0         False\n",
              "1         False\n",
              "2         False\n",
              "3         False\n",
              "4         False\n",
              "5         False\n",
              "6         False\n",
              "7         False\n",
              "8         False\n",
              "9         False\n",
              "10        False\n",
              "11        False\n",
              "12        False\n",
              "13        False\n",
              "14        False\n",
              "15        False\n",
              "16        False\n",
              "17        False\n",
              "18        False\n",
              "19        False\n",
              "20        False\n",
              "21        False\n",
              "22        False\n",
              "23        False\n",
              "24        False\n",
              "25        False\n",
              "26        False\n",
              "27        False\n",
              "28         True\n",
              "29        False\n",
              "          ...  \n",
              "137300    False\n",
              "137301    False\n",
              "137302    False\n",
              "137303    False\n",
              "137304    False\n",
              "137305    False\n",
              "137306    False\n",
              "137307    False\n",
              "137308    False\n",
              "137309    False\n",
              "137310    False\n",
              "137311    False\n",
              "137312    False\n",
              "137313    False\n",
              "137314    False\n",
              "137315    False\n",
              "137316    False\n",
              "137317    False\n",
              "137318    False\n",
              "137319    False\n",
              "137320    False\n",
              "137321    False\n",
              "137322    False\n",
              "137323    False\n",
              "137324    False\n",
              "137325    False\n",
              "137326    False\n",
              "137327    False\n",
              "137328    False\n",
              "137329    False\n",
              "Length: 136832, dtype: bool"
            ]
          },
          "metadata": {
            "tags": []
          },
          "execution_count": 15
        }
      ]
    },
    {
      "cell_type": "code",
      "metadata": {
        "id": "H55cVhzmdWOd",
        "colab_type": "code",
        "outputId": "46a2fbe9-b6a4-40ad-cc5b-858f39c07c70",
        "colab": {
          "base_uri": "https://localhost:8080/",
          "height": 34
        }
      },
      "source": [
        "use_data.duplicated(subset=['details', 'category'], keep='first').sum()"
      ],
      "execution_count": 0,
      "outputs": [
        {
          "output_type": "execute_result",
          "data": {
            "text/plain": [
              "128141"
            ]
          },
          "metadata": {
            "tags": []
          },
          "execution_count": 16
        }
      ]
    },
    {
      "cell_type": "code",
      "metadata": {
        "id": "UoItpJlrfAKU",
        "colab_type": "code",
        "colab": {}
      },
      "source": [
        "use_data = use_data.drop_duplicates()"
      ],
      "execution_count": 0,
      "outputs": []
    },
    {
      "cell_type": "code",
      "metadata": {
        "id": "5zGohxydfSby",
        "colab_type": "code",
        "outputId": "ca635e99-b4c3-499f-cb6f-de565b988147",
        "colab": {
          "base_uri": "https://localhost:8080/",
          "height": 170
        }
      },
      "source": [
        "use_data.info()"
      ],
      "execution_count": 0,
      "outputs": [
        {
          "output_type": "stream",
          "text": [
            "<class 'pandas.core.frame.DataFrame'>\n",
            "Int64Index: 77965 entries, 0 to 137329\n",
            "Data columns (total 4 columns):\n",
            "category          77965 non-null object\n",
            "details           77965 non-null object\n",
            "subCategory       77965 non-null object\n",
            "subSubCategory    77965 non-null object\n",
            "dtypes: object(4)\n",
            "memory usage: 3.0+ MB\n"
          ],
          "name": "stdout"
        }
      ]
    },
    {
      "cell_type": "code",
      "metadata": {
        "id": "opDXUVAAfVOY",
        "colab_type": "code",
        "colab": {}
      },
      "source": [
        "data1 = use_data[['details', 'category']] "
      ],
      "execution_count": 0,
      "outputs": []
    },
    {
      "cell_type": "code",
      "metadata": {
        "id": "fSo1wLaTf3HJ",
        "colab_type": "code",
        "colab": {}
      },
      "source": [
        "data1 = data1.drop_duplicates()"
      ],
      "execution_count": 0,
      "outputs": []
    },
    {
      "cell_type": "code",
      "metadata": {
        "id": "yCqQZrFwf8va",
        "colab_type": "code",
        "outputId": "c6a4d4dd-7883-40b6-c74c-46d87948d9b0",
        "colab": {
          "base_uri": "https://localhost:8080/",
          "height": 136
        }
      },
      "source": [
        "data1.info()"
      ],
      "execution_count": 0,
      "outputs": [
        {
          "output_type": "stream",
          "text": [
            "<class 'pandas.core.frame.DataFrame'>\n",
            "Int64Index: 8691 entries, 0 to 137188\n",
            "Data columns (total 2 columns):\n",
            "details     8691 non-null object\n",
            "category    8691 non-null object\n",
            "dtypes: object(2)\n",
            "memory usage: 203.7+ KB\n"
          ],
          "name": "stdout"
        }
      ]
    },
    {
      "cell_type": "code",
      "metadata": {
        "id": "OLwsUhcSf-9D",
        "colab_type": "code",
        "colab": {}
      },
      "source": [
        "data1['details'] = data1['details'].str.strip()"
      ],
      "execution_count": 0,
      "outputs": []
    },
    {
      "cell_type": "code",
      "metadata": {
        "id": "4b0hZ1ztgSKM",
        "colab_type": "code",
        "colab": {}
      },
      "source": [
        "data1['details'] = data1['details'].str.lstrip()\n",
        "data1['details'] = data1['details'].str.rstrip()"
      ],
      "execution_count": 0,
      "outputs": []
    },
    {
      "cell_type": "code",
      "metadata": {
        "id": "qQgHtRYYgWo7",
        "colab_type": "code",
        "outputId": "1f35c09e-d132-4b0f-8a50-675cd8e2569b",
        "colab": {
          "base_uri": "https://localhost:8080/",
          "height": 204
        }
      },
      "source": [
        "data1.head()"
      ],
      "execution_count": 0,
      "outputs": [
        {
          "output_type": "execute_result",
          "data": {
            "text/html": [
              "<div>\n",
              "<style scoped>\n",
              "    .dataframe tbody tr th:only-of-type {\n",
              "        vertical-align: middle;\n",
              "    }\n",
              "\n",
              "    .dataframe tbody tr th {\n",
              "        vertical-align: top;\n",
              "    }\n",
              "\n",
              "    .dataframe thead th {\n",
              "        text-align: right;\n",
              "    }\n",
              "</style>\n",
              "<table border=\"1\" class=\"dataframe\">\n",
              "  <thead>\n",
              "    <tr style=\"text-align: right;\">\n",
              "      <th></th>\n",
              "      <th>details</th>\n",
              "      <th>category</th>\n",
              "    </tr>\n",
              "  </thead>\n",
              "  <tbody>\n",
              "    <tr>\n",
              "      <th>0</th>\n",
              "      <td>designers piece</td>\n",
              "      <td>Women</td>\n",
              "    </tr>\n",
              "    <tr>\n",
              "      <th>1</th>\n",
              "      <td>paper silk suit sleeveless dry clean technique...</td>\n",
              "      <td>Women</td>\n",
              "    </tr>\n",
              "    <tr>\n",
              "      <th>2</th>\n",
              "      <td>thread and mirror work blouse chiffon sari seq...</td>\n",
              "      <td>Women</td>\n",
              "    </tr>\n",
              "    <tr>\n",
              "      <th>3</th>\n",
              "      <td>gota work blouse chiffon sari golden lace disc...</td>\n",
              "      <td>Women</td>\n",
              "    </tr>\n",
              "    <tr>\n",
              "      <th>4</th>\n",
              "      <td>sequence blouse chiffon sari thread lace discl...</td>\n",
              "      <td>Women</td>\n",
              "    </tr>\n",
              "  </tbody>\n",
              "</table>\n",
              "</div>"
            ],
            "text/plain": [
              "                                             details category\n",
              "0                                    designers piece    Women\n",
              "1  paper silk suit sleeveless dry clean technique...    Women\n",
              "2  thread and mirror work blouse chiffon sari seq...    Women\n",
              "3  gota work blouse chiffon sari golden lace disc...    Women\n",
              "4  sequence blouse chiffon sari thread lace discl...    Women"
            ]
          },
          "metadata": {
            "tags": []
          },
          "execution_count": 24
        }
      ]
    },
    {
      "cell_type": "code",
      "metadata": {
        "id": "ymsRWJmYgZHS",
        "colab_type": "code",
        "outputId": "8c62f14a-03ad-4cf8-be2e-f3de9a287c1d",
        "colab": {
          "base_uri": "https://localhost:8080/",
          "height": 221
        }
      },
      "source": [
        "data1['category'].value_counts()"
      ],
      "execution_count": 0,
      "outputs": [
        {
          "output_type": "execute_result",
          "data": {
            "text/plain": [
              "Electronics             1789\n",
              "Sastobook               1783\n",
              "Women                   1113\n",
              "Home and Living          994\n",
              "Health and Fitness       631\n",
              "Kids                     550\n",
              "Activities               498\n",
              "Auto                     491\n",
              "Grocery and Crockery     483\n",
              "Men                      211\n",
              "Pet Supplies             148\n",
              "Name: category, dtype: int64"
            ]
          },
          "metadata": {
            "tags": []
          },
          "execution_count": 25
        }
      ]
    },
    {
      "cell_type": "code",
      "metadata": {
        "id": "LsbEm7wIi1B-",
        "colab_type": "code",
        "colab": {}
      },
      "source": [
        "from sklearn.feature_extraction.text import CountVectorizer\n",
        "from nltk.tokenize import RegexpTokenizer\n",
        "#tokenizer to remove unwanted elements from out data like symbols and numbers\n",
        "token = RegexpTokenizer(r'[a-zA-Z0-9]+')\n",
        "cv = CountVectorizer(lowercase=True,stop_words='english',ngram_range = (1,1),tokenizer = token.tokenize)\n",
        "text_counts= cv.fit_transform(data1['details'])"
      ],
      "execution_count": 0,
      "outputs": []
    },
    {
      "cell_type": "code",
      "metadata": {
        "id": "OlXuYnbWkZYo",
        "colab_type": "code",
        "colab": {}
      },
      "source": [
        "from sklearn.model_selection import train_test_split\n",
        "X_train, X_test, y_train, y_test = train_test_split(text_counts, data1['category'], test_size=0.3, random_state=1)"
      ],
      "execution_count": 0,
      "outputs": []
    },
    {
      "cell_type": "code",
      "metadata": {
        "id": "FwB3ohcDkqS3",
        "colab_type": "code",
        "outputId": "e0b6ff6e-f164-4c46-f4f5-e7246f5276ff",
        "colab": {
          "base_uri": "https://localhost:8080/",
          "height": 34
        }
      },
      "source": [
        "from sklearn.naive_bayes import MultinomialNB\n",
        "#Import scikit-learn metrics module for accuracy calculation\n",
        "from sklearn import metrics\n",
        "# Model Generation Using Multinomial Naive Bayes\n",
        "clf = MultinomialNB().fit(X_train, y_train)\n",
        "predicted= clf.predict(X_test)\n",
        "print(\"MultinomialNB Accuracy:\",metrics.accuracy_score(y_test, predicted))"
      ],
      "execution_count": 0,
      "outputs": [
        {
          "output_type": "stream",
          "text": [
            "MultinomialNB Accuracy: 0.5352760736196319\n"
          ],
          "name": "stdout"
        }
      ]
    },
    {
      "cell_type": "code",
      "metadata": {
        "id": "tugHYnv-kwp5",
        "colab_type": "code",
        "outputId": "281ec378-54fb-4c56-eec2-29c4b0a91ae7",
        "colab": {
          "base_uri": "https://localhost:8080/",
          "height": 323
        }
      },
      "source": [
        "from sklearn.metrics import classification_report\n",
        "print(classification_report(y_test,predicted)) "
      ],
      "execution_count": 0,
      "outputs": [
        {
          "output_type": "stream",
          "text": [
            "                      precision    recall  f1-score   support\n",
            "\n",
            "          Activities       0.00      0.00      0.00       154\n",
            "                Auto       0.00      0.00      0.00       145\n",
            "         Electronics       0.88      0.68      0.76       541\n",
            "Grocery and Crockery       0.02      0.01      0.01       155\n",
            "  Health and Fitness       0.06      0.07      0.07       202\n",
            "     Home and Living       0.22      0.47      0.30       314\n",
            "                Kids       0.72      0.87      0.79       167\n",
            "                 Men       0.97      0.81      0.88        70\n",
            "        Pet Supplies       0.00      0.00      0.00        46\n",
            "           Sastobook       1.00      0.73      0.85       513\n",
            "               Women       0.85      0.95      0.89       301\n",
            "\n",
            "            accuracy                           0.54      2608\n",
            "           macro avg       0.43      0.42      0.41      2608\n",
            "        weighted avg       0.58      0.54      0.54      2608\n",
            "\n"
          ],
          "name": "stdout"
        }
      ]
    },
    {
      "cell_type": "code",
      "metadata": {
        "id": "Bu3MtT72lNKC",
        "colab_type": "code",
        "colab": {}
      },
      "source": [
        ""
      ],
      "execution_count": 0,
      "outputs": []
    },
    {
      "cell_type": "markdown",
      "metadata": {
        "id": "a2I2umAulkCd",
        "colab_type": "text"
      },
      "source": [
        "he\n"
      ]
    },
    {
      "cell_type": "code",
      "metadata": {
        "id": "N8ainKfwlmpG",
        "colab_type": "code",
        "colab": {}
      },
      "source": [
        "from sklearn.feature_extraction.text import TfidfVectorizer\n",
        "tf=TfidfVectorizer()\n",
        "text_tf= tf.fit_transform(data1['details'])"
      ],
      "execution_count": 0,
      "outputs": []
    },
    {
      "cell_type": "code",
      "metadata": {
        "id": "-N5yYVbjl5Mq",
        "colab_type": "code",
        "colab": {}
      },
      "source": [
        "X_train, X_test, y_train, y_test = train_test_split(text_tf, data1['category'], test_size=0.3, random_state=123)"
      ],
      "execution_count": 0,
      "outputs": []
    },
    {
      "cell_type": "code",
      "metadata": {
        "id": "P-Xi4rS_mEyi",
        "colab_type": "code",
        "outputId": "226cee8b-af7f-44c6-b22d-730a34dff172",
        "colab": {
          "base_uri": "https://localhost:8080/",
          "height": 34
        }
      },
      "source": [
        "# Model Generation Using Multinomial Naive Bayes\n",
        "clf = MultinomialNB().fit(X_train, y_train)\n",
        "predicted= clf.predict(X_test)\n",
        "print(\"MultinomialNB Accuracy:\",metrics.accuracy_score(y_test, predicted))"
      ],
      "execution_count": 0,
      "outputs": [
        {
          "output_type": "stream",
          "text": [
            "MultinomialNB Accuracy: 0.5218558282208589\n"
          ],
          "name": "stdout"
        }
      ]
    },
    {
      "cell_type": "code",
      "metadata": {
        "id": "4TxCB33zmJCQ",
        "colab_type": "code",
        "outputId": "74a0c6eb-915a-4c8d-cdac-56362e933851",
        "colab": {
          "base_uri": "https://localhost:8080/",
          "height": 377
        }
      },
      "source": [
        "print(classification_report(y_test,predicted)) "
      ],
      "execution_count": 0,
      "outputs": [
        {
          "output_type": "stream",
          "text": [
            "                      precision    recall  f1-score   support\n",
            "\n",
            "          Activities       0.00      0.00      0.00       151\n",
            "                Auto       0.00      0.00      0.00       140\n",
            "         Electronics       0.52      0.85      0.65       524\n",
            "Grocery and Crockery       0.00      0.00      0.00       166\n",
            "  Health and Fitness       0.00      0.00      0.00       179\n",
            "     Home and Living       0.18      0.51      0.27       290\n",
            "                Kids       0.87      0.36      0.51       166\n",
            "                 Men       0.00      0.00      0.00        65\n",
            "        Pet Supplies       0.00      0.00      0.00        57\n",
            "           Sastobook       0.85      0.73      0.78       536\n",
            "               Women       0.76      0.95      0.84       334\n",
            "\n",
            "            accuracy                           0.52      2608\n",
            "           macro avg       0.29      0.31      0.28      2608\n",
            "        weighted avg       0.45      0.52      0.46      2608\n",
            "\n"
          ],
          "name": "stdout"
        },
        {
          "output_type": "stream",
          "text": [
            "/usr/local/lib/python3.6/dist-packages/sklearn/metrics/classification.py:1437: UndefinedMetricWarning: Precision and F-score are ill-defined and being set to 0.0 in labels with no predicted samples.\n",
            "  'precision', 'predicted', average, warn_for)\n"
          ],
          "name": "stderr"
        }
      ]
    },
    {
      "cell_type": "code",
      "metadata": {
        "id": "AVyFXqSXmhuF",
        "colab_type": "code",
        "colab": {}
      },
      "source": [
        "import numpy as np  \n",
        "import re "
      ],
      "execution_count": 0,
      "outputs": []
    },
    {
      "cell_type": "markdown",
      "metadata": {
        "id": "4PdOtoe6nbWb",
        "colab_type": "text"
      },
      "source": [
        "using nltk"
      ]
    },
    {
      "cell_type": "code",
      "metadata": {
        "id": "eWcmuu09ndTJ",
        "colab_type": "code",
        "outputId": "b4a0224d-9d9f-4dcb-8176-bb0f884c7e96",
        "colab": {
          "base_uri": "https://localhost:8080/",
          "height": 102
        }
      },
      "source": [
        "import nltk\n",
        "from nltk.stem import WordNetLemmatizer\n",
        "nltk.download('stopwords')\n",
        "nltk.download('wordnet')"
      ],
      "execution_count": 0,
      "outputs": [
        {
          "output_type": "stream",
          "text": [
            "[nltk_data] Downloading package stopwords to /root/nltk_data...\n",
            "[nltk_data]   Unzipping corpora/stopwords.zip.\n",
            "[nltk_data] Downloading package wordnet to /root/nltk_data...\n",
            "[nltk_data]   Unzipping corpora/wordnet.zip.\n"
          ],
          "name": "stdout"
        },
        {
          "output_type": "execute_result",
          "data": {
            "text/plain": [
              "True"
            ]
          },
          "metadata": {
            "tags": []
          },
          "execution_count": 35
        }
      ]
    },
    {
      "cell_type": "markdown",
      "metadata": {
        "id": "FQ3uhPY1XdMD",
        "colab_type": "text"
      },
      "source": [
        ""
      ]
    },
    {
      "cell_type": "markdown",
      "metadata": {
        "id": "YK1vV3_dnk1T",
        "colab_type": "text"
      },
      "source": [
        "removal of stop words"
      ]
    },
    {
      "cell_type": "code",
      "metadata": {
        "id": "KpP0JbaxnmV7",
        "colab_type": "code",
        "outputId": "c466c92c-a506-406f-b4e6-707594d6e40f",
        "colab": {
          "base_uri": "https://localhost:8080/",
          "height": 119
        }
      },
      "source": [
        "from nltk.corpus import stopwords\n",
        "stop = stopwords.words('english')\n",
        "data1['details'] = data1['details'].apply(lambda x: \" \".join(x for x in x.split() if x not in stop))\n",
        "data1['details'].head()"
      ],
      "execution_count": 0,
      "outputs": [
        {
          "output_type": "execute_result",
          "data": {
            "text/plain": [
              "0                                      designers piece\n",
              "1    paper silk suit sleeveless dry clean technique...\n",
              "2    thread mirror work blouse chiffon sari sequenc...\n",
              "3    gota work blouse chiffon sari golden lace disc...\n",
              "4    sequence blouse chiffon sari thread lace discl...\n",
              "Name: details, dtype: object"
            ]
          },
          "metadata": {
            "tags": []
          },
          "execution_count": 36
        }
      ]
    },
    {
      "cell_type": "markdown",
      "metadata": {
        "id": "-RNlnDKDoIwR",
        "colab_type": "text"
      },
      "source": [
        "rarely occuring words"
      ]
    },
    {
      "cell_type": "code",
      "metadata": {
        "id": "Cj3pmj0roKYo",
        "colab_type": "code",
        "outputId": "dbf0cf33-f118-4d77-8b46-94b31bc23c54",
        "colab": {
          "base_uri": "https://localhost:8080/",
          "height": 204
        }
      },
      "source": [
        "freq = pd.Series(' '.join(data1['details']).split()).value_counts()[-10:]\n",
        "freq"
      ],
      "execution_count": 0,
      "outputs": [
        {
          "output_type": "execute_result",
          "data": {
            "text/plain": [
              "glamorous                        1\n",
              "metrified                        1\n",
              "roane                            1\n",
              "liquids                          1\n",
              "arabic                           1\n",
              "enhancing                        1\n",
              "restickable                      1\n",
              "eagle                            1\n",
              "acrylonitrilebutadienestyrene    1\n",
              "papaya                           1\n",
              "dtype: int64"
            ]
          },
          "metadata": {
            "tags": []
          },
          "execution_count": 37
        }
      ]
    },
    {
      "cell_type": "code",
      "metadata": {
        "id": "-tRFSjWUoPz7",
        "colab_type": "code",
        "colab": {}
      },
      "source": [
        "def data_preprocessing(X):\n",
        "  documents = []\n",
        "  # X = data1['details']\n",
        "\n",
        "  stemmer = WordNetLemmatizer()\n",
        "\n",
        "  for i in X:  \n",
        "      \n",
        "      document = str(i)\n",
        "      # Remove all the special characters\n",
        "      document = re.sub(r'\\W', ' ', document) \n",
        "\n",
        "      # remove all single characters\n",
        "      document = re.sub(r'\\s+[a-zA-Z]\\s+', ' ', document)\n",
        "\n",
        "      #remove all the nos\n",
        "      address = re.sub(r'^[\\d-]+ ', '', document)\n",
        "\n",
        "      # Remove single characters from the start\n",
        "      document = re.sub(r'\\^[a-zA-Z]\\s+', '', document) \n",
        "\n",
        "      # Substituting multiple spaces with single space\n",
        "      document = re.sub(r'\\s+', ' ', document, flags=re.I)\n",
        "      \n",
        "      document = document.strip(' ')\n",
        "\n",
        "\n",
        "      # Converting to Lowercase\n",
        "      document = document.lower()\n",
        "\n",
        "      # Lemmatization\n",
        "      document = document.split()\n",
        "\n",
        "      document = [stemmer.lemmatize(word) for word in document]\n",
        "      document = ' '.join(document)\n",
        "\n",
        "      documents.append(document)\n",
        "      \n",
        "  return documents            "
      ],
      "execution_count": 0,
      "outputs": []
    },
    {
      "cell_type": "code",
      "metadata": {
        "id": "7CIy5BlwMX5d",
        "colab_type": "code",
        "colab": {}
      },
      "source": [
        "X = data_preprocessing(data1['details'])"
      ],
      "execution_count": 0,
      "outputs": []
    },
    {
      "cell_type": "code",
      "metadata": {
        "id": "PQ5O30oYYqJK",
        "colab_type": "code",
        "outputId": "e4ae5801-0119-4610-e73e-2365709e5d53",
        "colab": {
          "base_uri": "https://localhost:8080/",
          "height": 34
        }
      },
      "source": [
        "X[0]"
      ],
      "execution_count": 0,
      "outputs": [
        {
          "output_type": "execute_result",
          "data": {
            "text/plain": [
              "'designer piece'"
            ]
          },
          "metadata": {
            "tags": []
          },
          "execution_count": 40
        }
      ]
    },
    {
      "cell_type": "code",
      "metadata": {
        "id": "uYsLMPPQrDbA",
        "colab_type": "code",
        "colab": {}
      },
      "source": [
        "from sklearn.feature_extraction.text import CountVectorizer  \n",
        "vectorizer = CountVectorizer(max_features=1500, min_df=5, max_df=0.7, stop_words=stopwords.words('english'))  \n",
        "data = vectorizer.fit_transform(X).toarray()  "
      ],
      "execution_count": 0,
      "outputs": []
    },
    {
      "cell_type": "code",
      "metadata": {
        "id": "7gjfYWbus55d",
        "colab_type": "code",
        "colab": {}
      },
      "source": [
        "from sklearn.model_selection import train_test_split\n",
        "X_train, X_test, y_train, y_test = train_test_split(data, data1['category'], test_size=0.3, random_state=0) "
      ],
      "execution_count": 0,
      "outputs": []
    },
    {
      "cell_type": "code",
      "metadata": {
        "id": "wJlGHulzuw0Y",
        "colab_type": "code",
        "outputId": "84f1594a-c32b-4c18-8723-bf1cb936dc5e",
        "colab": {
          "base_uri": "https://localhost:8080/",
          "height": 34
        }
      },
      "source": [
        "from sklearn.naive_bayes import MultinomialNB\n",
        "#Import scikit-learn metrics module for accuracy calculation\n",
        "from sklearn import metrics\n",
        "# Model Generation Using Multinomial Naive Bayes\n",
        "clf = MultinomialNB().fit(X_train, y_train)\n",
        "predicted= clf.predict(X_test)\n",
        "print(\"MultinomialNB Accuracy:\",metrics.accuracy_score(y_test, predicted))"
      ],
      "execution_count": 0,
      "outputs": [
        {
          "output_type": "stream",
          "text": [
            "MultinomialNB Accuracy: 0.5203220858895705\n"
          ],
          "name": "stdout"
        }
      ]
    },
    {
      "cell_type": "code",
      "metadata": {
        "id": "T8X6a-VMu-9w",
        "colab_type": "code",
        "outputId": "0cb33c31-0d03-4c5f-913b-d9582c368fd4",
        "colab": {
          "base_uri": "https://localhost:8080/",
          "height": 323
        }
      },
      "source": [
        "from sklearn.metrics import classification_report\n",
        "print(classification_report(y_test,predicted)) "
      ],
      "execution_count": 0,
      "outputs": [
        {
          "output_type": "stream",
          "text": [
            "                      precision    recall  f1-score   support\n",
            "\n",
            "          Activities       0.03      0.03      0.03       138\n",
            "                Auto       0.03      0.04      0.04       149\n",
            "         Electronics       0.93      0.63      0.75       551\n",
            "Grocery and Crockery       0.02      0.02      0.02       136\n",
            "  Health and Fitness       0.11      0.19      0.14       184\n",
            "     Home and Living       0.33      0.32      0.32       309\n",
            "                Kids       0.61      0.90      0.73       166\n",
            "                 Men       0.59      0.91      0.71        56\n",
            "        Pet Supplies       0.07      0.17      0.10        42\n",
            "           Sastobook       1.00      0.70      0.82       541\n",
            "               Women       0.82      0.84      0.83       336\n",
            "\n",
            "            accuracy                           0.52      2608\n",
            "           macro avg       0.41      0.43      0.41      2608\n",
            "        weighted avg       0.61      0.52      0.55      2608\n",
            "\n"
          ],
          "name": "stdout"
        }
      ]
    },
    {
      "cell_type": "code",
      "metadata": {
        "id": "lzX7c66QvMFG",
        "colab_type": "code",
        "colab": {}
      },
      "source": [
        "from sklearn.feature_extraction.text import TfidfVectorizer  \n",
        "tfidfconverter = TfidfVectorizer(max_features=1500, min_df=5, max_df=0.7, stop_words=stopwords.words('english'))  \n",
        "data = tfidfconverter.fit_transform(X).toarray()  "
      ],
      "execution_count": 0,
      "outputs": []
    },
    {
      "cell_type": "code",
      "metadata": {
        "id": "BIVuhnTxwGx9",
        "colab_type": "code",
        "colab": {}
      },
      "source": [
        "X_train, X_test, y_train, y_test = train_test_split(data, data1['category'], test_size=0.3, random_state=10) "
      ],
      "execution_count": 0,
      "outputs": []
    },
    {
      "cell_type": "code",
      "metadata": {
        "id": "3nIU42jc1-dF",
        "colab_type": "code",
        "outputId": "50b0cf7c-b424-437e-c4b0-44529f822cbf",
        "colab": {
          "base_uri": "https://localhost:8080/",
          "height": 34
        }
      },
      "source": [
        "X_test[0]\n"
      ],
      "execution_count": 0,
      "outputs": [
        {
          "output_type": "execute_result",
          "data": {
            "text/plain": [
              "array([0., 0., 0., ..., 0., 0., 0.])"
            ]
          },
          "metadata": {
            "tags": []
          },
          "execution_count": 91
        }
      ]
    },
    {
      "cell_type": "code",
      "metadata": {
        "id": "VqEk2lG9v6j3",
        "colab_type": "code",
        "outputId": "1e289c46-9f50-4670-bf65-b234dffb639b",
        "colab": {
          "base_uri": "https://localhost:8080/",
          "height": 34
        }
      },
      "source": [
        "from sklearn.naive_bayes import MultinomialNB\n",
        "#Import scikit-learn metrics module for accuracy calculation\n",
        "from sklearn import metrics\n",
        "# Model Generation Using Multinomial Naive Bayes\n",
        "clf = MultinomialNB().fit(X_train, y_train)\n",
        "predicted= clf.predict(X_test)\n",
        "print(\"MultinomialNB Accuracy:\",metrics.accuracy_score(y_test, predicted))"
      ],
      "execution_count": 0,
      "outputs": [
        {
          "output_type": "stream",
          "text": [
            "MultinomialNB Accuracy: 0.5460122699386503\n"
          ],
          "name": "stdout"
        }
      ]
    },
    {
      "cell_type": "code",
      "metadata": {
        "id": "zj5SR0iBbeaj",
        "colab_type": "code",
        "outputId": "0aed197b-f503-4c58-d61e-4e8f04f75c07",
        "colab": {
          "base_uri": "https://localhost:8080/",
          "height": 377
        }
      },
      "source": [
        "from sklearn.metrics import classification_report\n",
        "print(classification_report(y_test,predicted)) "
      ],
      "execution_count": 0,
      "outputs": [
        {
          "output_type": "stream",
          "text": [
            "                      precision    recall  f1-score   support\n",
            "\n",
            "          Activities       0.05      0.03      0.04       138\n",
            "                Auto       0.00      0.00      0.00       155\n",
            "         Electronics       0.77      0.66      0.71       535\n",
            "Grocery and Crockery       0.05      0.01      0.02       137\n",
            "  Health and Fitness       0.05      0.02      0.03       206\n",
            "     Home and Living       0.21      0.59      0.31       286\n",
            "                Kids       0.70      0.85      0.77       165\n",
            "                 Men       0.97      0.49      0.65        72\n",
            "        Pet Supplies       0.00      0.00      0.00        43\n",
            "           Sastobook       0.99      0.73      0.84       534\n",
            "               Women       0.76      0.97      0.85       337\n",
            "\n",
            "            accuracy                           0.55      2608\n",
            "           macro avg       0.41      0.40      0.38      2608\n",
            "        weighted avg       0.56      0.55      0.53      2608\n",
            "\n"
          ],
          "name": "stdout"
        },
        {
          "output_type": "stream",
          "text": [
            "/usr/local/lib/python3.6/dist-packages/sklearn/metrics/classification.py:1437: UndefinedMetricWarning: Precision and F-score are ill-defined and being set to 0.0 in labels with no predicted samples.\n",
            "  'precision', 'predicted', average, warn_for)\n"
          ],
          "name": "stderr"
        }
      ]
    },
    {
      "cell_type": "code",
      "metadata": {
        "id": "htfrjlvLwIBO",
        "colab_type": "code",
        "colab": {}
      },
      "source": [
        "from sklearn.linear_model import LogisticRegression\n",
        "from sklearn.multiclass import OneVsRestClassifier"
      ],
      "execution_count": 0,
      "outputs": []
    },
    {
      "cell_type": "code",
      "metadata": {
        "id": "ZW84Sl1Bx8p9",
        "colab_type": "code",
        "outputId": "dc02b64d-cd72-41b1-d884-48084d5828ca",
        "colab": {
          "base_uri": "https://localhost:8080/",
          "height": 34
        }
      },
      "source": [
        "clf = OneVsRestClassifier(LogisticRegression(solver='sag'), n_jobs=1).fit(X_train, y_train)\n",
        "predicted= clf.predict(X_test)\n",
        "print(\"logistic regression Accuracy:\",metrics.accuracy_score(y_test, predicted))"
      ],
      "execution_count": 0,
      "outputs": [
        {
          "output_type": "stream",
          "text": [
            "logistic regression Accuracy: 0.5283742331288344\n"
          ],
          "name": "stdout"
        }
      ]
    },
    {
      "cell_type": "code",
      "metadata": {
        "id": "Xq3yoMqftfuH",
        "colab_type": "code",
        "colab": {}
      },
      "source": [
        "test_data = 'blue color men shirt pattern summer vibes'\n"
      ],
      "execution_count": 0,
      "outputs": []
    },
    {
      "cell_type": "code",
      "metadata": {
        "id": "G1KlC8km0EX7",
        "colab_type": "code",
        "colab": {}
      },
      "source": [
        ""
      ],
      "execution_count": 0,
      "outputs": []
    },
    {
      "cell_type": "code",
      "metadata": {
        "id": "x0tELWDgt8rG",
        "colab_type": "code",
        "colab": {}
      },
      "source": [
        "stemmer = WordNetLemmatizer()\n",
        "documents = []\n",
        "document = test_data.split()\n",
        "\n",
        "document = [stemmer.lemmatize(word) for word in document]\n",
        "document = ' '.join(document)\n",
        "\n",
        "documents.append(document)"
      ],
      "execution_count": 0,
      "outputs": []
    },
    {
      "cell_type": "code",
      "metadata": {
        "id": "5quJEMvnyQi0",
        "colab_type": "code",
        "outputId": "23715fcc-43df-46f4-f947-cc62aedcacac",
        "colab": {
          "base_uri": "https://localhost:8080/",
          "height": 34
        }
      },
      "source": [
        "documents"
      ],
      "execution_count": 0,
      "outputs": [
        {
          "output_type": "execute_result",
          "data": {
            "text/plain": [
              "['blue color men shirt pattern summer vibe']"
            ]
          },
          "metadata": {
            "tags": []
          },
          "execution_count": 109
        }
      ]
    },
    {
      "cell_type": "code",
      "metadata": {
        "id": "_-IIFG14yofE",
        "colab_type": "code",
        "outputId": "b8dd1f1e-759f-455e-c99b-5333facfce46",
        "colab": {
          "base_uri": "https://localhost:8080/",
          "height": 34
        }
      },
      "source": [
        "from sklearn.feature_extraction.text import TfidfVectorizer \n",
        "tfidfconverter = TfidfVectorizer(max_features=150)  \n",
        " \n",
        "test_data = tfidfconverter.fit_transform(documents).toarray()\n",
        "test_data.shape"
      ],
      "execution_count": 0,
      "outputs": [
        {
          "output_type": "execute_result",
          "data": {
            "text/plain": [
              "(1, 7)"
            ]
          },
          "metadata": {
            "tags": []
          },
          "execution_count": 110
        }
      ]
    },
    {
      "cell_type": "code",
      "metadata": {
        "id": "K0T_pcXaytSr",
        "colab_type": "code",
        "outputId": "571b6fd1-1bdd-4180-c2a8-173112b1cc51",
        "colab": {
          "base_uri": "https://localhost:8080/",
          "height": 34
        }
      },
      "source": [
        "from sklearn.feature_extraction.text import CountVectorizer \n",
        "tfidfconverter = CountVectorizer()  \n",
        " \n",
        "test_data = tfidfconverter.fit_transform(documents).toarray()\n",
        "test_data"
      ],
      "execution_count": 0,
      "outputs": [
        {
          "output_type": "execute_result",
          "data": {
            "text/plain": [
              "array([[1, 1, 1, 1, 1, 1, 1]])"
            ]
          },
          "metadata": {
            "tags": []
          },
          "execution_count": 107
        }
      ]
    },
    {
      "cell_type": "markdown",
      "metadata": {
        "id": "QBEBxYhyzOxg",
        "colab_type": "text"
      },
      "source": [
        "for second classifier for subCategory"
      ]
    },
    {
      "cell_type": "code",
      "metadata": {
        "id": "AorujcmazVFK",
        "colab_type": "code",
        "colab": {}
      },
      "source": [
        "data2 = use_data[['details','subCategory']]"
      ],
      "execution_count": 0,
      "outputs": []
    },
    {
      "cell_type": "code",
      "metadata": {
        "id": "LLsX6obSsauT",
        "colab_type": "code",
        "outputId": "d8529004-4623-43b3-8b19-22283fa05b54",
        "colab": {
          "base_uri": "https://localhost:8080/",
          "height": 136
        }
      },
      "source": [
        "data2.info()"
      ],
      "execution_count": 0,
      "outputs": [
        {
          "output_type": "stream",
          "text": [
            "<class 'pandas.core.frame.DataFrame'>\n",
            "Int64Index: 17540 entries, 0 to 137188\n",
            "Data columns (total 2 columns):\n",
            "details        17540 non-null object\n",
            "subCategory    17540 non-null object\n",
            "dtypes: object(2)\n",
            "memory usage: 411.1+ KB\n"
          ],
          "name": "stdout"
        }
      ]
    },
    {
      "cell_type": "code",
      "metadata": {
        "id": "vJP7mInHztED",
        "colab_type": "code",
        "outputId": "7f81f2de-6350-4e76-aede-cbfe4e772699",
        "colab": {
          "base_uri": "https://localhost:8080/",
          "height": 204
        }
      },
      "source": [
        "data2.head()"
      ],
      "execution_count": 0,
      "outputs": [
        {
          "output_type": "execute_result",
          "data": {
            "text/html": [
              "<div>\n",
              "<style scoped>\n",
              "    .dataframe tbody tr th:only-of-type {\n",
              "        vertical-align: middle;\n",
              "    }\n",
              "\n",
              "    .dataframe tbody tr th {\n",
              "        vertical-align: top;\n",
              "    }\n",
              "\n",
              "    .dataframe thead th {\n",
              "        text-align: right;\n",
              "    }\n",
              "</style>\n",
              "<table border=\"1\" class=\"dataframe\">\n",
              "  <thead>\n",
              "    <tr style=\"text-align: right;\">\n",
              "      <th></th>\n",
              "      <th>details</th>\n",
              "      <th>subCategory</th>\n",
              "    </tr>\n",
              "  </thead>\n",
              "  <tbody>\n",
              "    <tr>\n",
              "      <th>0</th>\n",
              "      <td>designers piece</td>\n",
              "      <td>Clothing</td>\n",
              "    </tr>\n",
              "    <tr>\n",
              "      <th>1</th>\n",
              "      <td>paper silk suit sleeveless dry clean technique...</td>\n",
              "      <td>Clothing</td>\n",
              "    </tr>\n",
              "    <tr>\n",
              "      <th>2</th>\n",
              "      <td>thread and mirror work blouse chiffon sari seq...</td>\n",
              "      <td>Clothing</td>\n",
              "    </tr>\n",
              "    <tr>\n",
              "      <th>3</th>\n",
              "      <td>gota work blouse chiffon sari golden lace disc...</td>\n",
              "      <td>Clothing</td>\n",
              "    </tr>\n",
              "    <tr>\n",
              "      <th>4</th>\n",
              "      <td>sequence blouse chiffon sari thread lace discl...</td>\n",
              "      <td>Clothing</td>\n",
              "    </tr>\n",
              "  </tbody>\n",
              "</table>\n",
              "</div>"
            ],
            "text/plain": [
              "                                             details subCategory\n",
              "0                                    designers piece    Clothing\n",
              "1  paper silk suit sleeveless dry clean technique...    Clothing\n",
              "2  thread and mirror work blouse chiffon sari seq...    Clothing\n",
              "3  gota work blouse chiffon sari golden lace disc...    Clothing\n",
              "4  sequence blouse chiffon sari thread lace discl...    Clothing"
            ]
          },
          "metadata": {
            "tags": []
          },
          "execution_count": 55
        }
      ]
    },
    {
      "cell_type": "code",
      "metadata": {
        "id": "PI2rbGWezuta",
        "colab_type": "code",
        "outputId": "6cc7a1d5-2af5-441c-ce8d-68752c215c84",
        "colab": {
          "base_uri": "https://localhost:8080/",
          "height": 765
        }
      },
      "source": [
        "data2['subCategory'].value_counts()"
      ],
      "execution_count": 0,
      "outputs": [
        {
          "output_type": "execute_result",
          "data": {
            "text/plain": [
              "Genres                           10698\n",
              "Home Appliances                   9642\n",
              "Kitchen and Dining                6380\n",
              "Home Decor                        5332\n",
              "Mobiles                           4812\n",
              "Toys                              4179\n",
              "Home Organization                 3930\n",
              "Computer Accessories              3251\n",
              "Cleaning and Toiletries           3190\n",
              "Audio Video                       3104\n",
              "Exciting Eletronics               2988\n",
              "Camera and Accessories            2386\n",
              "Celebration                       2146\n",
              "Lighting                          2086\n",
              "Baby Care                         1649\n",
              "Gardening                         1009\n",
              "Accessories                        957\n",
              "Fitness                            942\n",
              "Groceries                          835\n",
              "Tools                              756\n",
              "Alarm and Security System          742\n",
              "Clothing                           723\n",
              "Rider's Accessories                713\n",
              "Laptop                             701\n",
              "Auto Care                          602\n",
              "Desktop                            586\n",
              "Home Safety                        547\n",
              "Mobile and Tablet Accessories      466\n",
              "Body and Frames                    451\n",
              "Health Care                        434\n",
              "Adventure Sports                   383\n",
              "Cutlery and Jars                   293\n",
              "Fresh Product                      219\n",
              "Footwear for Kids                  165\n",
              "Dog Supplies                       148\n",
              "Beauty Care                        140\n",
              "Jewellery                          106\n",
              "Bags and Wallets                    91\n",
              "Foot Wear                           87\n",
              "Women's Grooming                    35\n",
              "Men's Grooming                      25\n",
              "Musical Instruments                 23\n",
              "Gaming                              13\n",
              "Name: subCategory, dtype: int64"
            ]
          },
          "metadata": {
            "tags": []
          },
          "execution_count": 56
        }
      ]
    },
    {
      "cell_type": "code",
      "metadata": {
        "id": "SRgsIk-Y0oCf",
        "colab_type": "code",
        "outputId": "6e0127de-afaa-489a-86ba-43671edf57ed",
        "colab": {
          "base_uri": "https://localhost:8080/",
          "height": 427
        }
      },
      "source": [
        "plt.figure(figsize=(10,4))\n",
        "data2['subCategory'].value_counts().plot(kind='bar')\n"
      ],
      "execution_count": 0,
      "outputs": [
        {
          "output_type": "execute_result",
          "data": {
            "text/plain": [
              "<matplotlib.axes._subplots.AxesSubplot at 0x7f2e39c4eda0>"
            ]
          },
          "metadata": {
            "tags": []
          },
          "execution_count": 57
        },
        {
          "output_type": "display_data",
          "data": {
            "image/png": "[encoded data removed]",
            "text/plain": [
              "<Figure size 720x288 with 1 Axes>"
            ]
          },
          "metadata": {
            "tags": []
          }
        }
      ]
    },
    {
      "cell_type": "code",
      "metadata": {
        "id": "Qt9Z3tR1z1Q7",
        "colab_type": "code",
        "colab": {}
      },
      "source": [
        "data2 = data2.groupby('subCategory').filter(lambda x: len(x) >= 100)\n"
      ],
      "execution_count": 0,
      "outputs": []
    },
    {
      "cell_type": "code",
      "metadata": {
        "id": "UuwChNG50_fL",
        "colab_type": "code",
        "colab": {}
      },
      "source": [
        "data2 = data2.drop_duplicates()"
      ],
      "execution_count": 0,
      "outputs": []
    },
    {
      "cell_type": "code",
      "metadata": {
        "id": "wtd018Nv1V64",
        "colab_type": "code",
        "outputId": "7fd11575-92c6-45fd-98c9-82e49ae2f3d7",
        "colab": {
          "base_uri": "https://localhost:8080/",
          "height": 136
        }
      },
      "source": [
        "data2.info()"
      ],
      "execution_count": 0,
      "outputs": [
        {
          "output_type": "stream",
          "text": [
            "<class 'pandas.core.frame.DataFrame'>\n",
            "Int64Index: 17540 entries, 0 to 137188\n",
            "Data columns (total 2 columns):\n",
            "details        17540 non-null object\n",
            "subCategory    17540 non-null object\n",
            "dtypes: object(2)\n",
            "memory usage: 411.1+ KB\n"
          ],
          "name": "stdout"
        }
      ]
    },
    {
      "cell_type": "code",
      "metadata": {
        "id": "v9AgaoEr1icm",
        "colab_type": "code",
        "colab": {}
      },
      "source": [
        "#clean the data\n",
        "data2_clean = data_preprocessing(data2['details'])\n",
        "\n"
      ],
      "execution_count": 0,
      "outputs": []
    },
    {
      "cell_type": "code",
      "metadata": {
        "id": "yJlvhfD4EE8o",
        "colab_type": "code",
        "colab": {}
      },
      "source": [
        "from sklearn.feature_extraction.text import TfidfVectorizer  \n",
        "tfidfconverter = TfidfVectorizer(max_features=1500, min_df=5, max_df=0.7, stop_words=stopwords.words('english'))  \n",
        "data = tfidfconverter.fit_transform(data2_clean).toarray() "
      ],
      "execution_count": 0,
      "outputs": []
    },
    {
      "cell_type": "code",
      "metadata": {
        "id": "DuckDfit0lqW",
        "colab_type": "code",
        "colab": {}
      },
      "source": [
        "#training the second model\n",
        "X_train, X_test, y_train, y_test = train_test_split(data, data2['subCategory'], test_size=0.3, random_state=10) "
      ],
      "execution_count": 0,
      "outputs": []
    },
    {
      "cell_type": "code",
      "metadata": {
        "id": "bwhYQ8Na1b0Y",
        "colab_type": "code",
        "outputId": "988c2318-0ef0-4e3c-fb3b-0e2cb370131e",
        "colab": {
          "base_uri": "https://localhost:8080/",
          "height": 34
        }
      },
      "source": [
        "X_train[10].shape"
      ],
      "execution_count": 0,
      "outputs": [
        {
          "output_type": "execute_result",
          "data": {
            "text/plain": [
              "(1500,)"
            ]
          },
          "metadata": {
            "tags": []
          },
          "execution_count": 118
        }
      ]
    },
    {
      "cell_type": "code",
      "metadata": {
        "id": "FOm_rUavD9lV",
        "colab_type": "code",
        "outputId": "e6c3ed3a-3e89-4e6a-a257-b15ea108b5f2",
        "colab": {
          "base_uri": "https://localhost:8080/",
          "height": 34
        }
      },
      "source": [
        "from sklearn.naive_bayes import MultinomialNB\n",
        "#Import scikit-learn metrics module for accuracy calculation\n",
        "from sklearn import metrics\n",
        "# Model Generation Using Multinomial Naive Bayes\n",
        "clf = MultinomialNB().fit(X_train, y_train)\n",
        "predicted= clf.predict(X_test)\n",
        "print(\"MultinomialNB Accuracy:\",metrics.accuracy_score(y_test, predicted))"
      ],
      "execution_count": 0,
      "outputs": [
        {
          "output_type": "stream",
          "text": [
            "MultinomialNB Accuracy: 0.21797795515013302\n"
          ],
          "name": "stdout"
        }
      ]
    },
    {
      "cell_type": "code",
      "metadata": {
        "id": "TRkl1T69EjVp",
        "colab_type": "code",
        "outputId": "d15a0ee7-70ba-4f52-c333-5d683b042cec",
        "colab": {
          "base_uri": "https://localhost:8080/",
          "height": 819
        }
      },
      "source": [
        "from sklearn.metrics import classification_report\n",
        "print(classification_report(y_test,predicted)) "
      ],
      "execution_count": 0,
      "outputs": [
        {
          "output_type": "stream",
          "text": [
            "                               precision    recall  f1-score   support\n",
            "\n",
            "                  Accessories       0.26      0.20      0.23       176\n",
            "             Adventure Sports       0.00      0.00      0.00       108\n",
            "    Alarm and Security System       0.09      0.29      0.14       100\n",
            "                  Audio Video       0.27      0.23      0.25        99\n",
            "                    Auto Care       0.00      0.00      0.00       118\n",
            "                    Baby Care       0.15      0.07      0.09       102\n",
            "                  Beauty Care       1.00      0.82      0.90        39\n",
            "              Body and Frames       0.03      0.01      0.01       137\n",
            "       Camera and Accessories       0.00      0.00      0.00       100\n",
            "                  Celebration       0.00      0.00      0.00       159\n",
            "      Cleaning and Toiletries       0.01      0.02      0.01       182\n",
            "                     Clothing       0.79      1.00      0.88       213\n",
            "         Computer Accessories       0.46      0.69      0.55       189\n",
            "             Cutlery and Jars       0.00      0.00      0.00        55\n",
            "                      Desktop       0.00      0.00      0.00        88\n",
            "                 Dog Supplies       0.00      0.00      0.00        50\n",
            "          Exciting Eletronics       0.04      0.01      0.01       111\n",
            "                      Fitness       0.01      0.02      0.01       174\n",
            "            Footwear for Kids       0.00      0.00      0.00        43\n",
            "                Fresh Product       0.00      0.00      0.00        62\n",
            "                    Gardening       0.03      0.01      0.01       168\n",
            "                       Genres       0.95      0.74      0.83       524\n",
            "                    Groceries       0.00      0.00      0.00       142\n",
            "                  Health Care       0.00      0.00      0.00       129\n",
            "              Home Appliances       0.09      0.12      0.10       356\n",
            "                   Home Decor       0.03      0.10      0.05       284\n",
            "            Home Organization       0.14      0.10      0.12       153\n",
            "                  Home Safety       0.00      0.00      0.00       161\n",
            "                    Jewellery       1.00      0.82      0.90        34\n",
            "           Kitchen and Dining       0.03      0.09      0.05       275\n",
            "                       Laptop       0.00      0.00      0.00        53\n",
            "                     Lighting       0.00      0.00      0.00       111\n",
            "Mobile and Tablet Accessories       1.00      0.24      0.38        42\n",
            "                      Mobiles       0.89      0.23      0.36        70\n",
            "          Rider's Accessories       0.00      0.00      0.00       130\n",
            "                        Tools       0.00      0.00      0.00       162\n",
            "                         Toys       0.30      0.67      0.42       163\n",
            "\n",
            "                     accuracy                           0.22      5262\n",
            "                    macro avg       0.20      0.18      0.17      5262\n",
            "                 weighted avg       0.22      0.22      0.21      5262\n",
            "\n"
          ],
          "name": "stdout"
        },
        {
          "output_type": "stream",
          "text": [
            "/usr/local/lib/python3.6/dist-packages/sklearn/metrics/classification.py:1437: UndefinedMetricWarning: Precision and F-score are ill-defined and being set to 0.0 in labels with no predicted samples.\n",
            "  'precision', 'predicted', average, warn_for)\n"
          ],
          "name": "stderr"
        }
      ]
    },
    {
      "cell_type": "code",
      "metadata": {
        "id": "MJZXbne7EqA_",
        "colab_type": "code",
        "colab": {}
      },
      "source": [
        ""
      ],
      "execution_count": 0,
      "outputs": []
    }
  ]
}