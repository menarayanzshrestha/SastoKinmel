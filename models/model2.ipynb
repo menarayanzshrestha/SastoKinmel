{
  "nbformat": 4,
  "nbformat_minor": 0,
  "metadata": {
    "colab": {
      "name": "model2.ipynb",
      "version": "0.3.2",
      "provenance": [],
      "collapsed_sections": []
    },
    "kernelspec": {
      "name": "python3",
      "display_name": "Python 3"
    },
    "accelerator": "GPU"
  },
  "cells": [
    {
      "cell_type": "code",
      "metadata": {
        "id": "GFfbgxcpQQ1a",
        "colab_type": "code",
        "colab": {}
      },
      "source": [
        "import pandas as pd\n",
        "import matplotlib.pyplot as plt\n",
        "%matplotlib inline"
      ],
      "execution_count": 0,
      "outputs": []
    },
    {
      "cell_type": "code",
      "metadata": {
        "id": "bGr24V4CS2Gv",
        "colab_type": "code",
        "outputId": "1515eac5-a644-4bd6-961c-98946c7f35f0",
        "colab": {
          "base_uri": "https://localhost:8080/",
          "height": 122
        }
      },
      "source": [
        "from google.colab import drive\n",
        "drive.mount('/content/drive')"
      ],
      "execution_count": 0,
      "outputs": [
        {
          "output_type": "stream",
          "text": [
            "Go to this URL in a browser: https://accounts.google.com/o/oauth2/auth?client_id=947318989803-6bn6qk8qdgf4n4g3pfee6491hc0brc4i.apps.googleusercontent.com&redirect_uri=urn%3Aietf%3Awg%3Aoauth%3A2.0%3Aoob&scope=email%20https%3A%2F%2Fwww.googleapis.com%2Fauth%2Fdocs.test%20https%3A%2F%2Fwww.googleapis.com%2Fauth%2Fdrive%20https%3A%2F%2Fwww.googleapis.com%2Fauth%2Fdrive.photos.readonly%20https%3A%2F%2Fwww.googleapis.com%2Fauth%2Fpeopleapi.readonly&response_type=code\n",
            "\n",
            "Enter your authorization code:\n",
            "··········\n",
            "Mounted at /content/drive\n"
          ],
          "name": "stdout"
        }
      ]
    },
    {
      "cell_type": "markdown",
      "metadata": {
        "id": "h64-yY-tLekw",
        "colab_type": "text"
      },
      "source": [
        "the data location on drive\n"
      ]
    },
    {
      "cell_type": "code",
      "metadata": {
        "id": "PUqRGKPmS5Wm",
        "colab_type": "code",
        "colab": {}
      },
      "source": [
        "data = pd.read_csv('/content/drive/My Drive/Colab Notebooks/project/SD_products.csv')"
      ],
      "execution_count": 0,
      "outputs": []
    },
    {
      "cell_type": "code",
      "metadata": {
        "id": "0yskGNDdTGU8",
        "colab_type": "code",
        "outputId": "dd170022-4680-4bf2-c96b-0d885fa5a8ec",
        "colab": {
          "base_uri": "https://localhost:8080/",
          "height": 255
        }
      },
      "source": [
        "data.info()"
      ],
      "execution_count": 0,
      "outputs": [
        {
          "output_type": "stream",
          "text": [
            "<class 'pandas.core.frame.DataFrame'>\n",
            "RangeIndex: 137330 entries, 0 to 137329\n",
            "Data columns (total 9 columns):\n",
            "_id                137330 non-null object\n",
            "category           137330 non-null object\n",
            "details            136844 non-null object\n",
            "discountedPrice    87333 non-null float64\n",
            "imageUrl           137297 non-null object\n",
            "name               137000 non-null object\n",
            "originalPrice      136964 non-null float64\n",
            "subCategory        137330 non-null object\n",
            "subSubCategory     137318 non-null object\n",
            "dtypes: float64(2), object(7)\n",
            "memory usage: 9.4+ MB\n"
          ],
          "name": "stdout"
        }
      ]
    },
    {
      "cell_type": "code",
      "metadata": {
        "id": "ko0iOUktVFiR",
        "colab_type": "code",
        "colab": {}
      },
      "source": [
        "data = data[['category', 'details', 'name', 'subCategory', 'subSubCategory']]"
      ],
      "execution_count": 0,
      "outputs": []
    },
    {
      "cell_type": "code",
      "metadata": {
        "id": "hBzNII5NVLlk",
        "colab_type": "code",
        "outputId": "08f10070-b127-4802-b593-1ba0273fc86f",
        "colab": {
          "base_uri": "https://localhost:8080/",
          "height": 187
        }
      },
      "source": [
        "data.info()"
      ],
      "execution_count": 0,
      "outputs": [
        {
          "output_type": "stream",
          "text": [
            "<class 'pandas.core.frame.DataFrame'>\n",
            "RangeIndex: 137330 entries, 0 to 137329\n",
            "Data columns (total 5 columns):\n",
            "category          137330 non-null object\n",
            "details           136844 non-null object\n",
            "name              137000 non-null object\n",
            "subCategory       137330 non-null object\n",
            "subSubCategory    137318 non-null object\n",
            "dtypes: object(5)\n",
            "memory usage: 5.2+ MB\n"
          ],
          "name": "stdout"
        }
      ]
    },
    {
      "cell_type": "code",
      "metadata": {
        "id": "8IiwDJegVkM4",
        "colab_type": "code",
        "colab": {}
      },
      "source": [
        "data = data.dropna()"
      ],
      "execution_count": 0,
      "outputs": []
    },
    {
      "cell_type": "code",
      "metadata": {
        "id": "FlSlQ8ZkVpnC",
        "colab_type": "code",
        "outputId": "2b12203b-e0ca-4771-c417-b34724d916f4",
        "colab": {
          "base_uri": "https://localhost:8080/",
          "height": 187
        }
      },
      "source": [
        "data.info()"
      ],
      "execution_count": 0,
      "outputs": [
        {
          "output_type": "stream",
          "text": [
            "<class 'pandas.core.frame.DataFrame'>\n",
            "Int64Index: 136832 entries, 0 to 137329\n",
            "Data columns (total 5 columns):\n",
            "category          136832 non-null object\n",
            "details           136832 non-null object\n",
            "name              136832 non-null object\n",
            "subCategory       136832 non-null object\n",
            "subSubCategory    136832 non-null object\n",
            "dtypes: object(5)\n",
            "memory usage: 6.3+ MB\n"
          ],
          "name": "stdout"
        }
      ]
    },
    {
      "cell_type": "code",
      "metadata": {
        "id": "Ql-KgMuYTIHn",
        "colab_type": "code",
        "colab": {}
      },
      "source": [
        "data['desc'] = data[['name', 'details']].apply(lambda x: ' '.join(x), axis=1)"
      ],
      "execution_count": 0,
      "outputs": []
    },
    {
      "cell_type": "code",
      "metadata": {
        "id": "xiu-ni_wTfJA",
        "colab_type": "code",
        "outputId": "5bf867e1-d1e2-459b-a692-c4546d18154e",
        "colab": {
          "base_uri": "https://localhost:8080/",
          "height": 204
        }
      },
      "source": [
        "data.info()"
      ],
      "execution_count": 0,
      "outputs": [
        {
          "output_type": "stream",
          "text": [
            "<class 'pandas.core.frame.DataFrame'>\n",
            "Int64Index: 136832 entries, 0 to 137329\n",
            "Data columns (total 6 columns):\n",
            "category          136832 non-null object\n",
            "details           136832 non-null object\n",
            "name              136832 non-null object\n",
            "subCategory       136832 non-null object\n",
            "subSubCategory    136832 non-null object\n",
            "desc              136832 non-null object\n",
            "dtypes: object(6)\n",
            "memory usage: 7.3+ MB\n"
          ],
          "name": "stdout"
        }
      ]
    },
    {
      "cell_type": "code",
      "metadata": {
        "id": "Z8_2vtgSTtc2",
        "colab_type": "code",
        "colab": {}
      },
      "source": [
        "data = data.drop_duplicates()"
      ],
      "execution_count": 0,
      "outputs": []
    },
    {
      "cell_type": "code",
      "metadata": {
        "id": "rmOGnNAcTupz",
        "colab_type": "code",
        "outputId": "9a10344c-e33d-4d90-8a2b-7e9aa738586a",
        "colab": {
          "base_uri": "https://localhost:8080/",
          "height": 204
        }
      },
      "source": [
        "data.info()"
      ],
      "execution_count": 0,
      "outputs": [
        {
          "output_type": "stream",
          "text": [
            "<class 'pandas.core.frame.DataFrame'>\n",
            "Int64Index: 108464 entries, 0 to 137329\n",
            "Data columns (total 6 columns):\n",
            "category          108464 non-null object\n",
            "details           108464 non-null object\n",
            "name              108464 non-null object\n",
            "subCategory       108464 non-null object\n",
            "subSubCategory    108464 non-null object\n",
            "desc              108464 non-null object\n",
            "dtypes: object(6)\n",
            "memory usage: 5.8+ MB\n"
          ],
          "name": "stdout"
        }
      ]
    },
    {
      "cell_type": "code",
      "metadata": {
        "id": "FoDrSprLZPmU",
        "colab_type": "code",
        "outputId": "e04cbd60-c8b0-4283-9c43-fba742d395d5",
        "colab": {
          "base_uri": "https://localhost:8080/",
          "height": 34
        }
      },
      "source": [
        "data['desc'][0]"
      ],
      "execution_count": 0,
      "outputs": [
        {
          "output_type": "execute_result",
          "data": {
            "text/plain": [
              "'Specially Designed Red Rayon Kurti with Jaipuri Jacket Designers Piece'"
            ]
          },
          "metadata": {
            "tags": []
          },
          "execution_count": 14
        }
      ]
    },
    {
      "cell_type": "code",
      "metadata": {
        "id": "hS4-ytdWYXOs",
        "colab_type": "code",
        "outputId": "bbfb4ca9-97c3-4539-815c-2ab8bafda9ea",
        "colab": {
          "base_uri": "https://localhost:8080/",
          "height": 102
        }
      },
      "source": [
        "import re \n",
        "import nltk\n",
        "from nltk.stem import WordNetLemmatizer\n",
        "nltk.download('stopwords')\n",
        "nltk.download('wordnet')"
      ],
      "execution_count": 0,
      "outputs": [
        {
          "output_type": "stream",
          "text": [
            "[nltk_data] Downloading package stopwords to /root/nltk_data...\n",
            "[nltk_data]   Unzipping corpora/stopwords.zip.\n",
            "[nltk_data] Downloading package wordnet to /root/nltk_data...\n",
            "[nltk_data]   Unzipping corpora/wordnet.zip.\n"
          ],
          "name": "stdout"
        },
        {
          "output_type": "execute_result",
          "data": {
            "text/plain": [
              "True"
            ]
          },
          "metadata": {
            "tags": []
          },
          "execution_count": 15
        }
      ]
    },
    {
      "cell_type": "code",
      "metadata": {
        "id": "GtTQvV5wYtz9",
        "colab_type": "code",
        "colab": {}
      },
      "source": [
        ""
      ],
      "execution_count": 0,
      "outputs": []
    },
    {
      "cell_type": "code",
      "metadata": {
        "id": "bm9q4A0zWXJz",
        "colab_type": "code",
        "colab": {}
      },
      "source": [
        "def data_preprocessing(X):\n",
        "  documents = []\n",
        "  # X = data1['details']\n",
        "\n",
        "  stemmer = WordNetLemmatizer()\n",
        "\n",
        "  for i in X:  \n",
        "      \n",
        "      document = str(i)\n",
        "      # Remove all the special characters\n",
        "      document = re.sub(r'\\W', ' ', document) \n",
        "\n",
        "      # remove all single characters\n",
        "      document = re.sub(r'\\s+[a-zA-Z]\\s+', ' ', document)\n",
        "\n",
        "      #remove all the no\n",
        "      address = re.sub(r'^[\\d-]+ ', '', document)\n",
        "\n",
        "      # Remove single characters from the start\n",
        "      document = re.sub(r'\\^[a-zA-Z]\\s+', '', document) \n",
        "\n",
        "      # Substituting multiple spaces with single space\n",
        "      document = re.sub(r'\\s+', ' ', document, flags=re.I)\n",
        "      \n",
        "      document = document.strip(' ')\n",
        "\n",
        "\n",
        "      # Converting to Lowercase\n",
        "      document = document.lower()\n",
        "\n",
        "      # Lemmatization\n",
        "      document = document.split()\n",
        "\n",
        "      document = [stemmer.lemmatize(word) for word in document]\n",
        "      document = ' '.join(document)\n",
        "\n",
        "      documents.append(document)\n",
        "      \n",
        "  return documents "
      ],
      "execution_count": 0,
      "outputs": []
    },
    {
      "cell_type": "code",
      "metadata": {
        "id": "JOpFGybIYyeT",
        "colab_type": "code",
        "colab": {}
      },
      "source": [
        "X = data_preprocessing(data['desc'])"
      ],
      "execution_count": 0,
      "outputs": []
    },
    {
      "cell_type": "code",
      "metadata": {
        "id": "d94b2mH1Y8pU",
        "colab_type": "code",
        "outputId": "34537e8c-ea37-4e2a-8054-516f6b2141e2",
        "colab": {
          "base_uri": "https://localhost:8080/",
          "height": 34
        }
      },
      "source": [
        "X[0]"
      ],
      "execution_count": 0,
      "outputs": [
        {
          "output_type": "execute_result",
          "data": {
            "text/plain": [
              "'specially designed red rayon kurti with jaipuri jacket designer piece'"
            ]
          },
          "metadata": {
            "tags": []
          },
          "execution_count": 18
        }
      ]
    },
    {
      "cell_type": "code",
      "metadata": {
        "id": "SVCl_8DLZJv3",
        "colab_type": "code",
        "colab": {}
      },
      "source": [
        "data1 = data[['category', 'desc']]"
      ],
      "execution_count": 0,
      "outputs": []
    },
    {
      "cell_type": "code",
      "metadata": {
        "id": "Jw83y4O-gyXE",
        "colab_type": "code",
        "outputId": "134c63f9-7bc9-4384-d121-8dae12ff33bd",
        "colab": {
          "base_uri": "https://localhost:8080/",
          "height": 34
        }
      },
      "source": [
        "data1.shape"
      ],
      "execution_count": 0,
      "outputs": [
        {
          "output_type": "execute_result",
          "data": {
            "text/plain": [
              "(108464, 2)"
            ]
          },
          "metadata": {
            "tags": []
          },
          "execution_count": 29
        }
      ]
    },
    {
      "cell_type": "code",
      "metadata": {
        "id": "J8FSLezqc-lv",
        "colab_type": "code",
        "outputId": "d6cc723f-5d73-4430-8323-a0ab6be69cfa",
        "colab": {
          "base_uri": "https://localhost:8080/",
          "height": 136
        }
      },
      "source": [
        "data1.info()"
      ],
      "execution_count": 0,
      "outputs": [
        {
          "output_type": "stream",
          "text": [
            "<class 'pandas.core.frame.DataFrame'>\n",
            "Int64Index: 108464 entries, 0 to 137329\n",
            "Data columns (total 2 columns):\n",
            "category    108464 non-null object\n",
            "desc        108464 non-null object\n",
            "dtypes: object(2)\n",
            "memory usage: 7.5+ MB\n"
          ],
          "name": "stdout"
        }
      ]
    },
    {
      "cell_type": "code",
      "metadata": {
        "id": "7UqoQOVIf-H_",
        "colab_type": "code",
        "colab": {}
      },
      "source": [
        ""
      ],
      "execution_count": 0,
      "outputs": []
    },
    {
      "cell_type": "code",
      "metadata": {
        "id": "R7Fzx5GMdAIT",
        "colab_type": "code",
        "colab": {}
      },
      "source": [
        "data1 = data1.drop_duplicates()"
      ],
      "execution_count": 0,
      "outputs": []
    },
    {
      "cell_type": "code",
      "metadata": {
        "id": "IOW-Gw2SdDmy",
        "colab_type": "code",
        "outputId": "352d620f-dd51-49e9-d7a6-525ea89a5bda",
        "colab": {
          "base_uri": "https://localhost:8080/",
          "height": 136
        }
      },
      "source": [
        "data1.info()"
      ],
      "execution_count": 0,
      "outputs": [
        {
          "output_type": "stream",
          "text": [
            "<class 'pandas.core.frame.DataFrame'>\n",
            "Int64Index: 13076 entries, 0 to 137188\n",
            "Data columns (total 2 columns):\n",
            "category    13076 non-null object\n",
            "desc        13076 non-null object\n",
            "dtypes: object(2)\n",
            "memory usage: 306.5+ KB\n"
          ],
          "name": "stdout"
        }
      ]
    },
    {
      "cell_type": "code",
      "metadata": {
        "id": "JLOXdNqPdFPy",
        "colab_type": "code",
        "colab": {}
      },
      "source": [
        "x_data = data_preprocessing(data1['desc'])"
      ],
      "execution_count": 0,
      "outputs": []
    },
    {
      "cell_type": "code",
      "metadata": {
        "id": "35DkycqWseLh",
        "colab_type": "code",
        "colab": {}
      },
      "source": [
        "from sklearn.feature_extraction.text import TfidfVectorizer\n",
        "tf=TfidfVectorizer()\n",
        "text_tf= tf.fit_transform(x_data)"
      ],
      "execution_count": 0,
      "outputs": []
    },
    {
      "cell_type": "code",
      "metadata": {
        "id": "oetart7Btzv_",
        "colab_type": "code",
        "colab": {}
      },
      "source": [
        "from sklearn.model_selection import train_test_split\n",
        "X_train, X_test, y_train, y_test = train_test_split(text_tf, data1['category'], test_size=0.3, random_state=1)"
      ],
      "execution_count": 0,
      "outputs": []
    },
    {
      "cell_type": "code",
      "metadata": {
        "id": "yx5mDFJruE2e",
        "colab_type": "code",
        "outputId": "b2b8d569-48fe-4103-cca1-f8c70850e974",
        "colab": {
          "base_uri": "https://localhost:8080/",
          "height": 34
        }
      },
      "source": [
        "from sklearn.naive_bayes import MultinomialNB\n",
        "#Import scikit-learn metrics module for accuracy calculation\n",
        "from sklearn import metrics\n",
        "# Model Generation Using Multinomial Naive Bayes\n",
        "clf = MultinomialNB().fit(X_train, y_train)\n",
        "predicted= clf.predict(X_test)\n",
        "print(\"MultinomialNB Accuracy:\",metrics.accuracy_score(y_test, predicted))"
      ],
      "execution_count": 0,
      "outputs": [
        {
          "output_type": "stream",
          "text": [
            "MultinomialNB Accuracy: 0.7593730792870313\n"
          ],
          "name": "stdout"
        }
      ]
    },
    {
      "cell_type": "code",
      "metadata": {
        "id": "NskAnyZguO9Z",
        "colab_type": "code",
        "outputId": "ae4e9fb2-20a5-4f6c-dcac-ac924d13bac2",
        "colab": {
          "base_uri": "https://localhost:8080/",
          "height": 377
        }
      },
      "source": [
        "from sklearn.metrics import classification_report\n",
        "print(classification_report(y_test,predicted)) "
      ],
      "execution_count": 0,
      "outputs": [
        {
          "output_type": "stream",
          "text": [
            "/usr/local/lib/python3.6/dist-packages/sklearn/metrics/classification.py:1437: UndefinedMetricWarning: Precision and F-score are ill-defined and being set to 0.0 in labels with no predicted samples.\n",
            "  'precision', 'predicted', average, warn_for)\n"
          ],
          "name": "stderr"
        },
        {
          "output_type": "stream",
          "text": [
            "                      precision    recall  f1-score   support\n",
            "\n",
            "          Activities       0.25      0.04      0.06      1232\n",
            "                Auto       0.00      0.00      0.00      1150\n",
            "         Electronics       0.96      0.76      0.85      8756\n",
            "Grocery and Crockery       0.00      0.00      0.00       604\n",
            "  Health and Fitness       0.00      0.00      0.00       677\n",
            "     Home and Living       0.66      0.99      0.79     12989\n",
            "                Kids       0.78      0.89      0.83      2152\n",
            "                 Men       0.96      0.75      0.84       141\n",
            "        Pet Supplies       0.00      0.00      0.00        59\n",
            "           Sastobook       0.95      0.62      0.75      4324\n",
            "               Women       0.94      0.85      0.89       456\n",
            "\n",
            "            accuracy                           0.76     32540\n",
            "           macro avg       0.50      0.45      0.46     32540\n",
            "        weighted avg       0.73      0.76      0.72     32540\n",
            "\n"
          ],
          "name": "stdout"
        }
      ]
    },
    {
      "cell_type": "code",
      "metadata": {
        "id": "sv6NSz5Pughb",
        "colab_type": "code",
        "outputId": "de137077-a800-4533-9e11-84ce9776e217",
        "colab": {
          "base_uri": "https://localhost:8080/",
          "height": 34
        }
      },
      "source": [
        "from sklearn.linear_model import LogisticRegression\n",
        "from sklearn.multiclass import OneVsRestClassifier\n",
        "\n",
        "clf = OneVsRestClassifier(LogisticRegression(solver='sag'), n_jobs=1).fit(X_train, y_train)\n",
        "predicted= clf.predict(X_test)\n",
        "print(\"logistic regression Accuracy:\",metrics.accuracy_score(y_test, predicted))"
      ],
      "execution_count": 0,
      "outputs": [
        {
          "output_type": "stream",
          "text": [
            "logistic regression Accuracy: 0.7741241548862938\n"
          ],
          "name": "stdout"
        }
      ]
    },
    {
      "cell_type": "code",
      "metadata": {
        "id": "Dl1eNfB8v42B",
        "colab_type": "code",
        "colab": {}
      },
      "source": [
        "data2 = data[['desc','subCategory']]"
      ],
      "execution_count": 0,
      "outputs": []
    },
    {
      "cell_type": "code",
      "metadata": {
        "id": "qV-sZxML06Fr",
        "colab_type": "code",
        "outputId": "53a8d6b0-33de-4389-b44d-2da14027f074",
        "colab": {
          "base_uri": "https://localhost:8080/",
          "height": 136
        }
      },
      "source": [
        "data2.info()"
      ],
      "execution_count": 0,
      "outputs": [
        {
          "output_type": "stream",
          "text": [
            "<class 'pandas.core.frame.DataFrame'>\n",
            "Int64Index: 108464 entries, 0 to 137329\n",
            "Data columns (total 2 columns):\n",
            "desc           108464 non-null object\n",
            "subCategory    108464 non-null object\n",
            "dtypes: object(2)\n",
            "memory usage: 7.5+ MB\n"
          ],
          "name": "stdout"
        }
      ]
    },
    {
      "cell_type": "code",
      "metadata": {
        "id": "4FQ9lxWS0-E9",
        "colab_type": "code",
        "colab": {}
      },
      "source": [
        "data2 = data2.drop_duplicates()"
      ],
      "execution_count": 0,
      "outputs": []
    },
    {
      "cell_type": "code",
      "metadata": {
        "id": "-A0OnEcI1BMT",
        "colab_type": "code",
        "outputId": "0ba50b60-87ce-41fd-96cc-0f6c57a3dd04",
        "colab": {
          "base_uri": "https://localhost:8080/",
          "height": 136
        }
      },
      "source": [
        "data2.info()"
      ],
      "execution_count": 0,
      "outputs": [
        {
          "output_type": "stream",
          "text": [
            "<class 'pandas.core.frame.DataFrame'>\n",
            "Int64Index: 26598 entries, 0 to 137188\n",
            "Data columns (total 2 columns):\n",
            "desc           26598 non-null object\n",
            "subCategory    26598 non-null object\n",
            "dtypes: object(2)\n",
            "memory usage: 623.4+ KB\n"
          ],
          "name": "stdout"
        }
      ]
    },
    {
      "cell_type": "code",
      "metadata": {
        "id": "ya4SRjyu1Juh",
        "colab_type": "code",
        "outputId": "a53f4c2d-590f-40b3-dadd-a73451cf7663",
        "colab": {
          "base_uri": "https://localhost:8080/",
          "height": 765
        }
      },
      "source": [
        "data2['subCategory'].value_counts()"
      ],
      "execution_count": 0,
      "outputs": [
        {
          "output_type": "execute_result",
          "data": {
            "text/plain": [
              "Genres                           2503\n",
              "Home Appliances                  1733\n",
              "Home Decor                       1494\n",
              "Kitchen and Dining               1324\n",
              "Clothing                         1178\n",
              "Cleaning and Toiletries          1084\n",
              "Fitness                          1037\n",
              "Accessories                       942\n",
              "Celebration                       903\n",
              "Home Safety                       896\n",
              "Tools                             867\n",
              "Groceries                         799\n",
              "Body and Frames                   765\n",
              "Computer Accessories              751\n",
              "Home Organization                 713\n",
              "Health Care                       707\n",
              "Lighting                          700\n",
              "Gardening                         695\n",
              "Toys                              682\n",
              "Auto Care                         657\n",
              "Rider's Accessories               637\n",
              "Adventure Sports                  631\n",
              "Exciting Eletronics               478\n",
              "Audio Video                       473\n",
              "Alarm and Security System         444\n",
              "Baby Care                         432\n",
              "Camera and Accessories            388\n",
              "Desktop                           353\n",
              "Cutlery and Jars                  318\n",
              "Mobiles                           306\n",
              "Fresh Product                     304\n",
              "Laptop                            212\n",
              "Dog Supplies                      199\n",
              "Footwear for Kids                 189\n",
              "Beauty Care                       157\n",
              "Mobile and Tablet Accessories     149\n",
              "Jewellery                         146\n",
              "Foot Wear                         130\n",
              "Bags and Wallets                  126\n",
              "Women's Grooming                   36\n",
              "Men's Grooming                     26\n",
              "Musical Instruments                24\n",
              "Gaming                             10\n",
              "Name: subCategory, dtype: int64"
            ]
          },
          "metadata": {
            "tags": []
          },
          "execution_count": 54
        }
      ]
    },
    {
      "cell_type": "code",
      "metadata": {
        "id": "2da0dZOC1OSb",
        "colab_type": "code",
        "colab": {}
      },
      "source": [
        "data2 = data2.groupby('subCategory').filter(lambda x: len(x) >= 100)\n"
      ],
      "execution_count": 0,
      "outputs": []
    },
    {
      "cell_type": "code",
      "metadata": {
        "id": "chiTh61v1Zt9",
        "colab_type": "code",
        "outputId": "523a1bbe-5773-4fa2-f541-937f2fffd600",
        "colab": {
          "base_uri": "https://localhost:8080/",
          "height": 136
        }
      },
      "source": [
        "data2.info()"
      ],
      "execution_count": 0,
      "outputs": [
        {
          "output_type": "stream",
          "text": [
            "<class 'pandas.core.frame.DataFrame'>\n",
            "Int64Index: 26502 entries, 0 to 137188\n",
            "Data columns (total 2 columns):\n",
            "desc           26502 non-null object\n",
            "subCategory    26502 non-null object\n",
            "dtypes: object(2)\n",
            "memory usage: 621.1+ KB\n"
          ],
          "name": "stdout"
        }
      ]
    },
    {
      "cell_type": "code",
      "metadata": {
        "id": "mQfVtcC21cSL",
        "colab_type": "code",
        "colab": {}
      },
      "source": [
        "X = data_preprocessing(data2['desc'])"
      ],
      "execution_count": 0,
      "outputs": []
    },
    {
      "cell_type": "code",
      "metadata": {
        "id": "tNEhZFJf10G9",
        "colab_type": "code",
        "colab": {}
      },
      "source": [
        "tf=TfidfVectorizer()\n",
        "text_tf= tf.fit_transform(X)"
      ],
      "execution_count": 0,
      "outputs": []
    },
    {
      "cell_type": "code",
      "metadata": {
        "id": "1dRBjW1m2Aa3",
        "colab_type": "code",
        "colab": {}
      },
      "source": [
        "X_train, X_test, y_train, y_test = train_test_split(text_tf, data2['subCategory'], test_size=0.3, random_state=12)"
      ],
      "execution_count": 0,
      "outputs": []
    },
    {
      "cell_type": "code",
      "metadata": {
        "id": "mQZr6D9s2La4",
        "colab_type": "code",
        "outputId": "0777695f-0528-47f3-cef1-190f68c0123a",
        "colab": {
          "base_uri": "https://localhost:8080/",
          "height": 34
        }
      },
      "source": [
        "clf = OneVsRestClassifier(LogisticRegression(solver='sag'), n_jobs=1).fit(X_train, y_train)\n",
        "predicted= clf.predict(X_test)\n",
        "print(\"logistic regression Accuracy:\",metrics.accuracy_score(y_test, predicted))"
      ],
      "execution_count": 0,
      "outputs": [
        {
          "output_type": "stream",
          "text": [
            "logistic regression Accuracy: 0.17897119859137214\n"
          ],
          "name": "stdout"
        }
      ]
    },
    {
      "cell_type": "code",
      "metadata": {
        "id": "JVuc0v4Y2Q8Q",
        "colab_type": "code",
        "colab": {}
      },
      "source": [
        ""
      ],
      "execution_count": 0,
      "outputs": []
    }
  ]
}