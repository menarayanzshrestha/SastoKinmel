{
 "cells": [
  {
   "cell_type": "code",
   "execution_count": 1,
   "metadata": {},
   "outputs": [],
   "source": [
    "import pandas as pd\n",
    "import matplotlib.pyplot as plt\n",
    "import numpy as np\n",
    "%matplotlib inline"
   ]
  },
  {
   "cell_type": "code",
   "execution_count": 2,
   "metadata": {},
   "outputs": [
    {
     "data": {
      "text/plain": [
       "(137330, 9)"
      ]
     },
     "execution_count": 2,
     "metadata": {},
     "output_type": "execute_result"
    }
   ],
   "source": [
    "scraped_data = pd.read_csv('data/SD_products.csv')\n",
    "scraped_data.shape"
   ]
  },
  {
   "cell_type": "markdown",
   "metadata": {},
   "source": [
    "removing the dupicates data"
   ]
  },
  {
   "cell_type": "code",
   "execution_count": 3,
   "metadata": {},
   "outputs": [],
   "source": [
    "scrape_data = pd.read_csv('data/SD_products.csv', index_col=0)"
   ]
  },
  {
   "cell_type": "code",
   "execution_count": 4,
   "metadata": {},
   "outputs": [
    {
     "data": {
      "text/plain": [
       "(115047, 8)"
      ]
     },
     "execution_count": 4,
     "metadata": {},
     "output_type": "execute_result"
    }
   ],
   "source": [
    "scrape_data = scrape_data.drop_duplicates()\n",
    "scrape_data.reset_index(drop=True, inplace=True)\n",
    "scrape_data.shape"
   ]
  },
  {
   "cell_type": "markdown",
   "metadata": {},
   "source": [
    "total columns in dataset"
   ]
  },
  {
   "cell_type": "code",
   "execution_count": 5,
   "metadata": {},
   "outputs": [
    {
     "data": {
      "text/plain": [
       "Index(['category', 'details', 'discountedPrice', 'imageUrl', 'name',\n",
       "       'originalPrice', 'subCategory', 'subSubCategory'],\n",
       "      dtype='object')"
      ]
     },
     "execution_count": 5,
     "metadata": {},
     "output_type": "execute_result"
    }
   ],
   "source": [
    "scrape_data.columns"
   ]
  },
  {
   "cell_type": "code",
   "execution_count": 6,
   "metadata": {
    "scrolled": true
   },
   "outputs": [
    {
     "data": {
      "text/html": [
       "<div>\n",
       "<style scoped>\n",
       "    .dataframe tbody tr th:only-of-type {\n",
       "        vertical-align: middle;\n",
       "    }\n",
       "\n",
       "    .dataframe tbody tr th {\n",
       "        vertical-align: top;\n",
       "    }\n",
       "\n",
       "    .dataframe thead th {\n",
       "        text-align: right;\n",
       "    }\n",
       "</style>\n",
       "<table border=\"1\" class=\"dataframe\">\n",
       "  <thead>\n",
       "    <tr style=\"text-align: right;\">\n",
       "      <th></th>\n",
       "      <th>category</th>\n",
       "      <th>details</th>\n",
       "      <th>discountedPrice</th>\n",
       "      <th>imageUrl</th>\n",
       "      <th>name</th>\n",
       "      <th>originalPrice</th>\n",
       "      <th>subCategory</th>\n",
       "      <th>subSubCategory</th>\n",
       "    </tr>\n",
       "  </thead>\n",
       "  <tbody>\n",
       "    <tr>\n",
       "      <th>0</th>\n",
       "      <td>Women</td>\n",
       "      <td>Designers Piece</td>\n",
       "      <td>2288.0</td>\n",
       "      <td>https://sd.azureedge.net/0/images/product/2011...</td>\n",
       "      <td>Specially Designed Red Rayon Kurti with Jaipur...</td>\n",
       "      <td>2782.0</td>\n",
       "      <td>Clothing</td>\n",
       "      <td>Sarees &amp; Lehengas</td>\n",
       "    </tr>\n",
       "    <tr>\n",
       "      <th>1</th>\n",
       "      <td>Women</td>\n",
       "      <td>Paper silk suit\\r\\nSleeveless\\r\\nDry Clean\\r\\n...</td>\n",
       "      <td>6000.0</td>\n",
       "      <td>https://sd.azureedge.net/0/images/product/8285...</td>\n",
       "      <td>Chiffon Block Print Dupatta SU030</td>\n",
       "      <td>6666.0</td>\n",
       "      <td>Clothing</td>\n",
       "      <td>Sarees &amp; Lehengas</td>\n",
       "    </tr>\n",
       "    <tr>\n",
       "      <th>2</th>\n",
       "      <td>Women</td>\n",
       "      <td>Thread and Mirror Work Blouse\\r\\nChiffon Sari\\...</td>\n",
       "      <td>8000.0</td>\n",
       "      <td>https://sd.azureedge.net/0/images/product/8377...</td>\n",
       "      <td>Thread and Mirror Work Blouse Saree SR001</td>\n",
       "      <td>8888.0</td>\n",
       "      <td>Clothing</td>\n",
       "      <td>Sarees &amp; Lehengas</td>\n",
       "    </tr>\n",
       "    <tr>\n",
       "      <th>3</th>\n",
       "      <td>Women</td>\n",
       "      <td>Gota Work Blouse\\r\\nChiffon Sari\\r\\nGolden Lac...</td>\n",
       "      <td>8000.0</td>\n",
       "      <td>https://sd.azureedge.net/0/images/product/8384...</td>\n",
       "      <td>Chiffon Sari SR008</td>\n",
       "      <td>8888.0</td>\n",
       "      <td>Clothing</td>\n",
       "      <td>Sarees &amp; Lehengas</td>\n",
       "    </tr>\n",
       "    <tr>\n",
       "      <th>4</th>\n",
       "      <td>Women</td>\n",
       "      <td>Sequence Blouse\\r\\nChiffon Sari\\r\\nThread Lace...</td>\n",
       "      <td>8000.0</td>\n",
       "      <td>https://sd.azureedge.net/0/images/product/8385...</td>\n",
       "      <td>Chiffon Sari SR009</td>\n",
       "      <td>8888.0</td>\n",
       "      <td>Clothing</td>\n",
       "      <td>Sarees &amp; Lehengas</td>\n",
       "    </tr>\n",
       "  </tbody>\n",
       "</table>\n",
       "</div>"
      ],
      "text/plain": [
       "  category                                            details  \\\n",
       "0    Women                                    Designers Piece   \n",
       "1    Women  Paper silk suit\\r\\nSleeveless\\r\\nDry Clean\\r\\n...   \n",
       "2    Women  Thread and Mirror Work Blouse\\r\\nChiffon Sari\\...   \n",
       "3    Women  Gota Work Blouse\\r\\nChiffon Sari\\r\\nGolden Lac...   \n",
       "4    Women  Sequence Blouse\\r\\nChiffon Sari\\r\\nThread Lace...   \n",
       "\n",
       "   discountedPrice                                           imageUrl  \\\n",
       "0           2288.0  https://sd.azureedge.net/0/images/product/2011...   \n",
       "1           6000.0  https://sd.azureedge.net/0/images/product/8285...   \n",
       "2           8000.0  https://sd.azureedge.net/0/images/product/8377...   \n",
       "3           8000.0  https://sd.azureedge.net/0/images/product/8384...   \n",
       "4           8000.0  https://sd.azureedge.net/0/images/product/8385...   \n",
       "\n",
       "                                                name  originalPrice  \\\n",
       "0  Specially Designed Red Rayon Kurti with Jaipur...         2782.0   \n",
       "1                  Chiffon Block Print Dupatta SU030         6666.0   \n",
       "2          Thread and Mirror Work Blouse Saree SR001         8888.0   \n",
       "3                                 Chiffon Sari SR008         8888.0   \n",
       "4                                 Chiffon Sari SR009         8888.0   \n",
       "\n",
       "  subCategory     subSubCategory  \n",
       "0    Clothing  Sarees & Lehengas  \n",
       "1    Clothing  Sarees & Lehengas  \n",
       "2    Clothing  Sarees & Lehengas  \n",
       "3    Clothing  Sarees & Lehengas  \n",
       "4    Clothing  Sarees & Lehengas  "
      ]
     },
     "execution_count": 6,
     "metadata": {},
     "output_type": "execute_result"
    }
   ],
   "source": [
    "scrape_data.head(5)"
   ]
  },
  {
   "cell_type": "code",
   "execution_count": 7,
   "metadata": {},
   "outputs": [
    {
     "data": {
      "text/plain": [
       "0                                           Designers Piece\n",
       "1         Paper silk suit\\r\\nSleeveless\\r\\nDry Clean\\r\\n...\n",
       "2         Thread and Mirror Work Blouse\\r\\nChiffon Sari\\...\n",
       "3         Gota Work Blouse\\r\\nChiffon Sari\\r\\nGolden Lac...\n",
       "4         Sequence Blouse\\r\\nChiffon Sari\\r\\nThread Lace...\n",
       "5         Brocade Blouse\\r\\nChiffon Sari\\r\\nGota Lace\\r\\...\n",
       "6         Georgette Thread Work Blouse\\r\\nChiffon Sari\\r...\n",
       "7         Sequence Blouse\\r\\nGeorgette Stripe Sari\\r\\nSe...\n",
       "8         Raw Silk Blouse with Stone Work Neck\\r\\nChiffo...\n",
       "9         Brocade Blouse\\r\\nCrepe Sari\\r\\nThread Work La...\n",
       "10        Net Fabric\\r\\nZari Work\\r\\nFront Cut\\r\\nV-Neck...\n",
       "11        Silk Blouse\\r\\nGeorgette and Banarasi Sari\\r\\n...\n",
       "12        Silk Thread Work Shirt\\r\\nCotton Silk Skirt wi...\n",
       "13        Gota Work Blouse\\r\\nGeorgette Mukesh Work Sari...\n",
       "14        Linen Floral Blouse\\r\\nChiffon Sari\\r\\nPearl a...\n",
       "15        Sequence Blouse\\r\\nNet and Georgette Sari\\r\\nS...\n",
       "16        Golden Zari Blouse\\r\\nChiffon Pearl Work Sari\\...\n",
       "17        Silk Long Kurti\\r\\nChinese Collar\\r\\nNet Dupat...\n",
       "18        Raw Silk Lehenga\\r\\nThread Work\\r\\nNet Dupatta...\n",
       "19        Net Fabric\\r\\nZari Work\\r\\nFront Cut Kurti\\r\\n...\n",
       "20        Raw Silk Blouse\\r\\nNet Sequence Dupatta\\r\\nKot...\n",
       "21        Georgette Shirt\\r\\nBanarasi Silk Dupatta\\r\\nBa...\n",
       "22        Silk Fabric\\r\\nStone Zari Work Blouse\\r\\nThrea...\n",
       "23        Banarasi Blouse with Lace\\r\\nChiffon Sari\\r\\nG...\n",
       "24        Raw Silk Blouse\\r\\nGeorgette Sequence Dupatta\\...\n",
       "25        Banarasi Cape,\\r\\nNet Sequence Dupatta with a ...\n",
       "26        Banarasi silk and heavy blouse\\r\\nDupatta pure...\n",
       "27        Fabric: Linen\\r\\nNeck: Round\\r\\nSleeves: Quart...\n",
       "28        Fabric: Linen\\r\\nNeck: Round\\r\\nSleeves: Quart...\n",
       "29        Chikan Kurthi\\r\\nNeck: Round\\r\\nSleeves: Quart...\n",
       "                                ...                        \n",
       "115017    ISBN: 9788126559572\\r\\nAuthor: Sweeney John Im...\n",
       "115018    ISBN: 9780452298842\\r\\nAuthor: Cowen Tyler\\r\\n...\n",
       "115019    ISBN: 9781101980552\\r\\nAuthor: Blair Ryan\\r\\nB...\n",
       "115020    ISBN: 9780007340774\\r\\nAuthor: Klein Naomi\\r\\n...\n",
       "115021    ISBN: 9780593073476\\r\\nAuthor: Kennedy Pagan\\r...\n",
       "115022    ISBN: 9781595231239\\r\\nAuthor: Conrad Edward\\r...\n",
       "115023    ISBN: 9780593060513\\r\\nAuthor: Mckenna Paul\\r\\...\n",
       "115024    ISBN: 9780753509630\\r\\nAuthor: Barrow Paul\\r\\n...\n",
       "115025    ISBN: 978-1472259356\\r\\nAuthor: Atticus\\r\\nLan...\n",
       "115026    Author: Ernest Hemingway\\r\\nISBN:9780099908401...\n",
       "115027    ISBN: 9788129142146\\r\\nAuthor: Bhagat Chetan\\r...\n",
       "115028    ISBN: 9788129135537\\r\\nAuthor: CHETAN BHAGAT\\r...\n",
       "115029    Author: Carnegie Dale\\r\\nISBN: 9789386037756\\r...\n",
       "115030    ISBN: 9780312320768\\r\\nAuthor: Osho\\r\\nLanguag...\n",
       "115031    ISBN: 9780553175219\\r\\nAuthor: Stephen Hawking...\n",
       "115032    ISBN: 9789386348838\\r\\nAuthor: Robert Butera, ...\n",
       "115033    Author: Larsson Stieg\\r\\nPublisher: Quercus Pu...\n",
       "115034    ISBN: 9780552554107\\r\\nAuthor: Christopher Pao...\n",
       "115035    Author: Ravinder Singh\\r\\nCover: Paperback\\r\\n...\n",
       "115036    ISBN: 9780008278427\\r\\nAuthor: Dalai Lama\\r\\nL...\n",
       "115037    ISBN: 9780143442479\\r\\nAuthor: Venkatesan Chan...\n",
       "115038    ISBN: 9789386348555\\r\\nAuthor: Rose Rosetree\\r...\n",
       "115039    ISBN: 9781444707861\\r\\nAuthor: Stephen King\\r\\...\n",
       "115040    ISBN: 9781848549609\\r\\nAuthor: Keller Gary & P...\n",
       "115041    ISBN: 9781408855652\\r\\nAuthor: J. K. Rowling\\r...\n",
       "115042    ISBN: 9789384898403\\r\\nAuthor: John Green\\r\\nL...\n",
       "115043    ISBN: 9780141979090\\r\\nAuthor: Steven Pinker\\r...\n",
       "115044    ISBN: 9788126568192\\r\\nAuthor: RAM CHARAN\\r\\nL...\n",
       "115045    ISBN: 9780099302780\\r\\nAuthor: Diamond Jared\\r...\n",
       "115046    ISBN: 9788191067378\\r\\nAuthor: Malhotra Rajiv ...\n",
       "Name: details, Length: 115047, dtype: object"
      ]
     },
     "execution_count": 7,
     "metadata": {},
     "output_type": "execute_result"
    }
   ],
   "source": [
    "scrape_data['details']"
   ]
  },
  {
   "cell_type": "markdown",
   "metadata": {},
   "source": [
    "removing the characters like \\n \\r :"
   ]
  },
  {
   "cell_type": "code",
   "execution_count": 8,
   "metadata": {},
   "outputs": [],
   "source": [
    "scrape_data['details'] = scrape_data['details'].str.replace('\\r','')\n",
    "scrape_data['details'] = scrape_data['details'].str.replace('\\n',' ',)\n",
    "scrape_data['details'] = scrape_data['details'].str.replace(':','')\n",
    "scrape_data['details']= scrape_data['details'].str.replace('\\d+', '')\n",
    "scrape_data['details'] = scrape_data['details'].str.replace('[^\\w\\s]','')"
   ]
  },
  {
   "cell_type": "code",
   "execution_count": 9,
   "metadata": {},
   "outputs": [],
   "source": [
    "scrape_data['details'] = scrape_data['details'].str.strip()"
   ]
  },
  {
   "cell_type": "code",
   "execution_count": 128,
   "metadata": {},
   "outputs": [
    {
     "data": {
      "text/plain": [
       "0                                           Designers Piece\n",
       "1         Paper silk suit Sleeveless Dry Clean Technique...\n",
       "2         Thread and Mirror Work Blouse Chiffon Sari Seq...\n",
       "3         Gota Work Blouse Chiffon Sari Golden Lace Disc...\n",
       "4         Sequence Blouse Chiffon Sari Thread Lace Discl...\n",
       "5         Brocade Blouse Chiffon Sari Gota Lace Disclaim...\n",
       "6         Georgette Thread Work Blouse Chiffon Sari Thre...\n",
       "7         Sequence Blouse Georgette Stripe Sari Sequence...\n",
       "8         Raw Silk Blouse with Stone Work Neck Chiffon P...\n",
       "9         Brocade Blouse Crepe Sari Thread Work Lace Dis...\n",
       "10        Net Fabric Zari Work Front Cut VNeck Perfect w...\n",
       "11        Silk Blouse Georgette and Banarasi Sari Thread...\n",
       "12        Silk Thread Work Shirt Cotton Silk Skirt with ...\n",
       "13        Gota Work Blouse Georgette Mukesh Work Sari wi...\n",
       "14        Linen Floral Blouse Chiffon Sari Pearl and Gol...\n",
       "15        Sequence Blouse Net and Georgette Sari Sequenc...\n",
       "16        Golden Zari Blouse Chiffon Pearl Work Sari Pan...\n",
       "17        Silk Long Kurti Chinese Collar Net Dupatta Sil...\n",
       "18        Raw Silk Lehenga Thread Work Net Dupatta Comes...\n",
       "19        Net Fabric Zari Work Front Cut Kurti UNeck Sil...\n",
       "20        Raw Silk Blouse Net Sequence Dupatta Kota Silk...\n",
       "21        Georgette Shirt Banarasi Silk Dupatta Banarasi...\n",
       "22        Silk Fabric Stone Zari Work Blouse Thread Work...\n",
       "23        Banarasi Blouse with Lace Chiffon Sari Golden ...\n",
       "24        Raw Silk Blouse Georgette Sequence Dupatta Ban...\n",
       "25        Banarasi Cape Net Sequence Dupatta with a Gold...\n",
       "26        Banarasi silk and heavy blouse Dupatta pure si...\n",
       "27        Fabric Linen Neck Round Sleeves Quarter Length...\n",
       "28        Fabric Linen Neck Round Sleeves Quarter Length...\n",
       "29        Chikan Kurthi Neck Round Sleeves Quarter Lengt...\n",
       "                                ...                        \n",
       "115017    ISBN  Author Sweeney John Imaretska Elena Bind...\n",
       "115018    ISBN  Author Cowen Tyler Binding Pb Publish Ye...\n",
       "115019    ISBN  Author Blair Ryan Binding Hb Publish Yea...\n",
       "115020    ISBN  Author Klein Naomi Binding Pb Publish Ye...\n",
       "115021    ISBN  Author Kennedy Pagan Binding Pb Publish ...\n",
       "115022    ISBN  Author Conrad Edward Binding Hb Publish ...\n",
       "115023    ISBN  Author Mckenna Paul Binding Pb Publish Y...\n",
       "115024    ISBN  Author Barrow Paul Binding Pb Publish Ye...\n",
       "115025    ISBN  Author Atticus Language English Hardcove...\n",
       "115026    Author Ernest Hemingway ISBN Paperback English...\n",
       "115027    ISBN  Author Bhagat Chetan Language English Co...\n",
       "115028    ISBN  Author CHETAN BHAGAT Language English Co...\n",
       "115029    Author Carnegie Dale ISBN  Publisher Books Wor...\n",
       "115030    ISBN  Author Osho Language English Cover Paper...\n",
       "115031    ISBN  Author Stephen Hawking Publisher Bantam ...\n",
       "115032    ISBN  Author Robert Butera Erin Byron Staffan ...\n",
       "115033    Author Larsson Stieg Publisher Quercus Publish...\n",
       "115034    ISBN  Author Christopher Paolini Language Engl...\n",
       "115035    Author Ravinder Singh Cover Paperback Language...\n",
       "115036    ISBN  Author Dalai Lama Language English Cover...\n",
       "115037    ISBN  Author Venkatesan Chandramouli Language ...\n",
       "115038    ISBN  Author Rose Rosetree Language English Co...\n",
       "115039    ISBN  Author Stephen King Language English Cov...\n",
       "115040    ISBN  Author Keller Gary  Papasan Jay Language...\n",
       "115041    ISBN  Author J K Rowling Language English Cove...\n",
       "115042    ISBN  Author John Green Language English Cover...\n",
       "115043    ISBN  Author Steven Pinker Language English Co...\n",
       "115044    ISBN  Author RAM CHARAN Language English Cover...\n",
       "115045    ISBN  Author Diamond Jared Language English Co...\n",
       "115046    ISBN  Author Malhotra Rajiv  Neelakandan Arvin...\n",
       "Name: details, Length: 114580, dtype: object"
      ]
     },
     "execution_count": 128,
     "metadata": {},
     "output_type": "execute_result"
    }
   ],
   "source": [
    "scrape_data['details']"
   ]
  },
  {
   "cell_type": "code",
   "execution_count": 11,
   "metadata": {},
   "outputs": [
    {
     "data": {
      "text/plain": [
       "'Test your skills and creativity by making your own track experience The addition of bricks to the system give kids even more tools to unlock their creativity Combine with other track and bricks for even more fun Each pack includes a Hot Wheels vehicle for instant racing fun plus a carrying bag to store or take your pack on the go Includes  pieces for an outrageous set with track pieces connectors bricks loop jump launcher and more plus a Builders Guide'"
      ]
     },
     "execution_count": 11,
     "metadata": {},
     "output_type": "execute_result"
    }
   ],
   "source": [
    "scrape_data['details'][11000]"
   ]
  },
  {
   "cell_type": "code",
   "execution_count": 12,
   "metadata": {},
   "outputs": [
    {
     "data": {
      "text/plain": [
       "Home and Living         45428\n",
       "Electronics             31397\n",
       "Sastobook               14846\n",
       "Kids                     7677\n",
       "Activities               4577\n",
       "Auto                     3978\n",
       "Health and Fitness       2330\n",
       "Grocery and Crockery     2081\n",
       "Women                    1817\n",
       "Men                       712\n",
       "Pet Supplies              204\n",
       "Name: category, dtype: int64"
      ]
     },
     "execution_count": 12,
     "metadata": {},
     "output_type": "execute_result"
    }
   ],
   "source": [
    "scrape_data['category'].value_counts()"
   ]
  },
  {
   "cell_type": "code",
   "execution_count": 13,
   "metadata": {},
   "outputs": [
    {
     "data": {
      "text/plain": [
       "Home Appliances                            14847\n",
       "Genres                                     14846\n",
       "Home Decor                                  9695\n",
       "Kitchen and Dining                          9566\n",
       "Mobiles                                     6105\n",
       "Home Organization                           5368\n",
       "Toys                                        5321\n",
       "Cleaning and Toiletries                     5289\n",
       "Lighting                                    4127\n",
       "Exciting Eletronics                         4011\n",
       "Celebration                                 3896\n",
       "Computer Accessories                        3789\n",
       "Audio Video                                 3595\n",
       "Camera and Accessories                      3315\n",
       "Baby Care                                   2166\n",
       "Clothing                                    1618\n",
       "Fitness                                     1597\n",
       "Accessories                                 1465\n",
       "Gardening                                   1404\n",
       "Groceries                                   1360\n",
       "Tools                                       1291\n",
       "Laptop                                      1046\n",
       "Rider's Accessories                         1005\n",
       "Alarm and Security System                    991\n",
       "Auto Care                                    966\n",
       "Home Safety                                  950\n",
       "Desktop                                      800\n",
       "Body and Frames                              792\n",
       "Health Care                                  733\n",
       "Adventure Sports                             657\n",
       "Mobile and Tablet Accessories                623\n",
       "Cutlery and Jars                             406\n",
       "Fresh Product                                315\n",
       "Dog Supplies                                 204\n",
       "Footwear for Kids                            190\n",
       "Beauty Care                                  157\n",
       "Jewellery                                    149\n",
       "Foot Wear                                    146\n",
       "Bags and Wallets                             134\n",
       "Women's Grooming                              37\n",
       "Men's Grooming                                26\n",
       "Musical Instruments                           24\n",
       "Gaming                                        13\n",
       "Women's Grooming', 'Epilator and Shaver       12\n",
       "Name: subCategory, dtype: int64"
      ]
     },
     "execution_count": 13,
     "metadata": {},
     "output_type": "execute_result"
    }
   ],
   "source": [
    "scrape_data['subCategory'].value_counts()"
   ]
  },
  {
   "cell_type": "code",
   "execution_count": 14,
   "metadata": {},
   "outputs": [
    {
     "data": {
      "text/plain": [
       "<matplotlib.axes._subplots.AxesSubplot at 0x15239a074a8>"
      ]
     },
     "execution_count": 14,
     "metadata": {},
     "output_type": "execute_result"
    },
    {
     "data": {
      "image/png": "[encoded data removed]",
      "text/plain": [
       "<Figure size 720x288 with 1 Axes>"
      ]
     },
     "metadata": {
      "needs_background": "light"
     },
     "output_type": "display_data"
    }
   ],
   "source": [
    "plt.figure(figsize=(10,4))\n",
    "scrape_data['category'].value_counts().plot(kind='bar')"
   ]
  },
  {
   "cell_type": "markdown",
   "metadata": {},
   "source": [
    "total no of words in details"
   ]
  },
  {
   "cell_type": "code",
   "execution_count": 15,
   "metadata": {},
   "outputs": [
    {
     "data": {
      "text/plain": [
       "3444015"
      ]
     },
     "execution_count": 15,
     "metadata": {},
     "output_type": "execute_result"
    }
   ],
   "source": [
    "scrape_data['details'].apply(lambda x: len(str(x).split(' '))).sum()"
   ]
  },
  {
   "cell_type": "markdown",
   "metadata": {},
   "source": [
    "removing null values"
   ]
  },
  {
   "cell_type": "code",
   "execution_count": 16,
   "metadata": {},
   "outputs": [
    {
     "data": {
      "text/plain": [
       "467"
      ]
     },
     "execution_count": 16,
     "metadata": {},
     "output_type": "execute_result"
    }
   ],
   "source": [
    "scrape_data['details'].isnull().sum()"
   ]
  },
  {
   "cell_type": "code",
   "execution_count": 17,
   "metadata": {},
   "outputs": [],
   "source": [
    "scrape_data['details'].replace('', np.nan, inplace=True)"
   ]
  },
  {
   "cell_type": "code",
   "execution_count": 18,
   "metadata": {},
   "outputs": [],
   "source": [
    " scrape_data.dropna(subset=['details'], inplace=True)"
   ]
  },
  {
   "cell_type": "code",
   "execution_count": 19,
   "metadata": {},
   "outputs": [
    {
     "data": {
      "text/plain": [
       "0"
      ]
     },
     "execution_count": 19,
     "metadata": {},
     "output_type": "execute_result"
    }
   ],
   "source": [
    "scrape_data['details'].isnull().sum()"
   ]
  },
  {
   "cell_type": "markdown",
   "metadata": {},
   "source": [
    "getting data ready for building model\n"
   ]
  },
  {
   "cell_type": "code",
   "execution_count": 20,
   "metadata": {},
   "outputs": [],
   "source": [
    "from sklearn.model_selection import train_test_split"
   ]
  },
  {
   "cell_type": "code",
   "execution_count": 21,
   "metadata": {},
   "outputs": [],
   "source": [
    "X = scrape_data['details']\n",
    "y = scrape_data['category']\n",
    "X_train, X_test, y_train, y_test = train_test_split(X, y, test_size=0.3, random_state = 42)"
   ]
  },
  {
   "cell_type": "code",
   "execution_count": 22,
   "metadata": {},
   "outputs": [],
   "source": [
    "from sklearn.naive_bayes import MultinomialNB\n",
    "from sklearn.pipeline import Pipeline\n",
    "from sklearn.feature_extraction.text import CountVectorizer\n",
    "from sklearn.feature_extraction.text import TfidfTransformer"
   ]
  },
  {
   "cell_type": "code",
   "execution_count": 23,
   "metadata": {
    "scrolled": true
   },
   "outputs": [
    {
     "data": {
      "text/plain": [
       "Pipeline(memory=None,\n",
       "     steps=[('vect', CountVectorizer(analyzer='word', binary=False, decode_error='strict',\n",
       "        dtype=<class 'numpy.int64'>, encoding='utf-8', input='content',\n",
       "        lowercase=True, max_df=1.0, max_features=None, min_df=1,\n",
       "        ngram_range=(1, 1), preprocessor=None, stop_words=None,\n",
       "        strip...inear_tf=False, use_idf=True)), ('clf', MultinomialNB(alpha=1.0, class_prior=None, fit_prior=True))])"
      ]
     },
     "execution_count": 23,
     "metadata": {},
     "output_type": "execute_result"
    }
   ],
   "source": [
    "nb = Pipeline([('vect', CountVectorizer()),\n",
    "               ('tfidf', TfidfTransformer()),\n",
    "               ('clf', MultinomialNB()),\n",
    "              ])\n",
    "nb.fit(X_train, y_train)"
   ]
  },
  {
   "cell_type": "code",
   "execution_count": 24,
   "metadata": {},
   "outputs": [],
   "source": [
    "from sklearn.metrics import accuracy_score\n",
    "y_pred = nb.predict(X_test)"
   ]
  },
  {
   "cell_type": "code",
   "execution_count": 25,
   "metadata": {},
   "outputs": [
    {
     "name": "stdout",
     "output_type": "stream",
     "text": [
      "accuracy 0.7607203118636179\n"
     ]
    }
   ],
   "source": [
    "print('accuracy %s' % accuracy_score(y_pred, y_test))"
   ]
  },
  {
   "cell_type": "code",
   "execution_count": 26,
   "metadata": {},
   "outputs": [
    {
     "name": "stderr",
     "output_type": "stream",
     "text": [
      "c:\\users\\aasis\\appdata\\local\\programs\\python\\python37\\lib\\site-packages\\sklearn\\metrics\\classification.py:1143: UndefinedMetricWarning: Precision and F-score are ill-defined and being set to 0.0 in labels with no predicted samples.\n",
      "  'precision', 'predicted', average, warn_for)\n"
     ]
    },
    {
     "name": "stdout",
     "output_type": "stream",
     "text": [
      "                      precision    recall  f1-score   support\n",
      "\n",
      "               Women       0.28      0.07      0.11      1294\n",
      "                 Men       0.19      0.01      0.01      1203\n",
      "                Kids       0.97      0.76      0.85      9402\n",
      "         Electronics       0.00      0.00      0.00       640\n",
      "     Home and Living       0.00      0.00      0.00       686\n",
      "  Health and Fitness       0.66      0.99      0.79     13646\n",
      "                Auto       0.79      0.93      0.85      2282\n",
      "        Pet Supplies       0.95      0.89      0.92       195\n",
      "          Activities       0.00      0.00      0.00        59\n",
      "Grocery and Crockery       0.99      0.59      0.74      4408\n",
      "           Sastobook       0.96      0.81      0.88       559\n",
      "\n",
      "           micro avg       0.76      0.76      0.76     34374\n",
      "           macro avg       0.52      0.46      0.47     34374\n",
      "        weighted avg       0.74      0.76      0.72     34374\n",
      "\n"
     ]
    }
   ],
   "source": [
    "from sklearn.metrics import classification_report \n",
    "target=['Women', 'Men', 'Kids', 'Electronics', 'Home and Living',\n",
    "       'Health and Fitness', 'Auto', 'Pet Supplies', 'Activities',\n",
    "       'Grocery and Crockery', 'Sastobook']\n",
    "print(classification_report(y_test, y_pred,target_names=target))"
   ]
  },
  {
   "cell_type": "markdown",
   "metadata": {},
   "source": [
    "using linear support vector machines"
   ]
  },
  {
   "cell_type": "code",
   "execution_count": 27,
   "metadata": {},
   "outputs": [],
   "source": [
    "from sklearn.linear_model import SGDClassifier"
   ]
  },
  {
   "cell_type": "code",
   "execution_count": 28,
   "metadata": {},
   "outputs": [],
   "source": [
    "sgd = Pipeline([('vect', CountVectorizer()),\n",
    "                ('tfidf', TfidfTransformer()),\n",
    "                ('clf', SGDClassifier(loss='hinge', penalty='l2',alpha=1e-3, random_state=42, max_iter=5, tol=None)),\n",
    "               ])"
   ]
  },
  {
   "cell_type": "code",
   "execution_count": 29,
   "metadata": {},
   "outputs": [
    {
     "name": "stderr",
     "output_type": "stream",
     "text": [
      "c:\\users\\aasis\\appdata\\local\\programs\\python\\python37\\lib\\site-packages\\sklearn\\linear_model\\stochastic_gradient.py:183: FutureWarning: max_iter and tol parameters have been added in SGDClassifier in 0.19. If max_iter is set but tol is left unset, the default value for tol in 0.19 and 0.20 will be None (which is equivalent to -infinity, so it has no effect) but will change in 0.21 to 1e-3. Specify tol to silence this warning.\n",
      "  FutureWarning)\n"
     ]
    },
    {
     "data": {
      "text/plain": [
       "Pipeline(memory=None,\n",
       "     steps=[('vect', CountVectorizer(analyzer='word', binary=False, decode_error='strict',\n",
       "        dtype=<class 'numpy.int64'>, encoding='utf-8', input='content',\n",
       "        lowercase=True, max_df=1.0, max_features=None, min_df=1,\n",
       "        ngram_range=(1, 1), preprocessor=None, stop_words=None,\n",
       "        strip...dom_state=42, shuffle=True, tol=None,\n",
       "       validation_fraction=0.1, verbose=0, warm_start=False))])"
      ]
     },
     "execution_count": 29,
     "metadata": {},
     "output_type": "execute_result"
    }
   ],
   "source": [
    "sgd.fit(X_train, y_train)"
   ]
  },
  {
   "cell_type": "code",
   "execution_count": 30,
   "metadata": {},
   "outputs": [],
   "source": [
    "y_pred = sgd.predict(X_test)"
   ]
  },
  {
   "cell_type": "code",
   "execution_count": 31,
   "metadata": {},
   "outputs": [
    {
     "name": "stdout",
     "output_type": "stream",
     "text": [
      "accuracy 0.752516436841799\n",
      "                      precision    recall  f1-score   support\n",
      "\n",
      "               Women       0.50      0.00      0.00      1294\n",
      "                 Men       0.00      0.00      0.00      1203\n",
      "                Kids       0.92      0.81      0.86      9402\n",
      "         Electronics       0.00      0.00      0.00       640\n",
      "     Home and Living       0.00      0.00      0.00       686\n",
      "  Health and Fitness       0.64      1.00      0.78     13646\n",
      "                Auto       0.97      0.73      0.83      2282\n",
      "        Pet Supplies       0.79      0.90      0.84       195\n",
      "          Activities       0.00      0.00      0.00        59\n",
      "Grocery and Crockery       0.95      0.60      0.74      4408\n",
      "           Sastobook       0.99      0.37      0.54       559\n",
      "\n",
      "           micro avg       0.75      0.75      0.75     34374\n",
      "           macro avg       0.52      0.40      0.42     34374\n",
      "        weighted avg       0.73      0.75      0.71     34374\n",
      "\n"
     ]
    }
   ],
   "source": [
    "print('accuracy %s' % accuracy_score(y_pred, y_test))\n",
    "print(classification_report(y_test, y_pred,target_names=target))"
   ]
  },
  {
   "cell_type": "markdown",
   "metadata": {},
   "source": [
    "using logistic regression"
   ]
  },
  {
   "cell_type": "code",
   "execution_count": 32,
   "metadata": {},
   "outputs": [],
   "source": [
    "from sklearn.linear_model import LogisticRegression"
   ]
  },
  {
   "cell_type": "code",
   "execution_count": 33,
   "metadata": {},
   "outputs": [
    {
     "name": "stderr",
     "output_type": "stream",
     "text": [
      "c:\\users\\aasis\\appdata\\local\\programs\\python\\python37\\lib\\site-packages\\sklearn\\linear_model\\logistic.py:433: FutureWarning: Default solver will be changed to 'lbfgs' in 0.22. Specify a solver to silence this warning.\n",
      "  FutureWarning)\n",
      "c:\\users\\aasis\\appdata\\local\\programs\\python\\python37\\lib\\site-packages\\sklearn\\linear_model\\logistic.py:460: FutureWarning: Default multi_class will be changed to 'auto' in 0.22. Specify the multi_class option to silence this warning.\n",
      "  \"this warning.\", FutureWarning)\n"
     ]
    },
    {
     "data": {
      "text/plain": [
       "Pipeline(memory=None,\n",
       "     steps=[('vect', CountVectorizer(analyzer='word', binary=False, decode_error='strict',\n",
       "        dtype=<class 'numpy.int64'>, encoding='utf-8', input='content',\n",
       "        lowercase=True, max_df=1.0, max_features=None, min_df=1,\n",
       "        ngram_range=(1, 1), preprocessor=None, stop_words=None,\n",
       "        strip...penalty='l2', random_state=None,\n",
       "          solver='warn', tol=0.0001, verbose=0, warm_start=False))])"
      ]
     },
     "execution_count": 33,
     "metadata": {},
     "output_type": "execute_result"
    }
   ],
   "source": [
    "logreg = Pipeline([('vect', CountVectorizer()),\n",
    "                ('tfidf', TfidfTransformer()),\n",
    "                ('clf', LogisticRegression(n_jobs=1, C=1e5)),\n",
    "               ])\n",
    "logreg.fit(X_train, y_train)"
   ]
  },
  {
   "cell_type": "code",
   "execution_count": 34,
   "metadata": {},
   "outputs": [],
   "source": [
    "y_pred = logreg.predict(X_test)"
   ]
  },
  {
   "cell_type": "code",
   "execution_count": 35,
   "metadata": {},
   "outputs": [
    {
     "name": "stdout",
     "output_type": "stream",
     "text": [
      "accuracy 0.7761098504683772\n",
      "                      precision    recall  f1-score   support\n",
      "\n",
      "               Women       0.11      0.01      0.01      1294\n",
      "                 Men       0.20      0.00      0.00      1203\n",
      "                Kids       0.95      0.82      0.88      9402\n",
      "         Electronics       0.00      0.00      0.00       640\n",
      "     Home and Living       0.17      0.00      0.00       686\n",
      "  Health and Fitness       0.66      1.00      0.79     13646\n",
      "                Auto       1.00      0.85      0.92      2282\n",
      "        Pet Supplies       0.95      0.98      0.97       195\n",
      "          Activities       0.00      0.00      0.00        59\n",
      "Grocery and Crockery       0.93      0.61      0.74      4408\n",
      "           Sastobook       0.99      0.96      0.97       559\n",
      "\n",
      "           micro avg       0.78      0.78      0.78     34374\n",
      "           macro avg       0.54      0.48      0.48     34374\n",
      "        weighted avg       0.74      0.78      0.73     34374\n",
      "\n"
     ]
    }
   ],
   "source": [
    "print('accuracy %s' % accuracy_score(y_pred, y_test))\n",
    "print(classification_report(y_test, y_pred,target_names=target))"
   ]
  },
  {
   "cell_type": "code",
   "execution_count": 36,
   "metadata": {},
   "outputs": [
    {
     "data": {
      "text/html": [
       "<div>\n",
       "<style scoped>\n",
       "    .dataframe tbody tr th:only-of-type {\n",
       "        vertical-align: middle;\n",
       "    }\n",
       "\n",
       "    .dataframe tbody tr th {\n",
       "        vertical-align: top;\n",
       "    }\n",
       "\n",
       "    .dataframe thead th {\n",
       "        text-align: right;\n",
       "    }\n",
       "</style>\n",
       "<table border=\"1\" class=\"dataframe\">\n",
       "  <thead>\n",
       "    <tr style=\"text-align: right;\">\n",
       "      <th></th>\n",
       "      <th>category</th>\n",
       "      <th>details</th>\n",
       "      <th>discountedPrice</th>\n",
       "      <th>imageUrl</th>\n",
       "      <th>name</th>\n",
       "      <th>originalPrice</th>\n",
       "      <th>subCategory</th>\n",
       "      <th>subSubCategory</th>\n",
       "    </tr>\n",
       "  </thead>\n",
       "  <tbody>\n",
       "    <tr>\n",
       "      <th>1817</th>\n",
       "      <td>Men</td>\n",
       "      <td>Conton Material gives full comfort Round Neck ...</td>\n",
       "      <td>200.0</td>\n",
       "      <td>https://sd.azureedge.net/0/images/product/4230...</td>\n",
       "      <td>Simple Plain Tshirt (UNISEX)</td>\n",
       "      <td>250.0</td>\n",
       "      <td>Clothing</td>\n",
       "      <td>T-shirts and Sleeveless</td>\n",
       "    </tr>\n",
       "    <tr>\n",
       "      <th>1818</th>\n",
       "      <td>Men</td>\n",
       "      <td>Round Neck Material Cotton Handwash Easy peit ...</td>\n",
       "      <td>175.0</td>\n",
       "      <td>https://sd.azureedge.net/0/images/product/6071...</td>\n",
       "      <td>Plain T-shirt\\r\\nPrajol</td>\n",
       "      <td>250.0</td>\n",
       "      <td>Clothing</td>\n",
       "      <td>T-shirts and Sleeveless</td>\n",
       "    </tr>\n",
       "    <tr>\n",
       "      <th>1819</th>\n",
       "      <td>Men</td>\n",
       "      <td>Round Neck Material Cotton Handwash Easy peit ...</td>\n",
       "      <td>175.0</td>\n",
       "      <td>https://sd.azureedge.net/0/images/noImage.jpg</td>\n",
       "      <td>Plain T-shirt\\r\\nPrajol</td>\n",
       "      <td>250.0</td>\n",
       "      <td>Clothing</td>\n",
       "      <td>T-shirts and Sleeveless</td>\n",
       "    </tr>\n",
       "    <tr>\n",
       "      <th>1820</th>\n",
       "      <td>Men</td>\n",
       "      <td>Round Neck Material Cotton Handwash Easy peit ...</td>\n",
       "      <td>175.0</td>\n",
       "      <td>https://sd.azureedge.net/0/images/product/6071...</td>\n",
       "      <td>Plain T-shirt\\r\\nPrajol</td>\n",
       "      <td>250.0</td>\n",
       "      <td>Clothing</td>\n",
       "      <td>T-shirts and Sleeveless</td>\n",
       "    </tr>\n",
       "    <tr>\n",
       "      <th>1821</th>\n",
       "      <td>Men</td>\n",
       "      <td>Round Neck Material Cotton Handwash Easy peit ...</td>\n",
       "      <td>175.0</td>\n",
       "      <td>https://sd.azureedge.net/0/images/product/6071...</td>\n",
       "      <td>Plain T-shirt\\r\\nPrajol</td>\n",
       "      <td>250.0</td>\n",
       "      <td>Clothing</td>\n",
       "      <td>T-shirts and Sleeveless</td>\n",
       "    </tr>\n",
       "    <tr>\n",
       "      <th>1822</th>\n",
       "      <td>Men</td>\n",
       "      <td>Round Neck Material Cotton Handwash  Easy peit...</td>\n",
       "      <td>175.0</td>\n",
       "      <td>https://sd.azureedge.net/0/images/product/6071...</td>\n",
       "      <td>Plain T-shirt\\r\\nPrajol</td>\n",
       "      <td>250.0</td>\n",
       "      <td>Clothing</td>\n",
       "      <td>T-shirts and Sleeveless</td>\n",
       "    </tr>\n",
       "    <tr>\n",
       "      <th>1823</th>\n",
       "      <td>Men</td>\n",
       "      <td>Round Neck Material Cotton Handwash Easy peit ...</td>\n",
       "      <td>175.0</td>\n",
       "      <td>https://sd.azureedge.net/0/images/product/6071...</td>\n",
       "      <td>Plain T-shirt\\r\\nPrajol</td>\n",
       "      <td>250.0</td>\n",
       "      <td>Clothing</td>\n",
       "      <td>T-shirts and Sleeveless</td>\n",
       "    </tr>\n",
       "    <tr>\n",
       "      <th>1824</th>\n",
       "      <td>Men</td>\n",
       "      <td>Round Neck Material Cotton Handwash Easy peit ...</td>\n",
       "      <td>175.0</td>\n",
       "      <td>https://sd.azureedge.net/0/images/product/6071...</td>\n",
       "      <td>Plain T-shirt\\r\\nPrajol</td>\n",
       "      <td>250.0</td>\n",
       "      <td>Clothing</td>\n",
       "      <td>T-shirts and Sleeveless</td>\n",
       "    </tr>\n",
       "    <tr>\n",
       "      <th>1825</th>\n",
       "      <td>Men</td>\n",
       "      <td>Round Neck Material Cotton Handwash Easy peit ...</td>\n",
       "      <td>175.0</td>\n",
       "      <td>https://sd.azureedge.net/0/images/product/6071...</td>\n",
       "      <td>Plain T-shirt\\r\\nPrajol</td>\n",
       "      <td>250.0</td>\n",
       "      <td>Clothing</td>\n",
       "      <td>T-shirts and Sleeveless</td>\n",
       "    </tr>\n",
       "    <tr>\n",
       "      <th>1826</th>\n",
       "      <td>Men</td>\n",
       "      <td>Stylish yet comfortable Fabric  cotton Fit Reg...</td>\n",
       "      <td>299.0</td>\n",
       "      <td>https://sd.azureedge.net/0/images/product/1683...</td>\n",
       "      <td>Men's Prayer Flag Printed T-shirt</td>\n",
       "      <td>350.0</td>\n",
       "      <td>Clothing</td>\n",
       "      <td>T-shirts and Sleeveless</td>\n",
       "    </tr>\n",
       "    <tr>\n",
       "      <th>1827</th>\n",
       "      <td>Men</td>\n",
       "      <td>Stylish yet comfortable Fabric  cotton Fit Reg...</td>\n",
       "      <td>299.0</td>\n",
       "      <td>https://sd.azureedge.net/0/images/product/1683...</td>\n",
       "      <td>Men's Prayer Flag Printed T-shirt</td>\n",
       "      <td>350.0</td>\n",
       "      <td>Clothing</td>\n",
       "      <td>T-shirts and Sleeveless</td>\n",
       "    </tr>\n",
       "    <tr>\n",
       "      <th>1828</th>\n",
       "      <td>Men</td>\n",
       "      <td>Stylish yet comfortable Fabric  cotton Fit Reg...</td>\n",
       "      <td>299.0</td>\n",
       "      <td>https://sd.azureedge.net/0/images/product/1683...</td>\n",
       "      <td>Men's Prayer Flag Printed T-shirt</td>\n",
       "      <td>350.0</td>\n",
       "      <td>Clothing</td>\n",
       "      <td>T-shirts and Sleeveless</td>\n",
       "    </tr>\n",
       "    <tr>\n",
       "      <th>1829</th>\n",
       "      <td>Men</td>\n",
       "      <td>Stylish yet comfortable Fabric  cotton Fit Reg...</td>\n",
       "      <td>299.0</td>\n",
       "      <td>https://sd.azureedge.net/0/images/product/1683...</td>\n",
       "      <td>Men's Prayer Flag Printed T-shirt</td>\n",
       "      <td>350.0</td>\n",
       "      <td>Clothing</td>\n",
       "      <td>T-shirts and Sleeveless</td>\n",
       "    </tr>\n",
       "    <tr>\n",
       "      <th>1830</th>\n",
       "      <td>Men</td>\n",
       "      <td>Stylish yet comfortable Fabric  cotton Fit Reg...</td>\n",
       "      <td>299.0</td>\n",
       "      <td>https://sd.azureedge.net/0/images/product/1683...</td>\n",
       "      <td>Men's Mask Buddha Printed T-shirt</td>\n",
       "      <td>350.0</td>\n",
       "      <td>Clothing</td>\n",
       "      <td>T-shirts and Sleeveless</td>\n",
       "    </tr>\n",
       "    <tr>\n",
       "      <th>1831</th>\n",
       "      <td>Men</td>\n",
       "      <td>Stylish yet comfortable Fabric  cotton Fit Reg...</td>\n",
       "      <td>299.0</td>\n",
       "      <td>https://sd.azureedge.net/0/images/product/1683...</td>\n",
       "      <td>Men's Mask Buddha Printed T-shirt</td>\n",
       "      <td>350.0</td>\n",
       "      <td>Clothing</td>\n",
       "      <td>T-shirts and Sleeveless</td>\n",
       "    </tr>\n",
       "    <tr>\n",
       "      <th>1832</th>\n",
       "      <td>Men</td>\n",
       "      <td>Stylish yet comfortable Fabric  cotton Fit Reg...</td>\n",
       "      <td>299.0</td>\n",
       "      <td>https://sd.azureedge.net/0/images/product/1683...</td>\n",
       "      <td>Men's Mask Buddha Printed T-shirt</td>\n",
       "      <td>350.0</td>\n",
       "      <td>Clothing</td>\n",
       "      <td>T-shirts and Sleeveless</td>\n",
       "    </tr>\n",
       "    <tr>\n",
       "      <th>1833</th>\n",
       "      <td>Men</td>\n",
       "      <td>Stylish yet comfortable Fabric  cotton  Fit Re...</td>\n",
       "      <td>299.0</td>\n",
       "      <td>https://sd.azureedge.net/0/images/product/1683...</td>\n",
       "      <td>Men's Golden Mandala Printed T-shirt</td>\n",
       "      <td>350.0</td>\n",
       "      <td>Clothing</td>\n",
       "      <td>T-shirts and Sleeveless</td>\n",
       "    </tr>\n",
       "    <tr>\n",
       "      <th>1834</th>\n",
       "      <td>Men</td>\n",
       "      <td>Stylish yet comfortable Fabric  cotton Fit Reg...</td>\n",
       "      <td>299.0</td>\n",
       "      <td>https://sd.azureedge.net/0/images/product/1683...</td>\n",
       "      <td>Men's Golden Mandala Printed T-shirt</td>\n",
       "      <td>350.0</td>\n",
       "      <td>Clothing</td>\n",
       "      <td>T-shirts and Sleeveless</td>\n",
       "    </tr>\n",
       "    <tr>\n",
       "      <th>1835</th>\n",
       "      <td>Men</td>\n",
       "      <td>Stylish yet comfortable Fabric  cotton Fit Reg...</td>\n",
       "      <td>299.0</td>\n",
       "      <td>https://sd.azureedge.net/0/images/product/1683...</td>\n",
       "      <td>Men's Golden Mandala Printed T-shirt</td>\n",
       "      <td>350.0</td>\n",
       "      <td>Clothing</td>\n",
       "      <td>T-shirts and Sleeveless</td>\n",
       "    </tr>\n",
       "    <tr>\n",
       "      <th>1836</th>\n",
       "      <td>Men</td>\n",
       "      <td>Stylish yet comfortable Fabric  cotton Fit Reg...</td>\n",
       "      <td>299.0</td>\n",
       "      <td>https://sd.azureedge.net/0/images/product/1683...</td>\n",
       "      <td>Men's Endless Knot Printed T-shirt</td>\n",
       "      <td>350.0</td>\n",
       "      <td>Clothing</td>\n",
       "      <td>T-shirts and Sleeveless</td>\n",
       "    </tr>\n",
       "    <tr>\n",
       "      <th>1837</th>\n",
       "      <td>Men</td>\n",
       "      <td>Stylish yet comfortable Fabric  cotton Fit Reg...</td>\n",
       "      <td>299.0</td>\n",
       "      <td>https://sd.azureedge.net/0/images/product/1683...</td>\n",
       "      <td>Men's Endless Knot Printed T-shirt</td>\n",
       "      <td>350.0</td>\n",
       "      <td>Clothing</td>\n",
       "      <td>T-shirts and Sleeveless</td>\n",
       "    </tr>\n",
       "    <tr>\n",
       "      <th>1838</th>\n",
       "      <td>Men</td>\n",
       "      <td>Stylish yet comfortable Fabric  cotton Fit Reg...</td>\n",
       "      <td>299.0</td>\n",
       "      <td>https://sd.azureedge.net/0/images/product/1683...</td>\n",
       "      <td>Men's Golden Ganesh Printed T-shirt</td>\n",
       "      <td>350.0</td>\n",
       "      <td>Clothing</td>\n",
       "      <td>T-shirts and Sleeveless</td>\n",
       "    </tr>\n",
       "    <tr>\n",
       "      <th>1839</th>\n",
       "      <td>Men</td>\n",
       "      <td>Stylish yet comfortable Fabric  cotton Fit Reg...</td>\n",
       "      <td>299.0</td>\n",
       "      <td>https://sd.azureedge.net/0/images/product/1683...</td>\n",
       "      <td>Men's Golden Ganesh Printed T-shirt</td>\n",
       "      <td>350.0</td>\n",
       "      <td>Clothing</td>\n",
       "      <td>T-shirts and Sleeveless</td>\n",
       "    </tr>\n",
       "    <tr>\n",
       "      <th>1840</th>\n",
       "      <td>Men</td>\n",
       "      <td>Stylish yet comfortable Fabric  cotton Fit Reg...</td>\n",
       "      <td>299.0</td>\n",
       "      <td>https://sd.azureedge.net/0/images/product/1683...</td>\n",
       "      <td>Men's Golden Ganesh Printed T-shirt</td>\n",
       "      <td>350.0</td>\n",
       "      <td>Clothing</td>\n",
       "      <td>T-shirts and Sleeveless</td>\n",
       "    </tr>\n",
       "    <tr>\n",
       "      <th>1841</th>\n",
       "      <td>Men</td>\n",
       "      <td>Material Cotton Suitable for causal wear Neckl...</td>\n",
       "      <td>NaN</td>\n",
       "      <td>https://sd.azureedge.net/0/images/product/4171...</td>\n",
       "      <td>Black Tshirt for Men</td>\n",
       "      <td>375.0</td>\n",
       "      <td>Clothing</td>\n",
       "      <td>T-shirts and Sleeveless</td>\n",
       "    </tr>\n",
       "    <tr>\n",
       "      <th>1842</th>\n",
       "      <td>Men</td>\n",
       "      <td>Material Cotton Suitable for causal wear Neckl...</td>\n",
       "      <td>NaN</td>\n",
       "      <td>https://sd.azureedge.net/0/images/product/4171...</td>\n",
       "      <td>Blue Tshirt for Men</td>\n",
       "      <td>375.0</td>\n",
       "      <td>Clothing</td>\n",
       "      <td>T-shirts and Sleeveless</td>\n",
       "    </tr>\n",
       "    <tr>\n",
       "      <th>1843</th>\n",
       "      <td>Men</td>\n",
       "      <td>Material Cotton Suitable for causal wear Neckl...</td>\n",
       "      <td>NaN</td>\n",
       "      <td>https://sd.azureedge.net/0/images/product/4171...</td>\n",
       "      <td>Grey Tshirt for Men</td>\n",
       "      <td>375.0</td>\n",
       "      <td>Clothing</td>\n",
       "      <td>T-shirts and Sleeveless</td>\n",
       "    </tr>\n",
       "    <tr>\n",
       "      <th>1844</th>\n",
       "      <td>Men</td>\n",
       "      <td>Material Cotton Suitable for casual wear Neckl...</td>\n",
       "      <td>NaN</td>\n",
       "      <td>https://sd.azureedge.net/0/images/product/4171...</td>\n",
       "      <td>Green Tshirt for Men</td>\n",
       "      <td>375.0</td>\n",
       "      <td>Clothing</td>\n",
       "      <td>T-shirts and Sleeveless</td>\n",
       "    </tr>\n",
       "    <tr>\n",
       "      <th>1845</th>\n",
       "      <td>Men</td>\n",
       "      <td>Material Cotton Suitable for causal wear Neckl...</td>\n",
       "      <td>NaN</td>\n",
       "      <td>https://sd.azureedge.net/0/images/product/4171...</td>\n",
       "      <td>Maroon Tshirt for Men</td>\n",
       "      <td>375.0</td>\n",
       "      <td>Clothing</td>\n",
       "      <td>T-shirts and Sleeveless</td>\n",
       "    </tr>\n",
       "    <tr>\n",
       "      <th>1846</th>\n",
       "      <td>Men</td>\n",
       "      <td>Closure VNeck Plain design Machine wash Materi...</td>\n",
       "      <td>NaN</td>\n",
       "      <td>https://sd.azureedge.net/0/images/product/2904...</td>\n",
       "      <td>Bastra Plain T-shirt Half</td>\n",
       "      <td>650.0</td>\n",
       "      <td>Clothing</td>\n",
       "      <td>T-shirts and Sleeveless</td>\n",
       "    </tr>\n",
       "    <tr>\n",
       "      <th>...</th>\n",
       "      <td>...</td>\n",
       "      <td>...</td>\n",
       "      <td>...</td>\n",
       "      <td>...</td>\n",
       "      <td>...</td>\n",
       "      <td>...</td>\n",
       "      <td>...</td>\n",
       "      <td>...</td>\n",
       "    </tr>\n",
       "    <tr>\n",
       "      <th>2499</th>\n",
       "      <td>Men</td>\n",
       "      <td>Material Cotton Regular Fit Round Neck Short S...</td>\n",
       "      <td>475.0</td>\n",
       "      <td>https://sd.azureedge.net/0/images/product/4037...</td>\n",
       "      <td>WO:SA Wears \"Rick and Morty\" Unisex Tees</td>\n",
       "      <td>500.0</td>\n",
       "      <td>Clothing</td>\n",
       "      <td>T-shirts and Sleeveless</td>\n",
       "    </tr>\n",
       "    <tr>\n",
       "      <th>2500</th>\n",
       "      <td>Men</td>\n",
       "      <td>Material  Cotton Round Neckline Sleeves  Half ...</td>\n",
       "      <td>475.0</td>\n",
       "      <td>https://sd.azureedge.net/0/images/product/5791...</td>\n",
       "      <td>WO:SA Wears Green \"CROW CAGE\" Unisex Tees</td>\n",
       "      <td>500.0</td>\n",
       "      <td>Clothing</td>\n",
       "      <td>T-shirts and Sleeveless</td>\n",
       "    </tr>\n",
       "    <tr>\n",
       "      <th>2501</th>\n",
       "      <td>Men</td>\n",
       "      <td>Material  Cotton Round Neckline Sleeves  Half ...</td>\n",
       "      <td>475.0</td>\n",
       "      <td>https://sd.azureedge.net/0/images/product/5791...</td>\n",
       "      <td>WO:SA Wears Red \"NIGHT MONSTOR\" Unisex Tees</td>\n",
       "      <td>500.0</td>\n",
       "      <td>Clothing</td>\n",
       "      <td>T-shirts and Sleeveless</td>\n",
       "    </tr>\n",
       "    <tr>\n",
       "      <th>2502</th>\n",
       "      <td>Men</td>\n",
       "      <td>Material  Cotton Round Neckline Sleeves  Half ...</td>\n",
       "      <td>475.0</td>\n",
       "      <td>https://sd.azureedge.net/0/images/product/5791...</td>\n",
       "      <td>WO:SA Wears Red \"NIGHT MONSTOR\" Unisex Tees</td>\n",
       "      <td>500.0</td>\n",
       "      <td>Clothing</td>\n",
       "      <td>T-shirts and Sleeveless</td>\n",
       "    </tr>\n",
       "    <tr>\n",
       "      <th>2503</th>\n",
       "      <td>Men</td>\n",
       "      <td>Ideal for Men  FormGel  PurposeAll Purpose  Ap...</td>\n",
       "      <td>144.0</td>\n",
       "      <td>https://sd.azureedge.net/0/images/product/1422...</td>\n",
       "      <td>Bio Palmyna After Shave Gel 50ml</td>\n",
       "      <td>170.0</td>\n",
       "      <td>Men's Grooming</td>\n",
       "      <td>Skin and Body Care</td>\n",
       "    </tr>\n",
       "    <tr>\n",
       "      <th>2504</th>\n",
       "      <td>Men</td>\n",
       "      <td>Ideal for men Helps eliminate redness Eliminat...</td>\n",
       "      <td>318.0</td>\n",
       "      <td>https://sd.azureedge.net/0/images/product/1419...</td>\n",
       "      <td>Bio Grass After Shave Gel 120ml</td>\n",
       "      <td>375.0</td>\n",
       "      <td>Men's Grooming</td>\n",
       "      <td>Skin and Body Care</td>\n",
       "    </tr>\n",
       "    <tr>\n",
       "      <th>2505</th>\n",
       "      <td>Men</td>\n",
       "      <td>Ideal for Men Lightening and antiaging serum f...</td>\n",
       "      <td>318.0</td>\n",
       "      <td>https://sd.azureedge.net/0/images/product/1424...</td>\n",
       "      <td>Bio Plantain 120ml</td>\n",
       "      <td>375.0</td>\n",
       "      <td>Men's Grooming</td>\n",
       "      <td>Skin and Body Care</td>\n",
       "    </tr>\n",
       "    <tr>\n",
       "      <th>2506</th>\n",
       "      <td>Men</td>\n",
       "      <td>Men Skincare Loreal men expert pure  matte Rel...</td>\n",
       "      <td>NaN</td>\n",
       "      <td>https://sd.azureedge.net/0/images/product/7528...</td>\n",
       "      <td>LOREALPAIS PURE &amp; MATTE - ICY BLACK FOAM</td>\n",
       "      <td>740.0</td>\n",
       "      <td>Men's Grooming</td>\n",
       "      <td>Skin and Body Care</td>\n",
       "    </tr>\n",
       "    <tr>\n",
       "      <th>2507</th>\n",
       "      <td>Men</td>\n",
       "      <td>This refreshing foamy texture deeply cleanses ...</td>\n",
       "      <td>NaN</td>\n",
       "      <td>https://sd.azureedge.net/0/images/product/7534...</td>\n",
       "      <td>Loreal Paris Men Expert Hydra Energetic Detoxi...</td>\n",
       "      <td>740.0</td>\n",
       "      <td>Men's Grooming</td>\n",
       "      <td>Skin and Body Care</td>\n",
       "    </tr>\n",
       "    <tr>\n",
       "      <th>2508</th>\n",
       "      <td>Men</td>\n",
       "      <td>Uses the purifying power of charcoal to captur...</td>\n",
       "      <td>629.0</td>\n",
       "      <td>https://sd.azureedge.net/0/images/product/1450...</td>\n",
       "      <td>Loreal Paris HYDRA ENERGETIC - BLACK CHARCOAL ...</td>\n",
       "      <td>740.0</td>\n",
       "      <td>Men's Grooming</td>\n",
       "      <td>Skin and Body Care</td>\n",
       "    </tr>\n",
       "    <tr>\n",
       "      <th>2509</th>\n",
       "      <td>Men</td>\n",
       "      <td>Refreshes and vitalizes the skin Deeply cleans...</td>\n",
       "      <td>NaN</td>\n",
       "      <td>https://sd.azureedge.net/0/images/product/7544...</td>\n",
       "      <td>LOREALPARIS HYDRA POWER- Awakening foaming gel...</td>\n",
       "      <td>740.0</td>\n",
       "      <td>Men's Grooming</td>\n",
       "      <td>Skin and Body Care</td>\n",
       "    </tr>\n",
       "    <tr>\n",
       "      <th>2510</th>\n",
       "      <td>Men</td>\n",
       "      <td>Deeply cleanses and purifies skin to effecitve...</td>\n",
       "      <td>NaN</td>\n",
       "      <td>https://sd.azureedge.net/0/images/product/1450...</td>\n",
       "      <td>Loreal Paris HYDRA POWER - AWAKENING FOAMING G...</td>\n",
       "      <td>740.0</td>\n",
       "      <td>Men's Grooming</td>\n",
       "      <td>Skin and Body Care</td>\n",
       "    </tr>\n",
       "    <tr>\n",
       "      <th>2511</th>\n",
       "      <td>Men</td>\n",
       "      <td>Men Skincare Loreal men expert pure  matte Enr...</td>\n",
       "      <td>NaN</td>\n",
       "      <td>https://sd.azureedge.net/0/images/product/7530...</td>\n",
       "      <td>LOREAL PARIS PURE &amp; MATTE - VOLCANO RED FOAM</td>\n",
       "      <td>740.0</td>\n",
       "      <td>Men's Grooming</td>\n",
       "      <td>Skin and Body Care</td>\n",
       "    </tr>\n",
       "    <tr>\n",
       "      <th>2512</th>\n",
       "      <td>Men</td>\n",
       "      <td>Detoxifies  hydrates skin for H Reduces signs ...</td>\n",
       "      <td>NaN</td>\n",
       "      <td>https://sd.azureedge.net/0/images/product/7542...</td>\n",
       "      <td>LOREAL PARIS HYDRA ENERGETIC X - PURIFYING WAS...</td>\n",
       "      <td>805.0</td>\n",
       "      <td>Men's Grooming</td>\n",
       "      <td>Skin and Body Care</td>\n",
       "    </tr>\n",
       "    <tr>\n",
       "      <th>2513</th>\n",
       "      <td>Men</td>\n",
       "      <td>Use as a hydrating toner before your usual moi...</td>\n",
       "      <td>NaN</td>\n",
       "      <td>https://sd.azureedge.net/0/images/product/7546...</td>\n",
       "      <td>LOREALPARIS HYDRA POWER- Mountain Water Light ...</td>\n",
       "      <td>840.0</td>\n",
       "      <td>Men's Grooming</td>\n",
       "      <td>Skin and Body Care</td>\n",
       "    </tr>\n",
       "    <tr>\n",
       "      <th>2514</th>\n",
       "      <td>Men</td>\n",
       "      <td>Men Skincare Loreal men expert pure  matte Ide...</td>\n",
       "      <td>NaN</td>\n",
       "      <td>https://sd.azureedge.net/0/images/product/7529...</td>\n",
       "      <td>LOREAL PARIS PURE &amp; MATTE - POWER WATER</td>\n",
       "      <td>875.0</td>\n",
       "      <td>Men's Grooming</td>\n",
       "      <td>Skin and Body Care</td>\n",
       "    </tr>\n",
       "    <tr>\n",
       "      <th>2515</th>\n",
       "      <td>Men</td>\n",
       "      <td>Men Skincare Loreal men expert pure  matte Com...</td>\n",
       "      <td>NaN</td>\n",
       "      <td>https://sd.azureedge.net/0/images/product/7527...</td>\n",
       "      <td>LOREAL PARIS PURE &amp; MATTE - CARE LIQUID WASH</td>\n",
       "      <td>900.0</td>\n",
       "      <td>Men's Grooming</td>\n",
       "      <td>Skin and Body Care</td>\n",
       "    </tr>\n",
       "    <tr>\n",
       "      <th>2516</th>\n",
       "      <td>Men</td>\n",
       "      <td>Acts like a source of energy for the skin to f...</td>\n",
       "      <td>NaN</td>\n",
       "      <td>https://sd.azureedge.net/0/images/product/7537...</td>\n",
       "      <td>Loreal Paris Hydra Energetic Quenching Gel Zer...</td>\n",
       "      <td>1125.0</td>\n",
       "      <td>Men's Grooming</td>\n",
       "      <td>Skin and Body Care</td>\n",
       "    </tr>\n",
       "    <tr>\n",
       "      <th>2517</th>\n",
       "      <td>Men</td>\n",
       "      <td>Enriched with vitamin E this high performing m...</td>\n",
       "      <td>NaN</td>\n",
       "      <td>https://sd.azureedge.net/0/images/product/1449...</td>\n",
       "      <td>Loreal Paris Hydra Energetic Holiday Look 50ml</td>\n",
       "      <td>1180.0</td>\n",
       "      <td>Men's Grooming</td>\n",
       "      <td>Skin and Body Care</td>\n",
       "    </tr>\n",
       "    <tr>\n",
       "      <th>2518</th>\n",
       "      <td>Men</td>\n",
       "      <td>Enriched with vitamin E this high performing m...</td>\n",
       "      <td>NaN</td>\n",
       "      <td>https://sd.azureedge.net/0/images/product/7543...</td>\n",
       "      <td>Loreal Paris Men Expert Hydra Energetic Holida...</td>\n",
       "      <td>1180.0</td>\n",
       "      <td>Men's Grooming</td>\n",
       "      <td>Skin and Body Care</td>\n",
       "    </tr>\n",
       "    <tr>\n",
       "      <th>2519</th>\n",
       "      <td>Men</td>\n",
       "      <td>An icecool refreshing eye treatment Helps revi...</td>\n",
       "      <td>NaN</td>\n",
       "      <td>https://sd.azureedge.net/0/images/product/7535...</td>\n",
       "      <td>Loreal Paris Men Expert Hydra Energetic Ice Co...</td>\n",
       "      <td>1195.0</td>\n",
       "      <td>Men's Grooming</td>\n",
       "      <td>Skin and Body Care</td>\n",
       "    </tr>\n",
       "    <tr>\n",
       "      <th>2520</th>\n",
       "      <td>Men</td>\n",
       "      <td>Men Skincare Immediately metrified skin Antish...</td>\n",
       "      <td>NaN</td>\n",
       "      <td>https://sd.azureedge.net/0/images/product/7532...</td>\n",
       "      <td>LOREAL PARIS PURE %26 MATTE - ANTI SHINE HYDRA...</td>\n",
       "      <td>1195.0</td>\n",
       "      <td>Men's Grooming</td>\n",
       "      <td>Skin and Body Care</td>\n",
       "    </tr>\n",
       "    <tr>\n",
       "      <th>2521</th>\n",
       "      <td>Men</td>\n",
       "      <td>Features a comfortable milky texture that tran...</td>\n",
       "      <td>NaN</td>\n",
       "      <td>https://sd.azureedge.net/0/images/product/7547...</td>\n",
       "      <td>LOREALPARIS HYDRA POWER-(FOR MEN) MOUNTAIN WAT...</td>\n",
       "      <td>1250.0</td>\n",
       "      <td>Men's Grooming</td>\n",
       "      <td>Skin and Body Care</td>\n",
       "    </tr>\n",
       "    <tr>\n",
       "      <th>2522</th>\n",
       "      <td>Men</td>\n",
       "      <td>No shine Airgel technology Instant icy feeling...</td>\n",
       "      <td>NaN</td>\n",
       "      <td>https://sd.azureedge.net/0/images/product/7540...</td>\n",
       "      <td>Loreal Paris Men Expert Hydra Energetic Quench...</td>\n",
       "      <td>1255.0</td>\n",
       "      <td>Men's Grooming</td>\n",
       "      <td>Skin and Body Care</td>\n",
       "    </tr>\n",
       "    <tr>\n",
       "      <th>2523</th>\n",
       "      <td>Men</td>\n",
       "      <td>Features a fresh nongreasy nonsticky formula D...</td>\n",
       "      <td>NaN</td>\n",
       "      <td>https://sd.azureedge.net/0/images/product/7536...</td>\n",
       "      <td>Loreal Paris Men Expert Hydra Energetic Intens...</td>\n",
       "      <td>1255.0</td>\n",
       "      <td>Men's Grooming</td>\n",
       "      <td>Skin and Body Care</td>\n",
       "    </tr>\n",
       "    <tr>\n",
       "      <th>2524</th>\n",
       "      <td>Men</td>\n",
       "      <td>Formulated with Vitamin C to reduce  prevent s...</td>\n",
       "      <td>NaN</td>\n",
       "      <td>https://sd.azureedge.net/0/images/product/7539...</td>\n",
       "      <td>Loreal Paris Men Expert Hydra Energetic Multi ...</td>\n",
       "      <td>1255.0</td>\n",
       "      <td>Men's Grooming</td>\n",
       "      <td>Skin and Body Care</td>\n",
       "    </tr>\n",
       "    <tr>\n",
       "      <th>2525</th>\n",
       "      <td>Men</td>\n",
       "      <td>Glycerin To smooth and moisturize the skin Vit...</td>\n",
       "      <td>NaN</td>\n",
       "      <td>https://sd.azureedge.net/0/images/product/7538...</td>\n",
       "      <td>Loreal Paris Men Expert Hydra Energetic Post S...</td>\n",
       "      <td>1255.0</td>\n",
       "      <td>Men's Grooming</td>\n",
       "      <td>Skin and Body Care</td>\n",
       "    </tr>\n",
       "    <tr>\n",
       "      <th>2526</th>\n",
       "      <td>Men</td>\n",
       "      <td>Features a comfortable milky texture that tran...</td>\n",
       "      <td>NaN</td>\n",
       "      <td>https://sd.azureedge.net/0/images/product/7545...</td>\n",
       "      <td>LOREAL PARIS HYDRA POWER- Mountain Water Cream</td>\n",
       "      <td>1290.0</td>\n",
       "      <td>Men's Grooming</td>\n",
       "      <td>Skin and Body Care</td>\n",
       "    </tr>\n",
       "    <tr>\n",
       "      <th>2527</th>\n",
       "      <td>Men</td>\n",
       "      <td>Soothing ingredient which helps reinforce skin...</td>\n",
       "      <td>NaN</td>\n",
       "      <td>https://sd.azureedge.net/0/images/product/7541...</td>\n",
       "      <td>LOREAL PARIS HYDRA ENERGETIC TURBO BOOSTER TAU...</td>\n",
       "      <td>1420.0</td>\n",
       "      <td>Men's Grooming</td>\n",
       "      <td>Skin and Body Care</td>\n",
       "    </tr>\n",
       "    <tr>\n",
       "      <th>2528</th>\n",
       "      <td>Men</td>\n",
       "      <td>Provides longterm deep hydration for  hours an...</td>\n",
       "      <td>NaN</td>\n",
       "      <td>https://sd.azureedge.net/0/images/product/7548...</td>\n",
       "      <td>Loreal Paris Men Expert Hydra Power Water Powe...</td>\n",
       "      <td>1545.0</td>\n",
       "      <td>Men's Grooming</td>\n",
       "      <td>Skin and Body Care</td>\n",
       "    </tr>\n",
       "  </tbody>\n",
       "</table>\n",
       "<p>623 rows × 8 columns</p>\n",
       "</div>"
      ],
      "text/plain": [
       "     category                                            details  \\\n",
       "1817      Men  Conton Material gives full comfort Round Neck ...   \n",
       "1818      Men  Round Neck Material Cotton Handwash Easy peit ...   \n",
       "1819      Men  Round Neck Material Cotton Handwash Easy peit ...   \n",
       "1820      Men  Round Neck Material Cotton Handwash Easy peit ...   \n",
       "1821      Men  Round Neck Material Cotton Handwash Easy peit ...   \n",
       "1822      Men  Round Neck Material Cotton Handwash  Easy peit...   \n",
       "1823      Men  Round Neck Material Cotton Handwash Easy peit ...   \n",
       "1824      Men  Round Neck Material Cotton Handwash Easy peit ...   \n",
       "1825      Men  Round Neck Material Cotton Handwash Easy peit ...   \n",
       "1826      Men  Stylish yet comfortable Fabric  cotton Fit Reg...   \n",
       "1827      Men  Stylish yet comfortable Fabric  cotton Fit Reg...   \n",
       "1828      Men  Stylish yet comfortable Fabric  cotton Fit Reg...   \n",
       "1829      Men  Stylish yet comfortable Fabric  cotton Fit Reg...   \n",
       "1830      Men  Stylish yet comfortable Fabric  cotton Fit Reg...   \n",
       "1831      Men  Stylish yet comfortable Fabric  cotton Fit Reg...   \n",
       "1832      Men  Stylish yet comfortable Fabric  cotton Fit Reg...   \n",
       "1833      Men  Stylish yet comfortable Fabric  cotton  Fit Re...   \n",
       "1834      Men  Stylish yet comfortable Fabric  cotton Fit Reg...   \n",
       "1835      Men  Stylish yet comfortable Fabric  cotton Fit Reg...   \n",
       "1836      Men  Stylish yet comfortable Fabric  cotton Fit Reg...   \n",
       "1837      Men  Stylish yet comfortable Fabric  cotton Fit Reg...   \n",
       "1838      Men  Stylish yet comfortable Fabric  cotton Fit Reg...   \n",
       "1839      Men  Stylish yet comfortable Fabric  cotton Fit Reg...   \n",
       "1840      Men  Stylish yet comfortable Fabric  cotton Fit Reg...   \n",
       "1841      Men  Material Cotton Suitable for causal wear Neckl...   \n",
       "1842      Men  Material Cotton Suitable for causal wear Neckl...   \n",
       "1843      Men  Material Cotton Suitable for causal wear Neckl...   \n",
       "1844      Men  Material Cotton Suitable for casual wear Neckl...   \n",
       "1845      Men  Material Cotton Suitable for causal wear Neckl...   \n",
       "1846      Men  Closure VNeck Plain design Machine wash Materi...   \n",
       "...       ...                                                ...   \n",
       "2499      Men  Material Cotton Regular Fit Round Neck Short S...   \n",
       "2500      Men  Material  Cotton Round Neckline Sleeves  Half ...   \n",
       "2501      Men  Material  Cotton Round Neckline Sleeves  Half ...   \n",
       "2502      Men  Material  Cotton Round Neckline Sleeves  Half ...   \n",
       "2503      Men  Ideal for Men  FormGel  PurposeAll Purpose  Ap...   \n",
       "2504      Men  Ideal for men Helps eliminate redness Eliminat...   \n",
       "2505      Men  Ideal for Men Lightening and antiaging serum f...   \n",
       "2506      Men  Men Skincare Loreal men expert pure  matte Rel...   \n",
       "2507      Men  This refreshing foamy texture deeply cleanses ...   \n",
       "2508      Men  Uses the purifying power of charcoal to captur...   \n",
       "2509      Men  Refreshes and vitalizes the skin Deeply cleans...   \n",
       "2510      Men  Deeply cleanses and purifies skin to effecitve...   \n",
       "2511      Men  Men Skincare Loreal men expert pure  matte Enr...   \n",
       "2512      Men  Detoxifies  hydrates skin for H Reduces signs ...   \n",
       "2513      Men  Use as a hydrating toner before your usual moi...   \n",
       "2514      Men  Men Skincare Loreal men expert pure  matte Ide...   \n",
       "2515      Men  Men Skincare Loreal men expert pure  matte Com...   \n",
       "2516      Men  Acts like a source of energy for the skin to f...   \n",
       "2517      Men  Enriched with vitamin E this high performing m...   \n",
       "2518      Men  Enriched with vitamin E this high performing m...   \n",
       "2519      Men  An icecool refreshing eye treatment Helps revi...   \n",
       "2520      Men  Men Skincare Immediately metrified skin Antish...   \n",
       "2521      Men  Features a comfortable milky texture that tran...   \n",
       "2522      Men  No shine Airgel technology Instant icy feeling...   \n",
       "2523      Men  Features a fresh nongreasy nonsticky formula D...   \n",
       "2524      Men  Formulated with Vitamin C to reduce  prevent s...   \n",
       "2525      Men  Glycerin To smooth and moisturize the skin Vit...   \n",
       "2526      Men  Features a comfortable milky texture that tran...   \n",
       "2527      Men  Soothing ingredient which helps reinforce skin...   \n",
       "2528      Men  Provides longterm deep hydration for  hours an...   \n",
       "\n",
       "      discountedPrice                                           imageUrl  \\\n",
       "1817            200.0  https://sd.azureedge.net/0/images/product/4230...   \n",
       "1818            175.0  https://sd.azureedge.net/0/images/product/6071...   \n",
       "1819            175.0      https://sd.azureedge.net/0/images/noImage.jpg   \n",
       "1820            175.0  https://sd.azureedge.net/0/images/product/6071...   \n",
       "1821            175.0  https://sd.azureedge.net/0/images/product/6071...   \n",
       "1822            175.0  https://sd.azureedge.net/0/images/product/6071...   \n",
       "1823            175.0  https://sd.azureedge.net/0/images/product/6071...   \n",
       "1824            175.0  https://sd.azureedge.net/0/images/product/6071...   \n",
       "1825            175.0  https://sd.azureedge.net/0/images/product/6071...   \n",
       "1826            299.0  https://sd.azureedge.net/0/images/product/1683...   \n",
       "1827            299.0  https://sd.azureedge.net/0/images/product/1683...   \n",
       "1828            299.0  https://sd.azureedge.net/0/images/product/1683...   \n",
       "1829            299.0  https://sd.azureedge.net/0/images/product/1683...   \n",
       "1830            299.0  https://sd.azureedge.net/0/images/product/1683...   \n",
       "1831            299.0  https://sd.azureedge.net/0/images/product/1683...   \n",
       "1832            299.0  https://sd.azureedge.net/0/images/product/1683...   \n",
       "1833            299.0  https://sd.azureedge.net/0/images/product/1683...   \n",
       "1834            299.0  https://sd.azureedge.net/0/images/product/1683...   \n",
       "1835            299.0  https://sd.azureedge.net/0/images/product/1683...   \n",
       "1836            299.0  https://sd.azureedge.net/0/images/product/1683...   \n",
       "1837            299.0  https://sd.azureedge.net/0/images/product/1683...   \n",
       "1838            299.0  https://sd.azureedge.net/0/images/product/1683...   \n",
       "1839            299.0  https://sd.azureedge.net/0/images/product/1683...   \n",
       "1840            299.0  https://sd.azureedge.net/0/images/product/1683...   \n",
       "1841              NaN  https://sd.azureedge.net/0/images/product/4171...   \n",
       "1842              NaN  https://sd.azureedge.net/0/images/product/4171...   \n",
       "1843              NaN  https://sd.azureedge.net/0/images/product/4171...   \n",
       "1844              NaN  https://sd.azureedge.net/0/images/product/4171...   \n",
       "1845              NaN  https://sd.azureedge.net/0/images/product/4171...   \n",
       "1846              NaN  https://sd.azureedge.net/0/images/product/2904...   \n",
       "...               ...                                                ...   \n",
       "2499            475.0  https://sd.azureedge.net/0/images/product/4037...   \n",
       "2500            475.0  https://sd.azureedge.net/0/images/product/5791...   \n",
       "2501            475.0  https://sd.azureedge.net/0/images/product/5791...   \n",
       "2502            475.0  https://sd.azureedge.net/0/images/product/5791...   \n",
       "2503            144.0  https://sd.azureedge.net/0/images/product/1422...   \n",
       "2504            318.0  https://sd.azureedge.net/0/images/product/1419...   \n",
       "2505            318.0  https://sd.azureedge.net/0/images/product/1424...   \n",
       "2506              NaN  https://sd.azureedge.net/0/images/product/7528...   \n",
       "2507              NaN  https://sd.azureedge.net/0/images/product/7534...   \n",
       "2508            629.0  https://sd.azureedge.net/0/images/product/1450...   \n",
       "2509              NaN  https://sd.azureedge.net/0/images/product/7544...   \n",
       "2510              NaN  https://sd.azureedge.net/0/images/product/1450...   \n",
       "2511              NaN  https://sd.azureedge.net/0/images/product/7530...   \n",
       "2512              NaN  https://sd.azureedge.net/0/images/product/7542...   \n",
       "2513              NaN  https://sd.azureedge.net/0/images/product/7546...   \n",
       "2514              NaN  https://sd.azureedge.net/0/images/product/7529...   \n",
       "2515              NaN  https://sd.azureedge.net/0/images/product/7527...   \n",
       "2516              NaN  https://sd.azureedge.net/0/images/product/7537...   \n",
       "2517              NaN  https://sd.azureedge.net/0/images/product/1449...   \n",
       "2518              NaN  https://sd.azureedge.net/0/images/product/7543...   \n",
       "2519              NaN  https://sd.azureedge.net/0/images/product/7535...   \n",
       "2520              NaN  https://sd.azureedge.net/0/images/product/7532...   \n",
       "2521              NaN  https://sd.azureedge.net/0/images/product/7547...   \n",
       "2522              NaN  https://sd.azureedge.net/0/images/product/7540...   \n",
       "2523              NaN  https://sd.azureedge.net/0/images/product/7536...   \n",
       "2524              NaN  https://sd.azureedge.net/0/images/product/7539...   \n",
       "2525              NaN  https://sd.azureedge.net/0/images/product/7538...   \n",
       "2526              NaN  https://sd.azureedge.net/0/images/product/7545...   \n",
       "2527              NaN  https://sd.azureedge.net/0/images/product/7541...   \n",
       "2528              NaN  https://sd.azureedge.net/0/images/product/7548...   \n",
       "\n",
       "                                                   name  originalPrice  \\\n",
       "1817                       Simple Plain Tshirt (UNISEX)          250.0   \n",
       "1818                            Plain T-shirt\\r\\nPrajol          250.0   \n",
       "1819                            Plain T-shirt\\r\\nPrajol          250.0   \n",
       "1820                            Plain T-shirt\\r\\nPrajol          250.0   \n",
       "1821                            Plain T-shirt\\r\\nPrajol          250.0   \n",
       "1822                            Plain T-shirt\\r\\nPrajol          250.0   \n",
       "1823                            Plain T-shirt\\r\\nPrajol          250.0   \n",
       "1824                            Plain T-shirt\\r\\nPrajol          250.0   \n",
       "1825                            Plain T-shirt\\r\\nPrajol          250.0   \n",
       "1826                  Men's Prayer Flag Printed T-shirt          350.0   \n",
       "1827                  Men's Prayer Flag Printed T-shirt          350.0   \n",
       "1828                  Men's Prayer Flag Printed T-shirt          350.0   \n",
       "1829                  Men's Prayer Flag Printed T-shirt          350.0   \n",
       "1830                  Men's Mask Buddha Printed T-shirt          350.0   \n",
       "1831                  Men's Mask Buddha Printed T-shirt          350.0   \n",
       "1832                  Men's Mask Buddha Printed T-shirt          350.0   \n",
       "1833               Men's Golden Mandala Printed T-shirt          350.0   \n",
       "1834               Men's Golden Mandala Printed T-shirt          350.0   \n",
       "1835               Men's Golden Mandala Printed T-shirt          350.0   \n",
       "1836                 Men's Endless Knot Printed T-shirt          350.0   \n",
       "1837                 Men's Endless Knot Printed T-shirt          350.0   \n",
       "1838                Men's Golden Ganesh Printed T-shirt          350.0   \n",
       "1839                Men's Golden Ganesh Printed T-shirt          350.0   \n",
       "1840                Men's Golden Ganesh Printed T-shirt          350.0   \n",
       "1841                               Black Tshirt for Men          375.0   \n",
       "1842                                Blue Tshirt for Men          375.0   \n",
       "1843                                Grey Tshirt for Men          375.0   \n",
       "1844                               Green Tshirt for Men          375.0   \n",
       "1845                              Maroon Tshirt for Men          375.0   \n",
       "1846                          Bastra Plain T-shirt Half          650.0   \n",
       "...                                                 ...            ...   \n",
       "2499           WO:SA Wears \"Rick and Morty\" Unisex Tees          500.0   \n",
       "2500          WO:SA Wears Green \"CROW CAGE\" Unisex Tees          500.0   \n",
       "2501        WO:SA Wears Red \"NIGHT MONSTOR\" Unisex Tees          500.0   \n",
       "2502        WO:SA Wears Red \"NIGHT MONSTOR\" Unisex Tees          500.0   \n",
       "2503                   Bio Palmyna After Shave Gel 50ml          170.0   \n",
       "2504                    Bio Grass After Shave Gel 120ml          375.0   \n",
       "2505                                 Bio Plantain 120ml          375.0   \n",
       "2506           LOREALPAIS PURE & MATTE - ICY BLACK FOAM          740.0   \n",
       "2507  Loreal Paris Men Expert Hydra Energetic Detoxi...          740.0   \n",
       "2508  Loreal Paris HYDRA ENERGETIC - BLACK CHARCOAL ...          740.0   \n",
       "2509  LOREALPARIS HYDRA POWER- Awakening foaming gel...          740.0   \n",
       "2510  Loreal Paris HYDRA POWER - AWAKENING FOAMING G...          740.0   \n",
       "2511       LOREAL PARIS PURE & MATTE - VOLCANO RED FOAM          740.0   \n",
       "2512  LOREAL PARIS HYDRA ENERGETIC X - PURIFYING WAS...          805.0   \n",
       "2513  LOREALPARIS HYDRA POWER- Mountain Water Light ...          840.0   \n",
       "2514            LOREAL PARIS PURE & MATTE - POWER WATER          875.0   \n",
       "2515       LOREAL PARIS PURE & MATTE - CARE LIQUID WASH          900.0   \n",
       "2516  Loreal Paris Hydra Energetic Quenching Gel Zer...         1125.0   \n",
       "2517     Loreal Paris Hydra Energetic Holiday Look 50ml         1180.0   \n",
       "2518  Loreal Paris Men Expert Hydra Energetic Holida...         1180.0   \n",
       "2519  Loreal Paris Men Expert Hydra Energetic Ice Co...         1195.0   \n",
       "2520  LOREAL PARIS PURE %26 MATTE - ANTI SHINE HYDRA...         1195.0   \n",
       "2521  LOREALPARIS HYDRA POWER-(FOR MEN) MOUNTAIN WAT...         1250.0   \n",
       "2522  Loreal Paris Men Expert Hydra Energetic Quench...         1255.0   \n",
       "2523  Loreal Paris Men Expert Hydra Energetic Intens...         1255.0   \n",
       "2524  Loreal Paris Men Expert Hydra Energetic Multi ...         1255.0   \n",
       "2525  Loreal Paris Men Expert Hydra Energetic Post S...         1255.0   \n",
       "2526     LOREAL PARIS HYDRA POWER- Mountain Water Cream         1290.0   \n",
       "2527  LOREAL PARIS HYDRA ENERGETIC TURBO BOOSTER TAU...         1420.0   \n",
       "2528  Loreal Paris Men Expert Hydra Power Water Powe...         1545.0   \n",
       "\n",
       "         subCategory           subSubCategory  \n",
       "1817        Clothing  T-shirts and Sleeveless  \n",
       "1818        Clothing  T-shirts and Sleeveless  \n",
       "1819        Clothing  T-shirts and Sleeveless  \n",
       "1820        Clothing  T-shirts and Sleeveless  \n",
       "1821        Clothing  T-shirts and Sleeveless  \n",
       "1822        Clothing  T-shirts and Sleeveless  \n",
       "1823        Clothing  T-shirts and Sleeveless  \n",
       "1824        Clothing  T-shirts and Sleeveless  \n",
       "1825        Clothing  T-shirts and Sleeveless  \n",
       "1826        Clothing  T-shirts and Sleeveless  \n",
       "1827        Clothing  T-shirts and Sleeveless  \n",
       "1828        Clothing  T-shirts and Sleeveless  \n",
       "1829        Clothing  T-shirts and Sleeveless  \n",
       "1830        Clothing  T-shirts and Sleeveless  \n",
       "1831        Clothing  T-shirts and Sleeveless  \n",
       "1832        Clothing  T-shirts and Sleeveless  \n",
       "1833        Clothing  T-shirts and Sleeveless  \n",
       "1834        Clothing  T-shirts and Sleeveless  \n",
       "1835        Clothing  T-shirts and Sleeveless  \n",
       "1836        Clothing  T-shirts and Sleeveless  \n",
       "1837        Clothing  T-shirts and Sleeveless  \n",
       "1838        Clothing  T-shirts and Sleeveless  \n",
       "1839        Clothing  T-shirts and Sleeveless  \n",
       "1840        Clothing  T-shirts and Sleeveless  \n",
       "1841        Clothing  T-shirts and Sleeveless  \n",
       "1842        Clothing  T-shirts and Sleeveless  \n",
       "1843        Clothing  T-shirts and Sleeveless  \n",
       "1844        Clothing  T-shirts and Sleeveless  \n",
       "1845        Clothing  T-shirts and Sleeveless  \n",
       "1846        Clothing  T-shirts and Sleeveless  \n",
       "...              ...                      ...  \n",
       "2499        Clothing  T-shirts and Sleeveless  \n",
       "2500        Clothing  T-shirts and Sleeveless  \n",
       "2501        Clothing  T-shirts and Sleeveless  \n",
       "2502        Clothing  T-shirts and Sleeveless  \n",
       "2503  Men's Grooming       Skin and Body Care  \n",
       "2504  Men's Grooming       Skin and Body Care  \n",
       "2505  Men's Grooming       Skin and Body Care  \n",
       "2506  Men's Grooming       Skin and Body Care  \n",
       "2507  Men's Grooming       Skin and Body Care  \n",
       "2508  Men's Grooming       Skin and Body Care  \n",
       "2509  Men's Grooming       Skin and Body Care  \n",
       "2510  Men's Grooming       Skin and Body Care  \n",
       "2511  Men's Grooming       Skin and Body Care  \n",
       "2512  Men's Grooming       Skin and Body Care  \n",
       "2513  Men's Grooming       Skin and Body Care  \n",
       "2514  Men's Grooming       Skin and Body Care  \n",
       "2515  Men's Grooming       Skin and Body Care  \n",
       "2516  Men's Grooming       Skin and Body Care  \n",
       "2517  Men's Grooming       Skin and Body Care  \n",
       "2518  Men's Grooming       Skin and Body Care  \n",
       "2519  Men's Grooming       Skin and Body Care  \n",
       "2520  Men's Grooming       Skin and Body Care  \n",
       "2521  Men's Grooming       Skin and Body Care  \n",
       "2522  Men's Grooming       Skin and Body Care  \n",
       "2523  Men's Grooming       Skin and Body Care  \n",
       "2524  Men's Grooming       Skin and Body Care  \n",
       "2525  Men's Grooming       Skin and Body Care  \n",
       "2526  Men's Grooming       Skin and Body Care  \n",
       "2527  Men's Grooming       Skin and Body Care  \n",
       "2528  Men's Grooming       Skin and Body Care  \n",
       "\n",
       "[623 rows x 8 columns]"
      ]
     },
     "execution_count": 36,
     "metadata": {},
     "output_type": "execute_result"
    }
   ],
   "source": [
    "scrape_data.loc[scrape_data['category'] == 'Men']"
   ]
  },
  {
   "cell_type": "code",
   "execution_count": 37,
   "metadata": {},
   "outputs": [
    {
     "data": {
      "text/plain": [
       "An exclusive design with durability and beautiful pattern Sizex Super soft with good quality Material Singaporean Vela No lint or color issues                                                                                                                                                                                                                                                                                                                                                                                                                                                                                                                                               1306\n",
       "Gross Volume  Litres  Net Volume  Litres Product Freezing tempreture  deg C to  deg C Refrigerant Ra Energy Consumption  kWh hrs Insulation material Thickness  mm  Polyurethane                                                                                                                                                                                                                                                                                                                                                                                                                                                                                                             1005\n",
       "Material pvc ecofriendly Highly compatible and high vibrancy Can be applied to any smooth and clean surface Water proof wall stickers with adhesive backing Easy to install                                                                                                                                                                                                                                                                                                                                                                                                                                                                                                                   780\n",
       "An exclusive design with durability and beautiful pattern Sizex Super soft with good quality Material  Cotton Cotton with Sateen Finishing No lint or color issues                                                                                                                                                                                                                                                                                                                                                                                                                                                                                                                            728\n",
       "Thermos flask Keeps drinks and beverages warm Best suitable for students who have morning classes and also for officers or workers who dont have time for their breakfasts in the morning  ml capacity Product of a trusted and wellknown brand                                                                                                                                                                                                                                                                                                                                                                                                                                               632\n",
       "Dimention  W x cmH Product feature  Material  High quality PVC Vinyl nontoxic  ecofriendly Material High Quality PVC Transparent Vinyl Glue Type SelfAdhesive Matte Finish Scratchless Waterproof Usage  Ideal for Family Lounge Bedroom Cafe  Restaurant Kids room These wall stickers decorate your home just in minutes                                                                                                                                                                                                                                                                                                                                                                    588\n",
       "It can add warmth depth and style to a room that monotone paint Wallpaper adheres easily and smoothly to walls Helps hiding many surface imperfection One roll covers  sq ft area  inch roll                                                                                                                                                                                                                                                                                                                                                                                                                                                                                                  570\n",
       "Elegant candle lantern made from iron material Suitable for hanging or use as a freestanding lantern Fabulous decor item for both indoors and outdoors Wonderful gift for friends and family Dimensions  cm x cm x cm                                                                                                                                                                                                                                                                                                                                                                                                                                                                         529\n",
       "Speed  RPM  Sweep mm Air Delivery  CMM Power Consumption  Watt Material  Copper Motor with aluminium Blades Aerodynamically designed high grade aluminium blade for maximum air delivery                                                                                                                                                                                                                                                                                                                                                                                                                                                                                                      490\n",
       "Dimention cmW x cmH MaterialHigh Quality PVC Transparent Vinyl Matte Finish Scratchless Waterproof                                                                                                                                                                                                                                                                                                                                                                                                                                                                                                                                                                                            481\n",
       "An exclusive design with durability and beautiful pattern SizeX Super soft with good quality Material Singaporean Vela No lint or color issues                                                                                                                                                                                                                                                                                                                                                                                                                                                                                                                                                454\n",
       "Size  x  x  cm Material Tritan Material ABS Plastic Capacity  ml Dimension A Heat Resistant Min C Max C                                                                                                                                                                                                                                                                                                                                                                                                                                                                                                                                                                                       421\n",
       "Type Hard Top                                                                                                                                                                                                                                                                                                                                                                                                                                                                                                                                                                                                                                                                                 421\n",
       "Material Alluminium Alloy Easy to clean and disassemble Erognomic design It produces rich and authentic espresso in just minutes Not dishwasher safe and induction safe                                                                                                                                                                                                                                                                                                                                                                                                                                                                                                                       409\n",
       "Stainless Steel Body  Cordless Lettle Concealed Heating Element BoilDry Protection Auto Cut Off                                                                                                                                                                                                                                                                                                                                                                                                                                                                                                                                                                                               393\n",
       "Material Plastic High quality and durable Compact shape and high performance Easy to clean Erognomic design                                                                                                                                                                                                                                                                                                                                                                                                                                                                                                                                                                                   386\n",
       "The statues artistic appeal and enhance the unique beauty Material use Polyresin and acrylic gold Keep away from extreme heat Perfect for gift and decoration Handmade in Nepal                                                                                                                                                                                                                                                                                                                                                                                                                                                                                                               352\n",
       "Capacity Liter Net Back of Refrigerator Single Door with door Lock Toughened glass shelves Stabilizer Free Operation External Condenser                                                                                                                                                                                                                                                                                                                                                                                                                                                                                                                                                       349\n",
       "Stage draps with sumptuous fabrics and fresh flowers Blooming flower in your decor for a unique and sophisticated setup Can be designe with your chosen colour scheme of your wedding Elegant abnd classic designed Gorgeous background to your wedding poses                                                                                                                                                                                                                                                                                                                                                                                                                                 329\n",
       "Easy to use Prepare your coffee instantly Excellent quality coffee Simply add water and ground coffee Tasting similar to from an electric machine                                                                                                                                                                                                                                                                                                                                                                                                                                                                                                                                             328\n",
       "Material Alluminium Alloy Scratch resistant coating Suitable for all except induction Easy to clean Erognomic design                                                                                                                                                                                                                                                                                                                                                                                                                                                                                                                                                                          327\n",
       "Material Alluminium Alloy Suitable for all types of stoves Dishwasher safe Easy to clean Erognomic design                                                                                                                                                                                                                                                                                                                                                                                                                                                                                                                                                                                     315\n",
       "Double walled stainless steel vacuum flask Keeps hot  cold for  Hours made inside and outside  grade steel Vacuum insulated flask Inner liner coated with copper                                                                                                                                                                                                                                                                                                                                                                                                                                                                                                                              312\n",
       "th Gen Intel Core i Processor  inch screen display  GB RAM  TB HDD Intel HD Graphics Free DOS                                                                                                                                                                                                                                                                                                                                                                                                                                                                                                                                                                                                 308\n",
       "Tiers design composed with one port and  steam lattice for free cooking collocation Made of stainless steel material safe durable Thickened handle sturdy strong bearing capacity with with uniform design of steam holes to heat food evenly Visible glass lid you can see the inside clearly with steam port Compatible with gas stove furnace induction electric halogen oven                                                                                                                                                                                                                                                                                                              301\n",
       "Speed  RPM  Sweep mm Air Delivery  CMM Power Consumption  Watt Material  Copper Material with aluminium Blades Aerodynamically designed high grade aluminium blade for maximum air delivery                                                                                                                                                                                                                                                                                                                                                                                                                                                                                                   300\n",
       "This product is great for both children and adults as these colorful gel tiles are an amazing addition to playrooms classrooms studios or for any party Commonly used in sensory rooms these tiles create the feeling of a liquid room with responsive reaction from the floor with every step helping to create the perfect setting for a relaxing sensory experience No installation is necessary as all tiles have an extra strong non slip backing to prevent the tiles from moving once on the floor Super endurable flooring made to withstand high traffic and continued heavy use and play Size  X  Tested and certified for childrens safety and all tiles are non toxic to pets     288\n",
       "Gross Capacity  Litres SemiAutomatic Defrosting  A Energy Saving Toughened Adjustable SpillProof Glass Shelves Independent Freezer and Large Racks for more storage Super Cool Fresh Room  Transparent Vegetable Box                                                                                                                                                                                                                                                                                                                                                                                                                                                                          285\n",
       "Side Double layer for leakage protection  double layer cuff used for preventing leakage  Overnight Dryness  Superior absorbency that keeps babys Skin Dry all night long  Cotton soft material Airfresh material  Allows air to circulate freely so that the babys skin stays fresh  Compatible Baby Weight                                                                                                                                                                                                                                                                                                                                                                                   285\n",
       "Material use Brass Unique structure and function design Classic piece and an elegant addition for your home decoratation or table Gift your special one with these unique gift  Creative detachable designeasy to assemble                                                                                                                                                                                                                                                                                                                                                                                                                                                                    280\n",
       "                                                                                                                                                                                                                                                                                                                                                                                                                                                                                                                                                                                                                                                                                             ... \n",
       "Material Brass Earings coated with Gold Glossy and Polished looks Ideal for daily wear Ideal to present as a gift to self or loved ones Minimal weight and skin friendly Occasion Casual Parties Ceremonies Family Function                                                                                                                                                                                                                                                                                                                                                                                                                                                                     1\n",
       "Khadi Cotton Fabric Aline Kurti VNeck Button closure Quarter sleeve                                                                                                                                                                                                                                                                                                                                                                                                                                                                                                                                                                                                                             1\n",
       "Comfortable summer tee Dual shade effect melange fabric Material Specifications  Polyester  Cotton For Men Color Blue Melange                                                                                                                                                                                                                                                                                                                                                                                                                                                                                                                                                                   1\n",
       "Top Notes Peony Frissia and Litchi Middle NotesRose and Magnolia Base Notes Cedar and Amber Eau De Parfum With Volume of ml                                                                                                                                                                                                                                                                                                                                                                                                                                                                                                                                                                     1\n",
       "Good signal transmission Suitable for the car connecting with MP MP Phone Computer DVD Radio CD machine connecting with audio  Double  mm USB Port Using high fidelity shielding design Strong antijamming performance                                                                                                                                                                                                                                                                                                                                                                                                                                                                          1\n",
       "Regular Fit Made up with Cotton Short Sleeve V neck                                                                                                                                                                                                                                                                                                                                                                                                                                                                                                                                                                                                                                             1\n",
       "Material Cotton Regular Fit Round Neck Short Sleeves NEPAL FESTIVE vibes print at the front                                                                                                                                                                                                                                                                                                                                                                                                                                                                                                                                                                                                     1\n",
       "Set of  Colors Bracelets For Women Style Fashion Jewelry Material Austrain Crystal Ecofriend Zinc Alloy Size Length of Bracelets cm Weightg Wearing Occasion Prom Anniversary Party Engagement Celebration Events                                                                                                                                                                                                                                                                                                                                                                                                                                                                               1\n",
       "Quarter Sleeves Material Linen Band Neck Front cut Button Cut linen kurti                                                                                                                                                                                                                                                                                                                                                                                                                                                                                                                                                                                                                       1\n",
       "Satin Kurti Cotton Silk Bottom Printed Dupatta Red and yellow stripes with feather jhumka Sleeveless Perfect for wedding occasion                                                                                                                                                                                                                                                                                                                                                                                                                                                                                                                                                               1\n",
       "PolyesterSpandex Removable builtin padding Very soft and stretchy material Seamless and free size Crisscross on back                                                                                                                                                                                                                                                                                                                                                                                                                                                                                                                                                                            1\n",
       "Material Cotton Suitable for casual wear Neckline Round Sleeves Half Sleeve Comfortable fit Machine careHand wash                                                                                                                                                                                                                                                                                                                                                                                                                                                                                                                                                                               1\n",
       "Denim Material Stretchable Closure Zipper Type  Ripped jeans with patches Grunge Style Regular Fit Wash once separately in cold water before wearing Machine wash cold inside outDo not bleach                                                                                                                                                                                                                                                                                                                                                                                                                                                                                                  1\n",
       "Cotton  Lycra Machine Wash Warm Gentle Cycle at  degree Iron on Reverse Side Do Not Iron On Embroidery Ideal for Casual wear                                                                                                                                                                                                                                                                                                                                                                                                                                                                                                                                                                    1\n",
       "Material Pearl Pearls woven together Occasion Parties Family Function Gatherings Culture Ceremonies Elegant and Light Weight Skin Friendly                                                                                                                                                                                                                                                                                                                                                                                                                                                                                                                                                      1\n",
       "Kota cotton kurti Cotton plazo Silk block print dupatta Type Plazo NA                                                                                                                                                                                                                                                                                                                                                                                                                                                                                                                                                                                                                           1\n",
       "This bag is built from waterproofing materials Ideal for travel and any casual outing This bag is lightweight and can fit into any travel bag Easy to Carry                                                                                                                                                                                                                                                                                                                                                                                                                                                                                                                                     1\n",
       "Neck Sequences Party navy color dress for office and evening get together  Discreet Nursing facility for beyond pregnancy use Easy access for nursing Comfortable and Easyto wear Maternity attire Hand and Machine wash                                                                                                                                                                                                                                                                                                                                                                                                                                                                        1\n",
       "Dial Color Black Case Shape Round Band Color Black Band Material Stainless Steel Watch Movement Type Quartz Watch Display Type Chronograph Water Resistence Depth  meters  year warranty                                                                                                                                                                                                                                                                                                                                                                                                                                                                                                        1\n",
       "Top Notes Amalfi Lemon and Lime Middle Notes Granny Smith Apple Poeny Praline and Datura Base Notes Apple Tree Musk and Virginia Cedar Recommended for Casual Wear Size ml                                                                                                                                                                                                                                                                                                                                                                                                                                                                                                                      1\n",
       "Designed to match your face type and to do wonders to your appearance Lens Color Transparent Frame Acetate Frame Frame color BlackGold SizeWidth x Bridge x Temple  x  x mm                                                                                                                                                                                                                                                                                                                                                                                                                                                                                                                     1\n",
       "Strapcm Heightcm Size Widthcm Lengthcm  brand new and high quality NA NA                                                                                                                                                                                                                                                                                                                                                                                                                                                                                                                                                                                                                        1\n",
       "Innovative inside out design Easy to operate and safe to use Convenient to place and drip free Durably windproof  Size   Color option is not available                                                                                                                                                                                                                                                                                                                                                                                                                                                                                                                                          1\n",
       "Paired up with high heels Comfortable all days Front cut button with kurti neck Thread Embrodary Quarter Sleeves                                                                                                                                                                                                                                                                                                                                                                                                                                                                                                                                                                                1\n",
       "Material Cotton Regular Fit Round Neck Short Sleeves Bhairab design printed on front                                                                                                                                                                                                                                                                                                                                                                                                                                                                                                                                                                                                            1\n",
       "Mechanical RGB Backlit Gaming Keyboard  Replaceable Mechanical switches OUTEMU Cable Length m nylon braided cable Gaming Optical Sensor On the fly Adjustable  Stage DPI                                                                                                                                                                                                                                                                                                                                                                                                                                                                                                                        1\n",
       "No of Ports  USB TYPE  Material Aluminium Alloy Length cm                                                                                                                                                                                                                                                                                                                                                                                                                                                                                                                                                                                                                                       1\n",
       "Inch LED Display HD SMART LED TV Resolution  x  Picture Quality Index  Dynamic Contrast Ratio  Mega Contrast Wide Color Enhancer Plus PurColor Contrast Enhancer Auto Motion Plus Film Mode   Channel Speaker Dolby Digital Plus  W HDMI Input  USB Port  Smart TV Smart View TV to Mobile  Mirroring Mobile to TV  Mirroring DLNA WiFi Direct                                                                                                                                                                                                                                                                                                                                                  1\n",
       "cotton  Round neck Half Sleeves and Rubber print Made in Nepal Hand and Machine Wash                                                                                                                                                                                                                                                                                                                                                                                                                                                                                                                                                                                                            1\n",
       "Navy Mid Calf Dress with Lace Sleeves Front with Fancy Metallic Zip Along With Faggoting and Lace Details Under Bust Seam Has Concealed Zip For Nursing Needs Machine Wash Warm Gentle Cycle at  degree Material Body  Modal Trim  Cotton                                                                                                                                                                                                                                                                                                                                                                                                                                                       1\n",
       "Name: details, Length: 5807, dtype: int64"
      ]
     },
     "execution_count": 37,
     "metadata": {},
     "output_type": "execute_result"
    }
   ],
   "source": [
    "scrape_data['details'].value_counts()"
   ]
  },
  {
   "cell_type": "code",
   "execution_count": 38,
   "metadata": {},
   "outputs": [
    {
     "data": {
      "text/plain": [
       "28        Fabric Linen Neck Round Sleeves Quarter Length...\n",
       "41        Kalamkari Print Neck Round Sleeves Quarter Len...\n",
       "47        Fabric Khadi Neck Buttons Down The Neckline Sl...\n",
       "48        Breathable and soft linen and cotton Material ...\n",
       "49        Breathable and soft linen and cotton Material ...\n",
       "50        Breathable and soft linen and cotton Material ...\n",
       "51        Breathable and soft linen and cotton Material ...\n",
       "55        Material Rayon Only Kurti Round Neck Opening o...\n",
       "56        Fabric Cotton Neck Round Sleeves Quarter Lengt...\n",
       "60        Material Alpine Rayon With Set Round Neck Open...\n",
       "62        Material Alpine Rayon With Set Round Neck Open...\n",
       "63        Breathable and soft linen and cotton Material ...\n",
       "64        Breathable and soft linen and cotton Material ...\n",
       "65        Material Alpine Rayon With Set Round Neck Open...\n",
       "67        Fabric Brocade Neck Round Sleeves Quarter Leng...\n",
       "68        Fabric Brocade Neck Round Sleeves Quarter Leng...\n",
       "69        Material Rayon Cut Design Set Color Shape Neck...\n",
       "71        Chikan Kurthi Neck Round Sleeves Quarter Lengt...\n",
       "74        Chikan Kurthi Neck Round Sleeves Quarter Lengt...\n",
       "75        Material Rayon Cut Design Set Color Shape Neck...\n",
       "76        Material Rayon Cut Design Set Color Shape Neck...\n",
       "78        Cotton Material Comfortable and Stylish Looks ...\n",
       "79        Cotton Material Comfortable and Stylish Looks ...\n",
       "80        Cotton Material Comfortable and Stylish Looks ...\n",
       "81        Cotton Material Comfortable and Stylish Looks ...\n",
       "82        Cotton Material Comfortable and Stylish Looks ...\n",
       "83        Cotton Material Comfortable and Stylish Looks ...\n",
       "84        Cotton Material Comfortable and Stylish Looks ...\n",
       "85        Cotton Material Comfortable and Stylish Looks ...\n",
       "86        Cotton Material Comfortable and Stylish Looks ...\n",
       "                                ...                        \n",
       "115017    ISBN  Author Sweeney John Imaretska Elena Bind...\n",
       "115018    ISBN  Author Cowen Tyler Binding Pb Publish Ye...\n",
       "115019    ISBN  Author Blair Ryan Binding Hb Publish Yea...\n",
       "115020    ISBN  Author Klein Naomi Binding Pb Publish Ye...\n",
       "115021    ISBN  Author Kennedy Pagan Binding Pb Publish ...\n",
       "115022    ISBN  Author Conrad Edward Binding Hb Publish ...\n",
       "115023    ISBN  Author Mckenna Paul Binding Pb Publish Y...\n",
       "115024    ISBN  Author Barrow Paul Binding Pb Publish Ye...\n",
       "115025    ISBN  Author Atticus Language English Hardcove...\n",
       "115026    Author Ernest Hemingway ISBN Paperback English...\n",
       "115027    ISBN  Author Bhagat Chetan Language English Co...\n",
       "115028    ISBN  Author CHETAN BHAGAT Language English Co...\n",
       "115029    Author Carnegie Dale ISBN  Publisher Books Wor...\n",
       "115030    ISBN  Author Osho Language English Cover Paper...\n",
       "115031    ISBN  Author Stephen Hawking Publisher Bantam ...\n",
       "115032    ISBN  Author Robert Butera Erin Byron Staffan ...\n",
       "115033    Author Larsson Stieg Publisher Quercus Publish...\n",
       "115034    ISBN  Author Christopher Paolini Language Engl...\n",
       "115035    Author Ravinder Singh Cover Paperback Language...\n",
       "115036    ISBN  Author Dalai Lama Language English Cover...\n",
       "115037    ISBN  Author Venkatesan Chandramouli Language ...\n",
       "115038    ISBN  Author Rose Rosetree Language English Co...\n",
       "115039    ISBN  Author Stephen King Language English Cov...\n",
       "115040    ISBN  Author Keller Gary  Papasan Jay Language...\n",
       "115041    ISBN  Author J K Rowling Language English Cove...\n",
       "115042    ISBN  Author John Green Language English Cover...\n",
       "115043    ISBN  Author Steven Pinker Language English Co...\n",
       "115044    ISBN  Author RAM CHARAN Language English Cover...\n",
       "115045    ISBN  Author Diamond Jared Language English Co...\n",
       "115046    ISBN  Author Malhotra Rajiv  Neelakandan Arvin...\n",
       "Name: details, Length: 108773, dtype: object"
      ]
     },
     "execution_count": 38,
     "metadata": {},
     "output_type": "execute_result"
    }
   ],
   "source": [
    "scrape_data['details'][scrape_data['details'].duplicated()]"
   ]
  },
  {
   "cell_type": "code",
   "execution_count": 39,
   "metadata": {},
   "outputs": [
    {
     "data": {
      "text/plain": [
       "54714     KG Automatic FrontLoading Washing Machine  RPM...\n",
       "75703     Anti Dry Boil Protection Stainless steel body ...\n",
       "43034     Kg Fully Automatic Front Load with special set...\n",
       "44989     Material PP with rubber backing Sizes X cm  Fo...\n",
       "102477    Body Material Stainless Steel Stainless steel ...\n",
       "Name: details, dtype: object"
      ]
     },
     "execution_count": 39,
     "metadata": {},
     "output_type": "execute_result"
    }
   ],
   "source": [
    "X_train.head(5)"
   ]
  },
  {
   "cell_type": "code",
   "execution_count": 48,
   "metadata": {},
   "outputs": [],
   "source": [
    "data = scrape_data[['details', 'category']]"
   ]
  },
  {
   "cell_type": "code",
   "execution_count": 49,
   "metadata": {},
   "outputs": [
    {
     "data": {
      "text/html": [
       "<div>\n",
       "<style scoped>\n",
       "    .dataframe tbody tr th:only-of-type {\n",
       "        vertical-align: middle;\n",
       "    }\n",
       "\n",
       "    .dataframe tbody tr th {\n",
       "        vertical-align: top;\n",
       "    }\n",
       "\n",
       "    .dataframe thead th {\n",
       "        text-align: right;\n",
       "    }\n",
       "</style>\n",
       "<table border=\"1\" class=\"dataframe\">\n",
       "  <thead>\n",
       "    <tr style=\"text-align: right;\">\n",
       "      <th></th>\n",
       "      <th>details</th>\n",
       "      <th>category</th>\n",
       "    </tr>\n",
       "  </thead>\n",
       "  <tbody>\n",
       "    <tr>\n",
       "      <th>0</th>\n",
       "      <td>Designers Piece</td>\n",
       "      <td>Women</td>\n",
       "    </tr>\n",
       "    <tr>\n",
       "      <th>1</th>\n",
       "      <td>Paper silk suit Sleeveless Dry Clean Technique...</td>\n",
       "      <td>Women</td>\n",
       "    </tr>\n",
       "    <tr>\n",
       "      <th>2</th>\n",
       "      <td>Thread and Mirror Work Blouse Chiffon Sari Seq...</td>\n",
       "      <td>Women</td>\n",
       "    </tr>\n",
       "    <tr>\n",
       "      <th>3</th>\n",
       "      <td>Gota Work Blouse Chiffon Sari Golden Lace Disc...</td>\n",
       "      <td>Women</td>\n",
       "    </tr>\n",
       "    <tr>\n",
       "      <th>4</th>\n",
       "      <td>Sequence Blouse Chiffon Sari Thread Lace Discl...</td>\n",
       "      <td>Women</td>\n",
       "    </tr>\n",
       "  </tbody>\n",
       "</table>\n",
       "</div>"
      ],
      "text/plain": [
       "                                             details category\n",
       "0                                    Designers Piece    Women\n",
       "1  Paper silk suit Sleeveless Dry Clean Technique...    Women\n",
       "2  Thread and Mirror Work Blouse Chiffon Sari Seq...    Women\n",
       "3  Gota Work Blouse Chiffon Sari Golden Lace Disc...    Women\n",
       "4  Sequence Blouse Chiffon Sari Thread Lace Discl...    Women"
      ]
     },
     "execution_count": 49,
     "metadata": {},
     "output_type": "execute_result"
    }
   ],
   "source": [
    "data.head()\n"
   ]
  },
  {
   "cell_type": "code",
   "execution_count": 50,
   "metadata": {},
   "outputs": [
    {
     "name": "stdout",
     "output_type": "stream",
     "text": [
      "<class 'pandas.core.frame.DataFrame'>\n",
      "Int64Index: 114580 entries, 0 to 115046\n",
      "Data columns (total 2 columns):\n",
      "details     114580 non-null object\n",
      "category    114580 non-null object\n",
      "dtypes: object(2)\n",
      "memory usage: 7.6+ MB\n"
     ]
    }
   ],
   "source": [
    "data.info()"
   ]
  },
  {
   "cell_type": "code",
   "execution_count": 51,
   "metadata": {},
   "outputs": [
    {
     "data": {
      "text/plain": [
       "'Stylish yet comfortable Fabric  cotton  Fit Regular Neck Round Neck A basic piece in your wardrobe which is easy to style'"
      ]
     },
     "execution_count": 51,
     "metadata": {},
     "output_type": "execute_result"
    }
   ],
   "source": [
    "data.iloc[1825]['details']"
   ]
  },
  {
   "cell_type": "code",
   "execution_count": 54,
   "metadata": {},
   "outputs": [
    {
     "data": {
      "text/plain": [
       "'Stylish yet comfortable Fabric cotton Fit Regular Neck Round Neck A basic piece in your wardrobe which is easy to style'"
      ]
     },
     "execution_count": 54,
     "metadata": {},
     "output_type": "execute_result"
    }
   ],
   "source": [
    "data.iloc[1826]['details']"
   ]
  },
  {
   "cell_type": "code",
   "execution_count": null,
   "metadata": {},
   "outputs": [],
   "source": [
    "data['details'] = data['details'].str.lower()"
   ]
  },
  {
   "cell_type": "code",
   "execution_count": 59,
   "metadata": {},
   "outputs": [
    {
     "data": {
      "text/plain": [
       "'Environment Friendly Material Non Toxic Safe Attractive Colorful Sixlegged turtles with cute legs Small touchpad fits into the hands of children easy to hold and play'"
      ]
     },
     "execution_count": 59,
     "metadata": {},
     "output_type": "execute_result"
    }
   ],
   "source": [
    "data.iloc[1866]['details']"
   ]
  },
  {
   "cell_type": "code",
   "execution_count": 56,
   "metadata": {},
   "outputs": [],
   "source": [
    "data = data.drop_duplicates()"
   ]
  },
  {
   "cell_type": "code",
   "execution_count": 57,
   "metadata": {},
   "outputs": [
    {
     "name": "stdout",
     "output_type": "stream",
     "text": [
      "<class 'pandas.core.frame.DataFrame'>\n",
      "Int64Index: 8721 entries, 0 to 114905\n",
      "Data columns (total 2 columns):\n",
      "details     8721 non-null object\n",
      "category    8721 non-null object\n",
      "dtypes: object(2)\n",
      "memory usage: 204.4+ KB\n"
     ]
    }
   ],
   "source": [
    "data.info()"
   ]
  },
  {
   "cell_type": "code",
   "execution_count": null,
   "metadata": {},
   "outputs": [],
   "source": [
    "export_csv = data.to_csv (r'C:\\Users\\aasis\\Desktop\\exportData.csv', header=True)"
   ]
  },
  {
   "cell_type": "code",
   "execution_count": 61,
   "metadata": {},
   "outputs": [
    {
     "data": {
      "text/html": [
       "<div>\n",
       "<style scoped>\n",
       "    .dataframe tbody tr th:only-of-type {\n",
       "        vertical-align: middle;\n",
       "    }\n",
       "\n",
       "    .dataframe tbody tr th {\n",
       "        vertical-align: top;\n",
       "    }\n",
       "\n",
       "    .dataframe thead th {\n",
       "        text-align: right;\n",
       "    }\n",
       "</style>\n",
       "<table border=\"1\" class=\"dataframe\">\n",
       "  <thead>\n",
       "    <tr style=\"text-align: right;\">\n",
       "      <th></th>\n",
       "      <th>details</th>\n",
       "      <th>category</th>\n",
       "    </tr>\n",
       "  </thead>\n",
       "  <tbody>\n",
       "    <tr>\n",
       "      <th>1817</th>\n",
       "      <td>Conton Material gives full comfort Round Neck ...</td>\n",
       "      <td>Men</td>\n",
       "    </tr>\n",
       "    <tr>\n",
       "      <th>1818</th>\n",
       "      <td>Round Neck Material Cotton Handwash Easy peit ...</td>\n",
       "      <td>Men</td>\n",
       "    </tr>\n",
       "    <tr>\n",
       "      <th>1826</th>\n",
       "      <td>Stylish yet comfortable Fabric cotton Fit Regu...</td>\n",
       "      <td>Men</td>\n",
       "    </tr>\n",
       "    <tr>\n",
       "      <th>1841</th>\n",
       "      <td>Material Cotton Suitable for causal wear Neckl...</td>\n",
       "      <td>Men</td>\n",
       "    </tr>\n",
       "    <tr>\n",
       "      <th>1844</th>\n",
       "      <td>Material Cotton Suitable for casual wear Neckl...</td>\n",
       "      <td>Men</td>\n",
       "    </tr>\n",
       "    <tr>\n",
       "      <th>1845</th>\n",
       "      <td>Material Cotton Suitable for causal wear Neckl...</td>\n",
       "      <td>Men</td>\n",
       "    </tr>\n",
       "    <tr>\n",
       "      <th>1846</th>\n",
       "      <td>Closure VNeck Plain design Machine wash Materi...</td>\n",
       "      <td>Men</td>\n",
       "    </tr>\n",
       "    <tr>\n",
       "      <th>1850</th>\n",
       "      <td>Simple yet fashionable Solid pattern Short sle...</td>\n",
       "      <td>Men</td>\n",
       "    </tr>\n",
       "    <tr>\n",
       "      <th>1852</th>\n",
       "      <td>Material Cotton Round Necked High Quality Prin...</td>\n",
       "      <td>Men</td>\n",
       "    </tr>\n",
       "    <tr>\n",
       "      <th>1854</th>\n",
       "      <td>Print Buddha tree image Rubber print Round Nec...</td>\n",
       "      <td>Men</td>\n",
       "    </tr>\n",
       "    <tr>\n",
       "      <th>1855</th>\n",
       "      <td>Print Everest Nepal image Rubber print Round N...</td>\n",
       "      <td>Men</td>\n",
       "    </tr>\n",
       "    <tr>\n",
       "      <th>1856</th>\n",
       "      <td>Print Maicha wo Baucha Rubber print Round Neck...</td>\n",
       "      <td>Men</td>\n",
       "    </tr>\n",
       "    <tr>\n",
       "      <th>1857</th>\n",
       "      <td>Print Orange Blue Buddha Rubber print Round Ne...</td>\n",
       "      <td>Men</td>\n",
       "    </tr>\n",
       "    <tr>\n",
       "      <th>1858</th>\n",
       "      <td>Material Cotton Regular Fit Round Neck Short S...</td>\n",
       "      <td>Men</td>\n",
       "    </tr>\n",
       "    <tr>\n",
       "      <th>1860</th>\n",
       "      <td>Material Cotton Round Neckline Sleeves Half sl...</td>\n",
       "      <td>Men</td>\n",
       "    </tr>\n",
       "    <tr>\n",
       "      <th>1863</th>\n",
       "      <td>Material Cotton Round Neckline Sleeves Half sl...</td>\n",
       "      <td>Men</td>\n",
       "    </tr>\n",
       "    <tr>\n",
       "      <th>1866</th>\n",
       "      <td>Material Cotton Round Neckline Sleeves Half sl...</td>\n",
       "      <td>Men</td>\n",
       "    </tr>\n",
       "    <tr>\n",
       "      <th>1869</th>\n",
       "      <td>Material Cotton Regular Fit Round Neck Short S...</td>\n",
       "      <td>Men</td>\n",
       "    </tr>\n",
       "    <tr>\n",
       "      <th>1870</th>\n",
       "      <td>Material Cotton Regular Fit Round Neck Short S...</td>\n",
       "      <td>Men</td>\n",
       "    </tr>\n",
       "    <tr>\n",
       "      <th>1873</th>\n",
       "      <td>Material Cotton Regular Fit Round Neck Short S...</td>\n",
       "      <td>Men</td>\n",
       "    </tr>\n",
       "    <tr>\n",
       "      <th>1875</th>\n",
       "      <td>Material Cotton Regular Fit Round Neck Short S...</td>\n",
       "      <td>Men</td>\n",
       "    </tr>\n",
       "    <tr>\n",
       "      <th>1877</th>\n",
       "      <td>Material Cotton Regular Fit Round Neck Short S...</td>\n",
       "      <td>Men</td>\n",
       "    </tr>\n",
       "    <tr>\n",
       "      <th>1879</th>\n",
       "      <td>Material Cotton Regular Fit Round Neck Short S...</td>\n",
       "      <td>Men</td>\n",
       "    </tr>\n",
       "    <tr>\n",
       "      <th>1880</th>\n",
       "      <td>Material Cotton Round Neckline Sleeves Half sl...</td>\n",
       "      <td>Men</td>\n",
       "    </tr>\n",
       "    <tr>\n",
       "      <th>1883</th>\n",
       "      <td>Material Cotton Regular Fit Round Neck Short S...</td>\n",
       "      <td>Men</td>\n",
       "    </tr>\n",
       "    <tr>\n",
       "      <th>1885</th>\n",
       "      <td>Material Cotton Regular Fit Round Neck Short S...</td>\n",
       "      <td>Men</td>\n",
       "    </tr>\n",
       "    <tr>\n",
       "      <th>1887</th>\n",
       "      <td>Material Cotton Regular Fit Round Neck Short S...</td>\n",
       "      <td>Men</td>\n",
       "    </tr>\n",
       "    <tr>\n",
       "      <th>1891</th>\n",
       "      <td>Material Cotton Regular Fit Round Neck Short S...</td>\n",
       "      <td>Men</td>\n",
       "    </tr>\n",
       "    <tr>\n",
       "      <th>1893</th>\n",
       "      <td>Material Cotton Regular Fit Round Neck Short S...</td>\n",
       "      <td>Men</td>\n",
       "    </tr>\n",
       "    <tr>\n",
       "      <th>1894</th>\n",
       "      <td>Material Cotton Regular Fit Round Neck Short S...</td>\n",
       "      <td>Men</td>\n",
       "    </tr>\n",
       "    <tr>\n",
       "      <th>...</th>\n",
       "      <td>...</td>\n",
       "      <td>...</td>\n",
       "    </tr>\n",
       "    <tr>\n",
       "      <th>2483</th>\n",
       "      <td>Printed style Half sleeve Suitable for Men Reg...</td>\n",
       "      <td>Men</td>\n",
       "    </tr>\n",
       "    <tr>\n",
       "      <th>2485</th>\n",
       "      <td>Printed style Full sleves Suitable for Men Reg...</td>\n",
       "      <td>Men</td>\n",
       "    </tr>\n",
       "    <tr>\n",
       "      <th>2487</th>\n",
       "      <td>Plain style Full sleves Suitable for Men Regul...</td>\n",
       "      <td>Men</td>\n",
       "    </tr>\n",
       "    <tr>\n",
       "      <th>2488</th>\n",
       "      <td>Printed Full sleves Suitable for Men Regular f...</td>\n",
       "      <td>Men</td>\n",
       "    </tr>\n",
       "    <tr>\n",
       "      <th>2490</th>\n",
       "      <td>Simple lining style Half sleves Suitable for M...</td>\n",
       "      <td>Men</td>\n",
       "    </tr>\n",
       "    <tr>\n",
       "      <th>2503</th>\n",
       "      <td>Ideal for Men FormGel PurposeAll Purpose Appli...</td>\n",
       "      <td>Men</td>\n",
       "    </tr>\n",
       "    <tr>\n",
       "      <th>2504</th>\n",
       "      <td>Ideal for men Helps eliminate redness Eliminat...</td>\n",
       "      <td>Men</td>\n",
       "    </tr>\n",
       "    <tr>\n",
       "      <th>2505</th>\n",
       "      <td>Ideal for Men Lightening and antiaging serum f...</td>\n",
       "      <td>Men</td>\n",
       "    </tr>\n",
       "    <tr>\n",
       "      <th>2506</th>\n",
       "      <td>Men Skincare Loreal men expert pure matte Rele...</td>\n",
       "      <td>Men</td>\n",
       "    </tr>\n",
       "    <tr>\n",
       "      <th>2507</th>\n",
       "      <td>This refreshing foamy texture deeply cleanses ...</td>\n",
       "      <td>Men</td>\n",
       "    </tr>\n",
       "    <tr>\n",
       "      <th>2508</th>\n",
       "      <td>Uses the purifying power of charcoal to captur...</td>\n",
       "      <td>Men</td>\n",
       "    </tr>\n",
       "    <tr>\n",
       "      <th>2509</th>\n",
       "      <td>Refreshes and vitalizes the skin Deeply cleans...</td>\n",
       "      <td>Men</td>\n",
       "    </tr>\n",
       "    <tr>\n",
       "      <th>2510</th>\n",
       "      <td>Deeply cleanses and purifies skin to effecitve...</td>\n",
       "      <td>Men</td>\n",
       "    </tr>\n",
       "    <tr>\n",
       "      <th>2511</th>\n",
       "      <td>Men Skincare Loreal men expert pure matte Enri...</td>\n",
       "      <td>Men</td>\n",
       "    </tr>\n",
       "    <tr>\n",
       "      <th>2512</th>\n",
       "      <td>Detoxifies hydrates skin for H Reduces signs o...</td>\n",
       "      <td>Men</td>\n",
       "    </tr>\n",
       "    <tr>\n",
       "      <th>2513</th>\n",
       "      <td>Use as a hydrating toner before your usual moi...</td>\n",
       "      <td>Men</td>\n",
       "    </tr>\n",
       "    <tr>\n",
       "      <th>2514</th>\n",
       "      <td>Men Skincare Loreal men expert pure matte Idea...</td>\n",
       "      <td>Men</td>\n",
       "    </tr>\n",
       "    <tr>\n",
       "      <th>2515</th>\n",
       "      <td>Men Skincare Loreal men expert pure matte Comf...</td>\n",
       "      <td>Men</td>\n",
       "    </tr>\n",
       "    <tr>\n",
       "      <th>2516</th>\n",
       "      <td>Acts like a source of energy for the skin to f...</td>\n",
       "      <td>Men</td>\n",
       "    </tr>\n",
       "    <tr>\n",
       "      <th>2517</th>\n",
       "      <td>Enriched with vitamin E this high performing m...</td>\n",
       "      <td>Men</td>\n",
       "    </tr>\n",
       "    <tr>\n",
       "      <th>2519</th>\n",
       "      <td>An icecool refreshing eye treatment Helps revi...</td>\n",
       "      <td>Men</td>\n",
       "    </tr>\n",
       "    <tr>\n",
       "      <th>2520</th>\n",
       "      <td>Men Skincare Immediately metrified skin Antish...</td>\n",
       "      <td>Men</td>\n",
       "    </tr>\n",
       "    <tr>\n",
       "      <th>2521</th>\n",
       "      <td>Features a comfortable milky texture that tran...</td>\n",
       "      <td>Men</td>\n",
       "    </tr>\n",
       "    <tr>\n",
       "      <th>2522</th>\n",
       "      <td>No shine Airgel technology Instant icy feeling...</td>\n",
       "      <td>Men</td>\n",
       "    </tr>\n",
       "    <tr>\n",
       "      <th>2523</th>\n",
       "      <td>Features a fresh nongreasy nonsticky formula D...</td>\n",
       "      <td>Men</td>\n",
       "    </tr>\n",
       "    <tr>\n",
       "      <th>2524</th>\n",
       "      <td>Formulated with Vitamin C to reduce prevent si...</td>\n",
       "      <td>Men</td>\n",
       "    </tr>\n",
       "    <tr>\n",
       "      <th>2525</th>\n",
       "      <td>Glycerin To smooth and moisturize the skin Vit...</td>\n",
       "      <td>Men</td>\n",
       "    </tr>\n",
       "    <tr>\n",
       "      <th>2526</th>\n",
       "      <td>Features a comfortable milky texture that tran...</td>\n",
       "      <td>Men</td>\n",
       "    </tr>\n",
       "    <tr>\n",
       "      <th>2527</th>\n",
       "      <td>Soothing ingredient which helps reinforce skin...</td>\n",
       "      <td>Men</td>\n",
       "    </tr>\n",
       "    <tr>\n",
       "      <th>2528</th>\n",
       "      <td>Provides longterm deep hydration for hours and...</td>\n",
       "      <td>Men</td>\n",
       "    </tr>\n",
       "  </tbody>\n",
       "</table>\n",
       "<p>214 rows × 2 columns</p>\n",
       "</div>"
      ],
      "text/plain": [
       "                                                details category\n",
       "1817  Conton Material gives full comfort Round Neck ...      Men\n",
       "1818  Round Neck Material Cotton Handwash Easy peit ...      Men\n",
       "1826  Stylish yet comfortable Fabric cotton Fit Regu...      Men\n",
       "1841  Material Cotton Suitable for causal wear Neckl...      Men\n",
       "1844  Material Cotton Suitable for casual wear Neckl...      Men\n",
       "1845  Material Cotton Suitable for causal wear Neckl...      Men\n",
       "1846  Closure VNeck Plain design Machine wash Materi...      Men\n",
       "1850  Simple yet fashionable Solid pattern Short sle...      Men\n",
       "1852  Material Cotton Round Necked High Quality Prin...      Men\n",
       "1854  Print Buddha tree image Rubber print Round Nec...      Men\n",
       "1855  Print Everest Nepal image Rubber print Round N...      Men\n",
       "1856  Print Maicha wo Baucha Rubber print Round Neck...      Men\n",
       "1857  Print Orange Blue Buddha Rubber print Round Ne...      Men\n",
       "1858  Material Cotton Regular Fit Round Neck Short S...      Men\n",
       "1860  Material Cotton Round Neckline Sleeves Half sl...      Men\n",
       "1863  Material Cotton Round Neckline Sleeves Half sl...      Men\n",
       "1866  Material Cotton Round Neckline Sleeves Half sl...      Men\n",
       "1869  Material Cotton Regular Fit Round Neck Short S...      Men\n",
       "1870  Material Cotton Regular Fit Round Neck Short S...      Men\n",
       "1873  Material Cotton Regular Fit Round Neck Short S...      Men\n",
       "1875  Material Cotton Regular Fit Round Neck Short S...      Men\n",
       "1877  Material Cotton Regular Fit Round Neck Short S...      Men\n",
       "1879  Material Cotton Regular Fit Round Neck Short S...      Men\n",
       "1880  Material Cotton Round Neckline Sleeves Half sl...      Men\n",
       "1883  Material Cotton Regular Fit Round Neck Short S...      Men\n",
       "1885  Material Cotton Regular Fit Round Neck Short S...      Men\n",
       "1887  Material Cotton Regular Fit Round Neck Short S...      Men\n",
       "1891  Material Cotton Regular Fit Round Neck Short S...      Men\n",
       "1893  Material Cotton Regular Fit Round Neck Short S...      Men\n",
       "1894  Material Cotton Regular Fit Round Neck Short S...      Men\n",
       "...                                                 ...      ...\n",
       "2483  Printed style Half sleeve Suitable for Men Reg...      Men\n",
       "2485  Printed style Full sleves Suitable for Men Reg...      Men\n",
       "2487  Plain style Full sleves Suitable for Men Regul...      Men\n",
       "2488  Printed Full sleves Suitable for Men Regular f...      Men\n",
       "2490  Simple lining style Half sleves Suitable for M...      Men\n",
       "2503  Ideal for Men FormGel PurposeAll Purpose Appli...      Men\n",
       "2504  Ideal for men Helps eliminate redness Eliminat...      Men\n",
       "2505  Ideal for Men Lightening and antiaging serum f...      Men\n",
       "2506  Men Skincare Loreal men expert pure matte Rele...      Men\n",
       "2507  This refreshing foamy texture deeply cleanses ...      Men\n",
       "2508  Uses the purifying power of charcoal to captur...      Men\n",
       "2509  Refreshes and vitalizes the skin Deeply cleans...      Men\n",
       "2510  Deeply cleanses and purifies skin to effecitve...      Men\n",
       "2511  Men Skincare Loreal men expert pure matte Enri...      Men\n",
       "2512  Detoxifies hydrates skin for H Reduces signs o...      Men\n",
       "2513  Use as a hydrating toner before your usual moi...      Men\n",
       "2514  Men Skincare Loreal men expert pure matte Idea...      Men\n",
       "2515  Men Skincare Loreal men expert pure matte Comf...      Men\n",
       "2516  Acts like a source of energy for the skin to f...      Men\n",
       "2517  Enriched with vitamin E this high performing m...      Men\n",
       "2519  An icecool refreshing eye treatment Helps revi...      Men\n",
       "2520  Men Skincare Immediately metrified skin Antish...      Men\n",
       "2521  Features a comfortable milky texture that tran...      Men\n",
       "2522  No shine Airgel technology Instant icy feeling...      Men\n",
       "2523  Features a fresh nongreasy nonsticky formula D...      Men\n",
       "2524  Formulated with Vitamin C to reduce prevent si...      Men\n",
       "2525  Glycerin To smooth and moisturize the skin Vit...      Men\n",
       "2526  Features a comfortable milky texture that tran...      Men\n",
       "2527  Soothing ingredient which helps reinforce skin...      Men\n",
       "2528  Provides longterm deep hydration for hours and...      Men\n",
       "\n",
       "[214 rows x 2 columns]"
      ]
     },
     "execution_count": 61,
     "metadata": {},
     "output_type": "execute_result"
    }
   ],
   "source": [
    "data.loc[data['category'] == 'Men']"
   ]
  },
  {
   "cell_type": "code",
   "execution_count": 63,
   "metadata": {
    "scrolled": false
   },
   "outputs": [
    {
     "data": {
      "text/plain": [
       "Type Inverter Split Ton Meter Kit Modes Cooling Heating Dry Circulation AUTO Power Heating Mode kW hr Cooling Mode kW hr Indoor Noise Level dBA Outdoor Noise Level dBA                                                                                                                                                                                                                                                                                                                 8\n",
       "Non Stick Sole plate Adjustable Temperature Control Knob Pilot Lamp With Over Heating Safety Protection Temperature Adjustable Regulator                                                                                                                                                                                                                                                                                                                                                8\n",
       "Supirior heat Distribution Adjustable CoolHot Wind Compact Size Light weight Adjustable Thermostat Automatic OverHeat Protection                                                                                                                                                                                                                                                                                                                                                        8\n",
       "Degree Ambient Temperature Highly Efficient Compressor for Electricity Saving Meter Copper Connecting Pipe Free of Cost Durable High Density Filter Hot and Cool Air Conditioners Super Fast Cooling                                                                                                                                                                                                                                                                                    8\n",
       "High efficiency honeycomb pad consumes watts only Large L tank capacity For rooms upto m System restore function iPure technology Powerful air throw with auto swing Full function remote with hrs timer                                                                                                                                                                                                                                                                                8\n",
       "Suction mhr Filters Baffle filter Baffle filter Light Watt Electronics Speed Control Baffle Filter Carbon Filter                                                                                                                                                                                                                                                                                                                                                                        8\n",
       "Power W Voltage VHz heating power WWW Oscillation function Halogen tubes special processed                                                                                                                                                                                                                                                                                                                                                                                              8\n",
       "Thermal Cutoff for added Safety HighQuality cool touch Body Stitched type pure Copper wire motor Over Double heat auto Cutoff for Protection Adjustable Speed Control                                                                                                                                                                                                                                                                                                                   8\n",
       "Material Stainless steel High quality and durable Compact shape and high performance Easy to clean Erognomic design                                                                                                                                                                                                                                                                                                                                                                     7\n",
       "Heating Levels Safety Tip Over Switch Cool Touch Cabinet High Temperature Resistance Housing Power W                                                                                                                                                                                                                                                                                                                                                                                    7\n",
       "Disinfect the vegetable fruit and meet to remove the pesticide Water purification Indoor deodorization Disinfecting tableware Dissolves residual agricultural chemicals of fruits and vegetables                                                                                                                                                                                                                                                                                        7\n",
       "Material Alluminium Alloy Produces enough cappuccino for Cups For use on gaselectric or ceramic stoves Easy to clean Erognomic design                                                                                                                                                                                                                                                                                                                                                   7\n",
       "Heating Levels W Safety Tip Over Switch Cool Touch Cabinet High Temperature Resistance Housing Rating Label VHz W ISI certified                                                                                                                                                                                                                                                                                                                                                         7\n",
       "Collecting Pot Commercial use gear speed Dimension x x mm Weight kg                                                                                                                                                                                                                                                                                                                                                                                                                     7\n",
       "Layer made up of stainless steel thermos Have a practical control button to set the menu Water capacity indicator placed in front of jar pot Material Stainless Plastic                                                                                                                                                                                                                                                                                                                 7\n",
       "Drip stop to pour a cup of coffee whenever you like LED power switch lights up when the coffee maker is switched Liter capacity for cups Dishwashersafe parts for easy cleaning Water level indication for easy filling Aroma twister circulates the coffee for an optimal taste                                                                                                                                                                                                        7\n",
       "power levels suitable for different cooking needs Sensitive sensor touch operational panel W high power for faster cooking Easy to read digital display Agrade glass panel is solid and durable                                                                                                                                                                                                                                                                                         7\n",
       "sided Honeycomb cooling media for optimum cooling Highly durable Copper motor for long life Air Flow mhr CFM Cools upto sqm sqft Carbon dust Filter Remote Control with OFF timer Oscillating louvers Inverter compatibe Uninterrupted cooling during power cuts Copper motor for better performance castor wheels for easy mobility                                                                                                                                                    7\n",
       "sided Honeycomb cooling media for optimum cooling with Litres tank capacity Cools upto sqmsqft Powerful Airflow Air flow mhr CFM Power consumption of Watts Works on Invertor SpeedsHighMedLow with Inch wide fan blades Desert cooling with carbon dust filter Continuous water supply connection Wheels for easy mobility easy to operate and reliable mechanical control panel Motorized oscillating louver                                                                          7\n",
       "Power W Water Tank Translucent tank to view water level Heating Plate Nonstick hot plate Filter Permanent Filter Other Features Glass Carafe with drip stop system                                                                                                                                                                                                                                                                                                                      7\n",
       "Body Material Stainless Steel NA Burner High Efficiency Brass Burner Ignition Mode Auto Ignition Warranty year on product                                                                                                                                                                                                                                                                                                                                                               7\n",
       "Heating Levels Safety Tip Over Switch Cool Touch Cabinet High Temperature Resistance Housing                                                                                                                                                                                                                                                                                                                                                                                            7\n",
       "Material Alluminium Alloy Suitable for closeup renders Available in redwhitegrey Easy to clean Erognomic design                                                                                                                                                                                                                                                                                                                                                                         7\n",
       "Cool Warm Hot Temperature Settings Adjustable Thermostat Auto Temperature Control Overheat Protection Portable and Compact Power WW according to settings                                                                                                                                                                                                                                                                                                                               7\n",
       "sided Honeycomb cooling media for optimum cooling with Litres tank capacity Adjustable Humidification level Carbon dust filter Top loading large ice compartment Powerful Airflow Air flow mhr CFM Power consumption of Watts with to Hrs OFF timer Speeds High Med Low Sleep Ideal for Indoor use Cools upto sqm sqft Copper motor Wheels for easy mobility easy to operate and reliable digital control panel Motorized oscillating louver air throw at body level water indicator    7\n",
       "Material Resin Perfect gift to your loved ones Used as indoor decoration Comes in different color Antique Style                                                                                                                                                                                                                                                                                                                                                                         7\n",
       "Diameter cm Material PP SG Stainless Steel BPA free Weight g Suitable for fill cold and hot beverage travelling outdoor and indoor use                                                                                                                                                                                                                                                                                                                                                  7\n",
       "Heating Levels Safety Tip Over Switch Cool Touch Cabinet High Temperature Resistance Housing NA                                                                                                                                                                                                                                                                                                                                                                                         7\n",
       "Material Alluminium Alloy Safety relief valve Suitable for all cookers except for induction Easy to clean Erognomic design                                                                                                                                                                                                                                                                                                                                                              7\n",
       "Capacity Litres Single Door SemiAutomatic Refrigerator Toughened Adjustable SpillProof Glass Shelves Mechanical Control with Adjustable Thermostat Low Noise Level A Energy Saving Clean Back Design Transparent Vegetable Box                                                                                                                                                                                                                                                          7\n",
       "                                                                                                                                                                                                                                                                                                                                                                                                                                                                                       ..\n",
       "Seed sowing period Falgun AshadhMarch July Seed Germination time days Seed Germination rate min Flowering time days Plant Height Width Inch Inch                                                                                                                                                                                                                                                                                                                                        1\n",
       "Size of Vehicle AA batteries for car AA battery for controller are not included With hornturning and backward sound Age Years Speed forward and backward                                                                                                                                                                                                                                                                                                                                1\n",
       "Print scan and copy with a compact HP LaserJet MFP that fits into tight workspaces Produce sharp text bold blacks and crisp graphics with precision black toner Print from iPhone and iPad with AirPrint which automatically scales jobs to the correct paper size Track toner levels with Print Gauge technology and produce the most prints possible Help save energy with HP AutoOnAutoOff technology                                                                                1\n",
       "ISBN Author S Radhakrishna Cover Paperback Language English Publisher Harper Collins                                                                                                                                                                                                                                                                                                                                                                                                    1\n",
       "ISBN Author Sewell Carl Binding Pb Publish Year Publisher Crown PublishingRandom House                                                                                                                                                                                                                                                                                                                                                                                                  1\n",
       "Baby milk bottle with anticolic nipple No sharp edges washable Silicone teat soft and natural BPA Free NA                                                                                                                                                                                                                                                                                                                                                                               1\n",
       "ISBN Author AUDREY NIFFENEGGER Language English Cover Paperback Publication PRHIPL                                                                                                                                                                                                                                                                                                                                                                                                      1\n",
       "ISBN Author Venkatesan Chandramouli Binding Pb Publish Year Publisher PortfolioPenguin Group                                                                                                                                                                                                                                                                                                                                                                                            1\n",
       "ISBN Author JOHN GRAY Language English Cover Paperback Publication HARPER COLLINS                                                                                                                                                                                                                                                                                                                                                                                                       1\n",
       "Comfort fit camping pants pockets side zippered pocket Elasticated hem Material Specifications Cotton                                                                                                                                                                                                                                                                                                                                                                                   1\n",
       "Bpa free and has a bite resistant spout the thin rim Ergonomic shape to leave space for the babys nose and promote correct positioning of the lips and neck Innovative easy removable sipping valve that makes the cup percent spill proof without compromising the childs ease of drinking Recommended for children above years of age Similar to the edge of a glass helps the child transition to open cup drinking                                                                  1\n",
       "ISBN Author Westhead Paul Wright Mike Binding Pb Publish Year Publisher Oxford University Press                                                                                                                                                                                                                                                                                                                                                                                         1\n",
       "ISBN Author Dalal Deepak Language English Cover Paperback Publisher Grey Oak                                                                                                                                                                                                                                                                                                                                                                                                            1\n",
       "Contrast lace detail at front neck Perfect for a day out or an evening dinner Lightweight and comfortable Machine Wash Warm Gentle Cycle at degree Polyester                                                                                                                                                                                                                                                                                                                            1\n",
       "Material Mesh Closure Lace Up Sole Material Rubber Flat Heel Round Tip Lightweight Comfortable Flexible                                                                                                                                                                                                                                                                                                                                                                                 1\n",
       "ISBN Author Antoine Ed Binding Pb Publish Year Publisher Creative Collaborative Coaching Zone Llc                                                                                                                                                                                                                                                                                                                                                                                       1\n",
       "Round Neck Tshirt PrintTongba Time Hand wash Material Cotton Fit Regular                                                                                                                                                                                                                                                                                                                                                                                                                1\n",
       "Ladies Stylish Printed Leggings Unique designs The waistchanger Engineered panels shape and smooth your waist and hips so you look and feel amazing Breathable highperformance interlock knit with maximum coverage When you want to feel and look amazing with beautiful leggings that highlight your curves and offer formfitting slimming comfort look no further than this amazing Leggings for women                                                                               1\n",
       "ISBN Author Hicks Jerry Esther Binding Pb Publish Year Publisher Hay House Publishers India                                                                                                                                                                                                                                                                                                                                                                                             1\n",
       "Innovative reliable G wireless technology provides powerful connection preventing interference from other Bluetooth and WiFi devices Mouse designed for ambidextrous use that is can be comfortably used with both hands to prevent unnecessary strain on only one hand Adjustable DPI highdefinition tracking engine Rapoos latest energy saving technology and power switch with battery life up to MONTHS Portable plugandplay comfortable grip Nanoreceiver buildin design          1\n",
       "Inch x pixels LED TV Watt X Speaker Acoustic Sepaker Connectivity HDMIx USBx Power SupplyHZ ACV HZ Picture InputsVGA AVI RF HDMI                                                                                                                                                                                                                                                                                                                                                        1\n",
       "ISBN Author Welch Jack Binding Pb Publish Year Publisher Harper Collins Publishers                                                                                                                                                                                                                                                                                                                                                                                                      1\n",
       "W power Tasty and evenly cooked rice with D heating technology Automatic rice cooking and automatic keep warm keeps rice fresh for hours mm layer inner pot for even heating cooks rice tastier D for even heating and effective warm keeping                                                                                                                                                                                                                                           1\n",
       "Automatic Pop Up Click Slide Card Holder Thin Metal RFID Card Protector Case Product Dimensions x x cm g Just mm flat Can hold cards maximum RFID protection                                                                                                                                                                                                                                                                                                                            1\n",
       "Faster with eight hot keys for instant access to music email and more With intelligent power management you can go years without replacing the batteries Advanced GHz wireless Spillresistant keyboard Durable UVcoated keys                                                                                                                                                                                                                                                            1\n",
       "ISBN Author Burg Bob Mann John David Binding Pb Publish Year Publisher Penguin Group                                                                                                                                                                                                                                                                                                                                                                                                    1\n",
       "Active use pants with HypaCool wicking and moisture management Stretch fabric and gusseted crotch for easy movement Material Specifications Nyloon Spandex For Active Women NA                                                                                                                                                                                                                                                                                                          1\n",
       "inch TS FHD Display Intel Core i th GenerationU Processor GB RAM and GB SSD Hard Drive Intel HD Graphics Card Windows                                                                                                                                                                                                                                                                                                                                                                   1\n",
       "ISBN Author Rajiv Malhotra Language Hindi Cover Paperback Publisher Harper Hindi                                                                                                                                                                                                                                                                                                                                                                                                        1\n",
       "ISBN Author Thomas Fisher MS Sriram Binding Paperback                                                                                                                                                                                                                                                                                                                                                                                                                                   1\n",
       "Name: details, Length: 5381, dtype: int64"
      ]
     },
     "execution_count": 63,
     "metadata": {},
     "output_type": "execute_result"
    }
   ],
   "source": [
    "data['details'].value_counts()"
   ]
  },
  {
   "cell_type": "code",
   "execution_count": 64,
   "metadata": {},
   "outputs": [],
   "source": [
    "a= data['details'].str.lstrip()"
   ]
  },
  {
   "cell_type": "code",
   "execution_count": 65,
   "metadata": {},
   "outputs": [],
   "source": [
    "a = a.str.rstrip()"
   ]
  },
  {
   "cell_type": "code",
   "execution_count": 66,
   "metadata": {},
   "outputs": [
    {
     "data": {
      "text/plain": [
       "0                                      Designers Piece\n",
       "1    Paper silk suit Sleeveless Dry Clean Technique...\n",
       "2    Thread and Mirror Work Blouse Chiffon Sari Seq...\n",
       "3    Gota Work Blouse Chiffon Sari Golden Lace Disc...\n",
       "4    Sequence Blouse Chiffon Sari Thread Lace Discl...\n",
       "Name: details, dtype: object"
      ]
     },
     "execution_count": 66,
     "metadata": {},
     "output_type": "execute_result"
    }
   ],
   "source": [
    "a.head()"
   ]
  },
  {
   "cell_type": "code",
   "execution_count": 68,
   "metadata": {},
   "outputs": [
    {
     "data": {
      "text/plain": [
       "8721"
      ]
     },
     "execution_count": 68,
     "metadata": {},
     "output_type": "execute_result"
    }
   ],
   "source": [
    "len(a)"
   ]
  },
  {
   "cell_type": "code",
   "execution_count": 69,
   "metadata": {},
   "outputs": [
    {
     "data": {
      "text/plain": [
       "<matplotlib.axes._subplots.AxesSubplot at 0x15240f478d0>"
      ]
     },
     "execution_count": 69,
     "metadata": {},
     "output_type": "execute_result"
    },
    {
     "data": {
      "image/png": "[encoded data removed]",
      "text/plain": [
       "<Figure size 720x288 with 1 Axes>"
      ]
     },
     "metadata": {
      "needs_background": "light"
     },
     "output_type": "display_data"
    }
   ],
   "source": [
    "plt.figure(figsize=(10,4))\n",
    "data['category'].value_counts().plot(kind='bar')"
   ]
  },
  {
   "cell_type": "code",
   "execution_count": 73,
   "metadata": {
    "scrolled": true
   },
   "outputs": [
    {
     "name": "stdout",
     "output_type": "stream",
     "text": [
      "229845\n"
     ]
    }
   ],
   "source": [
    "print(a.apply(lambda x: len(x.split(' '))).sum())\n"
   ]
  },
  {
   "cell_type": "code",
   "execution_count": 74,
   "metadata": {},
   "outputs": [],
   "source": [
    "X = a\n",
    "y = data['category']\n",
    "X_train, X_test, y_train, y_test = train_test_split(X, y, test_size=0.2,random_state = 20)"
   ]
  },
  {
   "cell_type": "code",
   "execution_count": 75,
   "metadata": {},
   "outputs": [
    {
     "data": {
      "text/plain": [
       "Pipeline(memory=None,\n",
       "     steps=[('vect', CountVectorizer(analyzer='word', binary=False, decode_error='strict',\n",
       "        dtype=<class 'numpy.int64'>, encoding='utf-8', input='content',\n",
       "        lowercase=True, max_df=1.0, max_features=None, min_df=1,\n",
       "        ngram_range=(1, 1), preprocessor=None, stop_words=None,\n",
       "        strip...inear_tf=False, use_idf=True)), ('clf', MultinomialNB(alpha=1.0, class_prior=None, fit_prior=True))])"
      ]
     },
     "execution_count": 75,
     "metadata": {},
     "output_type": "execute_result"
    }
   ],
   "source": [
    "nb = Pipeline([('vect', CountVectorizer()),\n",
    "               ('tfidf', TfidfTransformer()),\n",
    "               ('clf', MultinomialNB()),\n",
    "              ])\n",
    "nb.fit(X_train, y_train)"
   ]
  },
  {
   "cell_type": "code",
   "execution_count": 76,
   "metadata": {},
   "outputs": [
    {
     "name": "stdout",
     "output_type": "stream",
     "text": [
      "accuracy 0.5191977077363897\n"
     ]
    }
   ],
   "source": [
    "y_pred = nb.predict(X_test)\n",
    "print('accuracy %s' % accuracy_score(y_pred, y_test))"
   ]
  },
  {
   "cell_type": "code",
   "execution_count": 77,
   "metadata": {
    "scrolled": true
   },
   "outputs": [
    {
     "name": "stdout",
     "output_type": "stream",
     "text": [
      "                      precision    recall  f1-score   support\n",
      "\n",
      "               Women       0.00      0.00      0.00       100\n",
      "                 Men       0.00      0.00      0.00        94\n",
      "                Kids       0.56      0.81      0.67       388\n",
      "         Electronics       0.00      0.00      0.00       100\n",
      "     Home and Living       0.00      0.00      0.00       131\n",
      "  Health and Fitness       0.18      0.50      0.27       212\n",
      "                Auto       0.79      0.40      0.53       111\n",
      "        Pet Supplies       1.00      0.10      0.18        41\n",
      "          Activities       0.00      0.00      0.00        28\n",
      "Grocery and Crockery       0.86      0.72      0.78       330\n",
      "           Sastobook       0.73      0.96      0.83       210\n",
      "\n",
      "           micro avg       0.52      0.52      0.52      1745\n",
      "           macro avg       0.37      0.32      0.30      1745\n",
      "        weighted avg       0.47      0.52      0.47      1745\n",
      "\n"
     ]
    },
    {
     "name": "stderr",
     "output_type": "stream",
     "text": [
      "c:\\users\\aasis\\appdata\\local\\programs\\python\\python37\\lib\\site-packages\\sklearn\\metrics\\classification.py:1143: UndefinedMetricWarning: Precision and F-score are ill-defined and being set to 0.0 in labels with no predicted samples.\n",
      "  'precision', 'predicted', average, warn_for)\n"
     ]
    }
   ],
   "source": [
    "target=['Women', 'Men', 'Kids', 'Electronics', 'Home and Living',\n",
    "       'Health and Fitness', 'Auto', 'Pet Supplies', 'Activities',\n",
    "       'Grocery and Crockery', 'Sastobook']\n",
    "print(classification_report(y_test, y_pred,target_names=target))"
   ]
  },
  {
   "cell_type": "code",
   "execution_count": 78,
   "metadata": {},
   "outputs": [],
   "source": [
    "sgd = Pipeline([('vect', CountVectorizer()),\n",
    "                ('tfidf', TfidfTransformer()),\n",
    "                ('clf', SGDClassifier(loss='hinge', penalty='l2',alpha=1e-3, random_state=42, max_iter=5, tol=None)),\n",
    "               ])"
   ]
  },
  {
   "cell_type": "code",
   "execution_count": 79,
   "metadata": {},
   "outputs": [
    {
     "name": "stderr",
     "output_type": "stream",
     "text": [
      "c:\\users\\aasis\\appdata\\local\\programs\\python\\python37\\lib\\site-packages\\sklearn\\linear_model\\stochastic_gradient.py:183: FutureWarning: max_iter and tol parameters have been added in SGDClassifier in 0.19. If max_iter is set but tol is left unset, the default value for tol in 0.19 and 0.20 will be None (which is equivalent to -infinity, so it has no effect) but will change in 0.21 to 1e-3. Specify tol to silence this warning.\n",
      "  FutureWarning)\n"
     ]
    },
    {
     "data": {
      "text/plain": [
       "Pipeline(memory=None,\n",
       "     steps=[('vect', CountVectorizer(analyzer='word', binary=False, decode_error='strict',\n",
       "        dtype=<class 'numpy.int64'>, encoding='utf-8', input='content',\n",
       "        lowercase=True, max_df=1.0, max_features=None, min_df=1,\n",
       "        ngram_range=(1, 1), preprocessor=None, stop_words=None,\n",
       "        strip...dom_state=42, shuffle=True, tol=None,\n",
       "       validation_fraction=0.1, verbose=0, warm_start=False))])"
      ]
     },
     "execution_count": 79,
     "metadata": {},
     "output_type": "execute_result"
    }
   ],
   "source": [
    "sgd.fit(X_train, y_train)"
   ]
  },
  {
   "cell_type": "code",
   "execution_count": 80,
   "metadata": {},
   "outputs": [
    {
     "name": "stdout",
     "output_type": "stream",
     "text": [
      "accuracy 0.5123209169054441\n"
     ]
    }
   ],
   "source": [
    "y_pred = sgd.predict(X_test)\n",
    "print('accuracy %s' % accuracy_score(y_pred, y_test))"
   ]
  },
  {
   "cell_type": "code",
   "execution_count": 81,
   "metadata": {},
   "outputs": [
    {
     "name": "stdout",
     "output_type": "stream",
     "text": [
      "                      precision    recall  f1-score   support\n",
      "\n",
      "               Women       0.02      0.02      0.02       100\n",
      "                 Men       0.02      0.01      0.01        94\n",
      "                Kids       0.66      0.74      0.70       388\n",
      "         Electronics       0.00      0.00      0.00       100\n",
      "     Home and Living       0.06      0.03      0.04       131\n",
      "  Health and Fitness       0.25      0.20      0.22       212\n",
      "                Auto       0.69      0.71      0.70       111\n",
      "        Pet Supplies       0.94      0.78      0.85        41\n",
      "          Activities       0.03      0.04      0.03        28\n",
      "Grocery and Crockery       0.61      0.74      0.67       330\n",
      "           Sastobook       0.74      0.95      0.83       210\n",
      "\n",
      "           micro avg       0.51      0.51      0.51      1745\n",
      "           macro avg       0.36      0.38      0.37      1745\n",
      "        weighted avg       0.45      0.51      0.48      1745\n",
      "\n"
     ]
    }
   ],
   "source": [
    "target=['Women', 'Men', 'Kids', 'Electronics', 'Home and Living',\n",
    "       'Health and Fitness', 'Auto', 'Pet Supplies', 'Activities',\n",
    "       'Grocery and Crockery', 'Sastobook']\n",
    "print(classification_report(y_test, y_pred,target_names=target))"
   ]
  },
  {
   "cell_type": "markdown",
   "metadata": {},
   "source": [
    "For model with subCategories as target"
   ]
  },
  {
   "cell_type": "code",
   "execution_count": 83,
   "metadata": {},
   "outputs": [
    {
     "data": {
      "text/html": [
       "<div>\n",
       "<style scoped>\n",
       "    .dataframe tbody tr th:only-of-type {\n",
       "        vertical-align: middle;\n",
       "    }\n",
       "\n",
       "    .dataframe tbody tr th {\n",
       "        vertical-align: top;\n",
       "    }\n",
       "\n",
       "    .dataframe thead th {\n",
       "        text-align: right;\n",
       "    }\n",
       "</style>\n",
       "<table border=\"1\" class=\"dataframe\">\n",
       "  <thead>\n",
       "    <tr style=\"text-align: right;\">\n",
       "      <th></th>\n",
       "      <th>category</th>\n",
       "      <th>details</th>\n",
       "      <th>discountedPrice</th>\n",
       "      <th>imageUrl</th>\n",
       "      <th>name</th>\n",
       "      <th>originalPrice</th>\n",
       "      <th>subCategory</th>\n",
       "      <th>subSubCategory</th>\n",
       "    </tr>\n",
       "  </thead>\n",
       "  <tbody>\n",
       "    <tr>\n",
       "      <th>0</th>\n",
       "      <td>Women</td>\n",
       "      <td>Designers Piece</td>\n",
       "      <td>2288.0</td>\n",
       "      <td>https://sd.azureedge.net/0/images/product/2011...</td>\n",
       "      <td>Specially Designed Red Rayon Kurti with Jaipur...</td>\n",
       "      <td>2782.0</td>\n",
       "      <td>Clothing</td>\n",
       "      <td>Sarees &amp; Lehengas</td>\n",
       "    </tr>\n",
       "    <tr>\n",
       "      <th>1</th>\n",
       "      <td>Women</td>\n",
       "      <td>Paper silk suit Sleeveless Dry Clean Technique...</td>\n",
       "      <td>6000.0</td>\n",
       "      <td>https://sd.azureedge.net/0/images/product/8285...</td>\n",
       "      <td>Chiffon Block Print Dupatta SU030</td>\n",
       "      <td>6666.0</td>\n",
       "      <td>Clothing</td>\n",
       "      <td>Sarees &amp; Lehengas</td>\n",
       "    </tr>\n",
       "    <tr>\n",
       "      <th>2</th>\n",
       "      <td>Women</td>\n",
       "      <td>Thread and Mirror Work Blouse Chiffon Sari Seq...</td>\n",
       "      <td>8000.0</td>\n",
       "      <td>https://sd.azureedge.net/0/images/product/8377...</td>\n",
       "      <td>Thread and Mirror Work Blouse Saree SR001</td>\n",
       "      <td>8888.0</td>\n",
       "      <td>Clothing</td>\n",
       "      <td>Sarees &amp; Lehengas</td>\n",
       "    </tr>\n",
       "    <tr>\n",
       "      <th>3</th>\n",
       "      <td>Women</td>\n",
       "      <td>Gota Work Blouse Chiffon Sari Golden Lace Disc...</td>\n",
       "      <td>8000.0</td>\n",
       "      <td>https://sd.azureedge.net/0/images/product/8384...</td>\n",
       "      <td>Chiffon Sari SR008</td>\n",
       "      <td>8888.0</td>\n",
       "      <td>Clothing</td>\n",
       "      <td>Sarees &amp; Lehengas</td>\n",
       "    </tr>\n",
       "    <tr>\n",
       "      <th>4</th>\n",
       "      <td>Women</td>\n",
       "      <td>Sequence Blouse Chiffon Sari Thread Lace Discl...</td>\n",
       "      <td>8000.0</td>\n",
       "      <td>https://sd.azureedge.net/0/images/product/8385...</td>\n",
       "      <td>Chiffon Sari SR009</td>\n",
       "      <td>8888.0</td>\n",
       "      <td>Clothing</td>\n",
       "      <td>Sarees &amp; Lehengas</td>\n",
       "    </tr>\n",
       "  </tbody>\n",
       "</table>\n",
       "</div>"
      ],
      "text/plain": [
       "  category                                            details  \\\n",
       "0    Women                                    Designers Piece   \n",
       "1    Women  Paper silk suit Sleeveless Dry Clean Technique...   \n",
       "2    Women  Thread and Mirror Work Blouse Chiffon Sari Seq...   \n",
       "3    Women  Gota Work Blouse Chiffon Sari Golden Lace Disc...   \n",
       "4    Women  Sequence Blouse Chiffon Sari Thread Lace Discl...   \n",
       "\n",
       "   discountedPrice                                           imageUrl  \\\n",
       "0           2288.0  https://sd.azureedge.net/0/images/product/2011...   \n",
       "1           6000.0  https://sd.azureedge.net/0/images/product/8285...   \n",
       "2           8000.0  https://sd.azureedge.net/0/images/product/8377...   \n",
       "3           8000.0  https://sd.azureedge.net/0/images/product/8384...   \n",
       "4           8000.0  https://sd.azureedge.net/0/images/product/8385...   \n",
       "\n",
       "                                                name  originalPrice  \\\n",
       "0  Specially Designed Red Rayon Kurti with Jaipur...         2782.0   \n",
       "1                  Chiffon Block Print Dupatta SU030         6666.0   \n",
       "2          Thread and Mirror Work Blouse Saree SR001         8888.0   \n",
       "3                                 Chiffon Sari SR008         8888.0   \n",
       "4                                 Chiffon Sari SR009         8888.0   \n",
       "\n",
       "  subCategory     subSubCategory  \n",
       "0    Clothing  Sarees & Lehengas  \n",
       "1    Clothing  Sarees & Lehengas  \n",
       "2    Clothing  Sarees & Lehengas  \n",
       "3    Clothing  Sarees & Lehengas  \n",
       "4    Clothing  Sarees & Lehengas  "
      ]
     },
     "execution_count": 83,
     "metadata": {},
     "output_type": "execute_result"
    }
   ],
   "source": [
    "scrape_data.head()"
   ]
  },
  {
   "cell_type": "code",
   "execution_count": 84,
   "metadata": {},
   "outputs": [
    {
     "data": {
      "text/plain": [
       "0                                      Designers Piece\n",
       "1    Paper silk suit Sleeveless Dry Clean Technique...\n",
       "2    Thread and Mirror Work Blouse Chiffon Sari Seq...\n",
       "3    Gota Work Blouse Chiffon Sari Golden Lace Disc...\n",
       "4    Sequence Blouse Chiffon Sari Thread Lace Discl...\n",
       "Name: details, dtype: object"
      ]
     },
     "execution_count": 84,
     "metadata": {},
     "output_type": "execute_result"
    }
   ],
   "source": [
    "X.head()"
   ]
  },
  {
   "cell_type": "code",
   "execution_count": 87,
   "metadata": {},
   "outputs": [
    {
     "data": {
      "text/plain": [
       "array(['Clothing', 'Foot Wear', 'Bags and Wallets', 'Jewellery',\n",
       "       'Beauty Care', 'Accessories', \"Women's Grooming\",\n",
       "       \"Women's Grooming', 'Epilator and Shaver\", \"Men's Grooming\",\n",
       "       'Baby Care', 'Toys', 'Mobiles', 'Footwear for Kids',\n",
       "       'Mobile and Tablet Accessories', 'Audio Video',\n",
       "       'Computer Accessories', 'Gaming', 'Laptop',\n",
       "       'Camera and Accessories', 'Desktop', 'Exciting Eletronics',\n",
       "       'Alarm and Security System', 'Home Appliances',\n",
       "       'Home Organization', 'Gardening', 'Kitchen and Dining',\n",
       "       'Home Decor', 'Lighting', 'Home Safety', 'Tools',\n",
       "       'Cleaning and Toiletries', 'Fitness', 'Body and Frames',\n",
       "       'Health Care', 'Dog Supplies', \"Rider's Accessories\", 'Auto Care',\n",
       "       'Celebration', 'Adventure Sports', 'Musical Instruments',\n",
       "       'Cutlery and Jars', 'Genres', 'Groceries', 'Fresh Product'],\n",
       "      dtype=object)"
      ]
     },
     "execution_count": 87,
     "metadata": {},
     "output_type": "execute_result"
    }
   ],
   "source": [
    "scrape_data['subCategory'].unique()"
   ]
  },
  {
   "cell_type": "code",
   "execution_count": 88,
   "metadata": {},
   "outputs": [
    {
     "data": {
      "text/plain": [
       "<matplotlib.axes._subplots.AxesSubplot at 0x1524470b5c0>"
      ]
     },
     "execution_count": 88,
     "metadata": {},
     "output_type": "execute_result"
    },
    {
     "data": {
      "image/png": "[encoded data removed]",
      "text/plain": [
       "<Figure size 720x288 with 1 Axes>"
      ]
     },
     "metadata": {
      "needs_background": "light"
     },
     "output_type": "display_data"
    }
   ],
   "source": [
    "plt.figure(figsize=(10,4))\n",
    "scrape_data['subCategory'].value_counts().plot(kind='bar')"
   ]
  },
  {
   "cell_type": "code",
   "execution_count": 96,
   "metadata": {},
   "outputs": [
    {
     "data": {
      "text/plain": [
       "Genres                                      True\n",
       "Home Appliances                             True\n",
       "Home Decor                                  True\n",
       "Kitchen and Dining                          True\n",
       "Mobiles                                     True\n",
       "Home Organization                           True\n",
       "Toys                                        True\n",
       "Cleaning and Toiletries                     True\n",
       "Lighting                                    True\n",
       "Exciting Eletronics                         True\n",
       "Celebration                                 True\n",
       "Computer Accessories                        True\n",
       "Audio Video                                 True\n",
       "Camera and Accessories                      True\n",
       "Baby Care                                   True\n",
       "Fitness                                     True\n",
       "Clothing                                    True\n",
       "Accessories                                 True\n",
       "Gardening                                   True\n",
       "Groceries                                   True\n",
       "Tools                                       True\n",
       "Laptop                                      True\n",
       "Rider's Accessories                         True\n",
       "Alarm and Security System                   True\n",
       "Auto Care                                   True\n",
       "Home Safety                                 True\n",
       "Desktop                                     True\n",
       "Body and Frames                             True\n",
       "Health Care                                 True\n",
       "Adventure Sports                            True\n",
       "Mobile and Tablet Accessories               True\n",
       "Cutlery and Jars                            True\n",
       "Fresh Product                               True\n",
       "Dog Supplies                                True\n",
       "Footwear for Kids                           True\n",
       "Beauty Care                                 True\n",
       "Jewellery                                   True\n",
       "Foot Wear                                   True\n",
       "Bags and Wallets                            True\n",
       "Women's Grooming                           False\n",
       "Men's Grooming                             False\n",
       "Musical Instruments                        False\n",
       "Gaming                                     False\n",
       "Women's Grooming', 'Epilator and Shaver    False\n",
       "Name: subCategory, dtype: bool"
      ]
     },
     "execution_count": 96,
     "metadata": {},
     "output_type": "execute_result"
    }
   ],
   "source": [
    "scrape_data['subCategory'].value_counts()>100"
   ]
  },
  {
   "cell_type": "code",
   "execution_count": 92,
   "metadata": {},
   "outputs": [],
   "source": [
    "need_data = scrape_data[['details','subCategory']]"
   ]
  },
  {
   "cell_type": "code",
   "execution_count": 113,
   "metadata": {},
   "outputs": [
    {
     "data": {
      "text/plain": [
       "114580"
      ]
     },
     "execution_count": 113,
     "metadata": {},
     "output_type": "execute_result"
    }
   ],
   "source": [
    "len(need_data)"
   ]
  },
  {
   "cell_type": "code",
   "execution_count": 101,
   "metadata": {},
   "outputs": [],
   "source": [
    "filtered = need_data.groupby('subCategory').filter(lambda x: len(x) >= 100)"
   ]
  },
  {
   "cell_type": "code",
   "execution_count": 114,
   "metadata": {
    "scrolled": true
   },
   "outputs": [
    {
     "name": "stdout",
     "output_type": "stream",
     "text": [
      "<class 'pandas.core.frame.DataFrame'>\n",
      "Int64Index: 114469 entries, 0 to 115046\n",
      "Data columns (total 2 columns):\n",
      "details        114469 non-null object\n",
      "subCategory    114469 non-null object\n",
      "dtypes: object(2)\n",
      "memory usage: 2.6+ MB\n"
     ]
    }
   ],
   "source": [
    "filtered.info()"
   ]
  },
  {
   "cell_type": "code",
   "execution_count": 103,
   "metadata": {},
   "outputs": [
    {
     "data": {
      "text/plain": [
       "Genres                           14828\n",
       "Home Appliances                  14796\n",
       "Home Decor                        9687\n",
       "Kitchen and Dining                9565\n",
       "Mobiles                           6057\n",
       "Home Organization                 5368\n",
       "Toys                              5321\n",
       "Cleaning and Toiletries           5277\n",
       "Lighting                          4102\n",
       "Exciting Eletronics               3984\n",
       "Celebration                       3896\n",
       "Computer Accessories              3760\n",
       "Audio Video                       3558\n",
       "Camera and Accessories            3305\n",
       "Baby Care                         2166\n",
       "Fitness                           1593\n",
       "Clothing                          1522\n",
       "Accessories                       1465\n",
       "Gardening                         1404\n",
       "Groceries                         1359\n",
       "Tools                             1287\n",
       "Laptop                            1046\n",
       "Rider's Accessories               1005\n",
       "Alarm and Security System          983\n",
       "Auto Care                          966\n",
       "Home Safety                        945\n",
       "Desktop                            796\n",
       "Body and Frames                    792\n",
       "Health Care                        733\n",
       "Adventure Sports                   657\n",
       "Mobile and Tablet Accessories      547\n",
       "Cutlery and Jars                   404\n",
       "Fresh Product                      315\n",
       "Dog Supplies                       204\n",
       "Footwear for Kids                  190\n",
       "Beauty Care                        157\n",
       "Jewellery                          149\n",
       "Foot Wear                          146\n",
       "Bags and Wallets                   134\n",
       "Name: subCategory, dtype: int64"
      ]
     },
     "execution_count": 103,
     "metadata": {},
     "output_type": "execute_result"
    }
   ],
   "source": [
    "filtered['subCategory'].value_counts()"
   ]
  },
  {
   "cell_type": "code",
   "execution_count": 117,
   "metadata": {},
   "outputs": [],
   "source": [
    "filtered = filtered.drop_duplicates()"
   ]
  },
  {
   "cell_type": "code",
   "execution_count": 118,
   "metadata": {},
   "outputs": [
    {
     "data": {
      "text/plain": [
       "18658"
      ]
     },
     "execution_count": 118,
     "metadata": {},
     "output_type": "execute_result"
    }
   ],
   "source": [
    "len(filtered)"
   ]
  },
  {
   "cell_type": "code",
   "execution_count": 123,
   "metadata": {},
   "outputs": [],
   "source": [
    "dataSub = filtered['details'].str.lstrip()\n",
    "dataSub = dataSub.str.rstrip()\n",
    "dataSub = dataSub.str.lower()\n"
   ]
  },
  {
   "cell_type": "code",
   "execution_count": 125,
   "metadata": {},
   "outputs": [],
   "source": [
    "dataSub = dataSub.str.strip()"
   ]
  },
  {
   "cell_type": "code",
   "execution_count": 126,
   "metadata": {},
   "outputs": [
    {
     "data": {
      "text/plain": [
       "0                                           designers piece\n",
       "1         paper silk suit sleeveless dry clean technique...\n",
       "2         thread and mirror work blouse chiffon sari seq...\n",
       "3         gota work blouse chiffon sari golden lace disc...\n",
       "4         sequence blouse chiffon sari thread lace discl...\n",
       "5         brocade blouse chiffon sari gota lace disclaim...\n",
       "6         georgette thread work blouse chiffon sari thre...\n",
       "7         sequence blouse georgette stripe sari sequence...\n",
       "8         raw silk blouse with stone work neck chiffon p...\n",
       "9         brocade blouse crepe sari thread work lace dis...\n",
       "10        net fabric zari work front cut vneck perfect w...\n",
       "11        silk blouse georgette and banarasi sari thread...\n",
       "12        silk thread work shirt cotton silk skirt with ...\n",
       "13        gota work blouse georgette mukesh work sari wi...\n",
       "14        linen floral blouse chiffon sari pearl and gol...\n",
       "15        sequence blouse net and georgette sari sequenc...\n",
       "16        golden zari blouse chiffon pearl work sari pan...\n",
       "17        silk long kurti chinese collar net dupatta sil...\n",
       "18        raw silk lehenga thread work net dupatta comes...\n",
       "19        net fabric zari work front cut kurti uneck sil...\n",
       "20        raw silk blouse net sequence dupatta kota silk...\n",
       "21        georgette shirt banarasi silk dupatta banarasi...\n",
       "22        silk fabric stone zari work blouse thread work...\n",
       "23        banarasi blouse with lace chiffon sari golden ...\n",
       "24        raw silk blouse georgette sequence dupatta ban...\n",
       "25        banarasi cape net sequence dupatta with a gold...\n",
       "26        banarasi silk and heavy blouse dupatta pure si...\n",
       "27        fabric linen neck round sleeves quarter length...\n",
       "29        chikan kurthi neck round sleeves quarter lengt...\n",
       "30        material cotton only kurti round neck in maxi ...\n",
       "                                ...                        \n",
       "113070    isbn  author norman vincent peale language eng...\n",
       "113078    isbn  author preetha rajah kannan language eng...\n",
       "113083    isbn  author harimohan paruvu language english...\n",
       "113089    isbn  author paulo coelho language english cov...\n",
       "113091    isbn  author john gray language english cover ...\n",
       "113182    isbn  author mandela nelson language english c...\n",
       "113224    author subin bhattarai published year  publish...\n",
       "113235    isbn  author dalai lama language english cover...\n",
       "113237    isbn  author venkatesan chandramouli language ...\n",
       "113247    isbn  author vaidyanathan nandini language eng...\n",
       "113250    isbn  author nicholas sparks language english ...\n",
       "113254    isbn  author sri sri shankar ravi language eng...\n",
       "113310    isbn  author wolff michael language english co...\n",
       "113378    isbn  author murphy dr joseph  binding pb publ...\n",
       "113994    author ernest hemingway isbn paperback english...\n",
       "114042    isbn  author ashok k banker language english c...\n",
       "114117    isbn  author palande pravin language english c...\n",
       "114167    isbn   author stephen hawking publisher john m...\n",
       "114664    isbn  author kristy robinett language english ...\n",
       "114674    isbn  author kavita kane language english cove...\n",
       "114685    isbn  author arora manoj language english cove...\n",
       "114897    isbn authorcarnegie dale language english cove...\n",
       "114898    isbn  author tsoknyi rinpoche language nepali ...\n",
       "114899    isbn  author stephen hawking language english ...\n",
       "114900    isbn  author malala yousafzai language english...\n",
       "114901    isbn  author catherine blyth language english ...\n",
       "114902    isbn  author ben goldacre language english cov...\n",
       "114903    author as panneerselvan cover paperback langua...\n",
       "114904    isbn  author brian cox cover paperback languag...\n",
       "114905    isbn  author david orrell language english cov...\n",
       "Name: details, Length: 18658, dtype: object"
      ]
     },
     "execution_count": 126,
     "metadata": {},
     "output_type": "execute_result"
    }
   ],
   "source": [
    "dataSub"
   ]
  },
  {
   "cell_type": "markdown",
   "metadata": {},
   "source": [
    "buliding the classification model"
   ]
  },
  {
   "cell_type": "code",
   "execution_count": 121,
   "metadata": {},
   "outputs": [
    {
     "name": "stdout",
     "output_type": "stream",
     "text": [
      "560441\n"
     ]
    }
   ],
   "source": [
    "print(filtered['details'].apply(lambda x: len(x.split(' '))).sum())"
   ]
  },
  {
   "cell_type": "code",
   "execution_count": 127,
   "metadata": {},
   "outputs": [
    {
     "name": "stdout",
     "output_type": "stream",
     "text": [
      "560441\n"
     ]
    }
   ],
   "source": [
    "print(dataSub.apply(lambda x: len(x.split(' '))).sum())"
   ]
  },
  {
   "cell_type": "code",
   "execution_count": 129,
   "metadata": {},
   "outputs": [],
   "source": [
    "X= dataSub\n",
    "y= filtered['subCategory']\n",
    "X_train, X_test, y_train, y_test = train_test_split(X, y, test_size=0.2,random_state = 20)"
   ]
  },
  {
   "cell_type": "code",
   "execution_count": 130,
   "metadata": {},
   "outputs": [
    {
     "data": {
      "text/plain": [
       "Pipeline(memory=None,\n",
       "     steps=[('vect', CountVectorizer(analyzer='word', binary=False, decode_error='strict',\n",
       "        dtype=<class 'numpy.int64'>, encoding='utf-8', input='content',\n",
       "        lowercase=True, max_df=1.0, max_features=None, min_df=1,\n",
       "        ngram_range=(1, 1), preprocessor=None, stop_words=None,\n",
       "        strip...inear_tf=False, use_idf=True)), ('clf', MultinomialNB(alpha=1.0, class_prior=None, fit_prior=True))])"
      ]
     },
     "execution_count": 130,
     "metadata": {},
     "output_type": "execute_result"
    }
   ],
   "source": [
    "nb = Pipeline([('vect', CountVectorizer()),\n",
    "               ('tfidf', TfidfTransformer()),\n",
    "               ('clf', MultinomialNB()),\n",
    "              ])\n",
    "nb.fit(X_train, y_train)"
   ]
  },
  {
   "cell_type": "code",
   "execution_count": 131,
   "metadata": {},
   "outputs": [
    {
     "name": "stdout",
     "output_type": "stream",
     "text": [
      "accuracy 0.21489817792068597\n"
     ]
    }
   ],
   "source": [
    "y_pred = nb.predict(X_test)\n",
    "print('accuracy %s' % accuracy_score(y_pred, y_test))"
   ]
  },
  {
   "cell_type": "code",
   "execution_count": 132,
   "metadata": {},
   "outputs": [
    {
     "data": {
      "text/plain": [
       "array(['Clothing', 'Foot Wear', 'Bags and Wallets', 'Jewellery',\n",
       "       'Beauty Care', 'Accessories', 'Baby Care', 'Toys', 'Mobiles',\n",
       "       'Footwear for Kids', 'Mobile and Tablet Accessories',\n",
       "       'Audio Video', 'Computer Accessories', 'Laptop',\n",
       "       'Camera and Accessories', 'Desktop', 'Exciting Eletronics',\n",
       "       'Alarm and Security System', 'Home Appliances',\n",
       "       'Home Organization', 'Gardening', 'Kitchen and Dining',\n",
       "       'Home Decor', 'Lighting', 'Home Safety', 'Tools',\n",
       "       'Cleaning and Toiletries', 'Fitness', 'Body and Frames',\n",
       "       'Health Care', 'Dog Supplies', \"Rider's Accessories\", 'Auto Care',\n",
       "       'Celebration', 'Adventure Sports', 'Cutlery and Jars', 'Genres',\n",
       "       'Groceries', 'Fresh Product'], dtype=object)"
      ]
     },
     "execution_count": 132,
     "metadata": {},
     "output_type": "execute_result"
    }
   ],
   "source": [
    "filtered['subCategory'].unique()"
   ]
  },
  {
   "cell_type": "code",
   "execution_count": 133,
   "metadata": {},
   "outputs": [
    {
     "name": "stdout",
     "output_type": "stream",
     "text": [
      "                               precision    recall  f1-score   support\n",
      "\n",
      "                     Clothing       0.76      0.17      0.28       126\n",
      "                    Foot Wear       0.00      0.00      0.00        77\n",
      "             Bags and Wallets       0.00      0.00      0.00        72\n",
      "                    Jewellery       0.12      0.05      0.07        78\n",
      "                  Beauty Care       0.00      0.00      0.00        79\n",
      "                  Accessories       0.00      0.00      0.00        77\n",
      "                    Baby Care       0.00      0.00      0.00        15\n",
      "                         Toys       1.00      0.73      0.84        26\n",
      "                      Mobiles       0.00      0.00      0.00       100\n",
      "            Footwear for Kids       0.00      0.00      0.00        72\n",
      "Mobile and Tablet Accessories       0.08      0.01      0.02       103\n",
      "                  Audio Video       0.00      0.00      0.00       151\n",
      "         Computer Accessories       0.85      0.99      0.92       155\n",
      "                       Laptop       0.55      0.75      0.64       151\n",
      "       Camera and Accessories       0.00      0.00      0.00        48\n",
      "                      Desktop       0.00      0.00      0.00        60\n",
      "          Exciting Eletronics       0.00      0.00      0.00        41\n",
      "    Alarm and Security System       0.00      0.00      0.00        83\n",
      "              Home Appliances       0.00      0.00      0.00       136\n",
      "            Home Organization       1.00      0.07      0.12        15\n",
      "                    Gardening       0.00      0.00      0.00        37\n",
      "           Kitchen and Dining       0.00      0.00      0.00        52\n",
      "                   Home Decor       0.00      0.00      0.00        96\n",
      "                     Lighting       0.78      0.70      0.74       336\n",
      "                  Home Safety       0.00      0.00      0.00        86\n",
      "                        Tools       0.00      0.00      0.00        91\n",
      "      Cleaning and Toiletries       0.07      0.36      0.12       258\n",
      "                      Fitness       0.02      0.09      0.04       184\n",
      "              Body and Frames       0.00      0.00      0.00       115\n",
      "                  Health Care       0.00      0.00      0.00       112\n",
      "                 Dog Supplies       1.00      0.62      0.76        26\n",
      "          Rider's Accessories       0.03      0.12      0.05       179\n",
      "                    Auto Care       0.00      0.00      0.00        34\n",
      "                  Celebration       0.00      0.00      0.00        91\n",
      "             Adventure Sports       0.00      0.00      0.00        32\n",
      "             Cutlery and Jars       1.00      0.22      0.36        46\n",
      "                       Genres       0.00      0.00      0.00        70\n",
      "                    Groceries       0.00      0.00      0.00       110\n",
      "                Fresh Product       0.39      0.84      0.53       112\n",
      "\n",
      "                    micro avg       0.21      0.21      0.21      3732\n",
      "                    macro avg       0.20      0.15      0.14      3732\n",
      "                 weighted avg       0.21      0.21      0.19      3732\n",
      "\n"
     ]
    },
    {
     "name": "stderr",
     "output_type": "stream",
     "text": [
      "c:\\users\\aasis\\appdata\\local\\programs\\python\\python37\\lib\\site-packages\\sklearn\\metrics\\classification.py:1143: UndefinedMetricWarning: Precision and F-score are ill-defined and being set to 0.0 in labels with no predicted samples.\n",
      "  'precision', 'predicted', average, warn_for)\n"
     ]
    }
   ],
   "source": [
    "target = ['Clothing', 'Foot Wear', 'Bags and Wallets', 'Jewellery',\n",
    "       'Beauty Care', 'Accessories', 'Baby Care', 'Toys', 'Mobiles',\n",
    "       'Footwear for Kids', 'Mobile and Tablet Accessories',\n",
    "       'Audio Video', 'Computer Accessories', 'Laptop',\n",
    "       'Camera and Accessories', 'Desktop', 'Exciting Eletronics',\n",
    "       'Alarm and Security System', 'Home Appliances',\n",
    "       'Home Organization', 'Gardening', 'Kitchen and Dining',\n",
    "       'Home Decor', 'Lighting', 'Home Safety', 'Tools',\n",
    "       'Cleaning and Toiletries', 'Fitness', 'Body and Frames',\n",
    "       'Health Care', 'Dog Supplies', \"Rider's Accessories\", 'Auto Care',\n",
    "       'Celebration', 'Adventure Sports', 'Cutlery and Jars', 'Genres',\n",
    "       'Groceries', 'Fresh Product']\n",
    "print(classification_report(y_test, y_pred,target_names=target))"
   ]
  },
  {
   "cell_type": "code",
   "execution_count": 134,
   "metadata": {},
   "outputs": [],
   "source": [
    "sgd = Pipeline([('vect', CountVectorizer()),\n",
    "                ('tfidf', TfidfTransformer()),\n",
    "                ('clf', SGDClassifier(loss='hinge', penalty='l2',alpha=1e-3, random_state=42, max_iter=5, tol=None)),\n",
    "               ])"
   ]
  },
  {
   "cell_type": "code",
   "execution_count": 135,
   "metadata": {},
   "outputs": [
    {
     "name": "stderr",
     "output_type": "stream",
     "text": [
      "c:\\users\\aasis\\appdata\\local\\programs\\python\\python37\\lib\\site-packages\\sklearn\\linear_model\\stochastic_gradient.py:183: FutureWarning: max_iter and tol parameters have been added in SGDClassifier in 0.19. If max_iter is set but tol is left unset, the default value for tol in 0.19 and 0.20 will be None (which is equivalent to -infinity, so it has no effect) but will change in 0.21 to 1e-3. Specify tol to silence this warning.\n",
      "  FutureWarning)\n"
     ]
    },
    {
     "data": {
      "text/plain": [
       "Pipeline(memory=None,\n",
       "     steps=[('vect', CountVectorizer(analyzer='word', binary=False, decode_error='strict',\n",
       "        dtype=<class 'numpy.int64'>, encoding='utf-8', input='content',\n",
       "        lowercase=True, max_df=1.0, max_features=None, min_df=1,\n",
       "        ngram_range=(1, 1), preprocessor=None, stop_words=None,\n",
       "        strip...dom_state=42, shuffle=True, tol=None,\n",
       "       validation_fraction=0.1, verbose=0, warm_start=False))])"
      ]
     },
     "execution_count": 135,
     "metadata": {},
     "output_type": "execute_result"
    }
   ],
   "source": [
    "sgd.fit(X_train, y_train)"
   ]
  },
  {
   "cell_type": "code",
   "execution_count": 136,
   "metadata": {},
   "outputs": [
    {
     "name": "stdout",
     "output_type": "stream",
     "text": [
      "accuracy 0.18863879957127547\n"
     ]
    }
   ],
   "source": [
    "y_pred = sgd.predict(X_test)\n",
    "print('accuracy %s' % accuracy_score(y_pred, y_test))"
   ]
  },
  {
   "cell_type": "code",
   "execution_count": 137,
   "metadata": {},
   "outputs": [
    {
     "name": "stdout",
     "output_type": "stream",
     "text": [
      "                               precision    recall  f1-score   support\n",
      "\n",
      "                     Clothing       0.14      0.21      0.17       126\n",
      "                    Foot Wear       0.00      0.00      0.00        77\n",
      "             Bags and Wallets       0.00      0.00      0.00        72\n",
      "                    Jewellery       0.20      0.32      0.25        78\n",
      "                  Beauty Care       0.00      0.00      0.00        79\n",
      "                  Accessories       0.09      0.08      0.08        77\n",
      "                    Baby Care       0.81      0.87      0.84        15\n",
      "                         Toys       0.67      0.85      0.75        26\n",
      "                      Mobiles       0.00      0.00      0.00       100\n",
      "            Footwear for Kids       0.16      0.04      0.07        72\n",
      "Mobile and Tablet Accessories       0.00      0.00      0.00       103\n",
      "                  Audio Video       0.01      0.01      0.01       151\n",
      "         Computer Accessories       0.67      1.00      0.80       155\n",
      "                       Laptop       0.50      0.40      0.45       151\n",
      "       Camera and Accessories       0.00      0.00      0.00        48\n",
      "                      Desktop       0.00      0.00      0.00        60\n",
      "          Exciting Eletronics       0.00      0.00      0.00        41\n",
      "    Alarm and Security System       0.06      0.07      0.06        83\n",
      "              Home Appliances       0.03      0.04      0.03       136\n",
      "            Home Organization       0.89      0.53      0.67        15\n",
      "                    Gardening       0.00      0.00      0.00        37\n",
      "           Kitchen and Dining       0.02      0.02      0.02        52\n",
      "                   Home Decor       0.04      0.07      0.06        96\n",
      "                     Lighting       0.72      0.70      0.71       336\n",
      "                  Home Safety       0.00      0.00      0.00        86\n",
      "                        Tools       0.02      0.04      0.03        91\n",
      "      Cleaning and Toiletries       0.06      0.04      0.05       258\n",
      "                      Fitness       0.04      0.04      0.04       184\n",
      "              Body and Frames       0.10      0.10      0.10       115\n",
      "                  Health Care       0.02      0.02      0.02       112\n",
      "                 Dog Supplies       0.63      0.92      0.75        26\n",
      "          Rider's Accessories       0.04      0.03      0.04       179\n",
      "                    Auto Care       0.08      0.21      0.12        34\n",
      "                  Celebration       0.03      0.01      0.02        91\n",
      "             Adventure Sports       0.61      0.78      0.68        32\n",
      "             Cutlery and Jars       0.23      0.26      0.24        46\n",
      "                       Genres       0.01      0.01      0.01        70\n",
      "                    Groceries       0.00      0.00      0.00       110\n",
      "                Fresh Product       0.14      0.15      0.15       112\n",
      "\n",
      "                    micro avg       0.19      0.19      0.19      3732\n",
      "                    macro avg       0.18      0.20      0.18      3732\n",
      "                 weighted avg       0.17      0.19      0.18      3732\n",
      "\n"
     ]
    }
   ],
   "source": [
    "print(classification_report(y_test, y_pred,target_names=target))"
   ]
  },
  {
   "cell_type": "code",
   "execution_count": 140,
   "metadata": {},
   "outputs": [
    {
     "name": "stdout",
     "output_type": "stream",
     "text": [
      "accuracy 0.18863879957127547\n",
      "                               precision    recall  f1-score   support\n",
      "\n",
      "                     Clothing       0.07      0.17      0.10       126\n",
      "                    Foot Wear       0.02      0.03      0.02        77\n",
      "             Bags and Wallets       0.04      0.06      0.04        72\n",
      "                    Jewellery       0.31      0.51      0.38        78\n",
      "                  Beauty Care       0.00      0.01      0.01        79\n",
      "                  Accessories       0.27      0.27      0.27        77\n",
      "                    Baby Care       0.79      0.73      0.76        15\n",
      "                         Toys       0.58      0.81      0.68        26\n",
      "                      Mobiles       0.00      0.00      0.00       100\n",
      "            Footwear for Kids       0.07      0.08      0.08        72\n",
      "Mobile and Tablet Accessories       0.01      0.01      0.01       103\n",
      "                  Audio Video       0.03      0.03      0.03       151\n",
      "         Computer Accessories       0.85      0.99      0.92       155\n",
      "                       Laptop       0.56      0.48      0.52       151\n",
      "       Camera and Accessories       0.00      0.00      0.00        48\n",
      "                      Desktop       0.00      0.00      0.00        60\n",
      "          Exciting Eletronics       0.00      0.00      0.00        41\n",
      "    Alarm and Security System       0.10      0.10      0.10        83\n",
      "              Home Appliances       0.02      0.01      0.02       136\n",
      "            Home Organization       0.86      0.40      0.55        15\n",
      "                    Gardening       0.29      0.05      0.09        37\n",
      "           Kitchen and Dining       0.00      0.00      0.00        52\n",
      "                   Home Decor       0.03      0.04      0.04        96\n",
      "                     Lighting       0.69      0.68      0.69       336\n",
      "                  Home Safety       0.02      0.01      0.02        86\n",
      "                        Tools       0.00      0.00      0.00        91\n",
      "      Cleaning and Toiletries       0.07      0.07      0.07       258\n",
      "                      Fitness       0.03      0.04      0.03       184\n",
      "              Body and Frames       0.05      0.04      0.05       115\n",
      "                  Health Care       0.00      0.00      0.00       112\n",
      "                 Dog Supplies       0.83      0.77      0.80        26\n",
      "          Rider's Accessories       0.07      0.08      0.07       179\n",
      "                    Auto Care       0.17      0.03      0.05        34\n",
      "                  Celebration       0.00      0.00      0.00        91\n",
      "             Adventure Sports       0.62      0.56      0.59        32\n",
      "             Cutlery and Jars       0.44      0.35      0.39        46\n",
      "                       Genres       0.00      0.00      0.00        70\n",
      "                    Groceries       0.00      0.00      0.00       110\n",
      "                Fresh Product       0.38      0.55      0.45       112\n",
      "\n",
      "                    micro avg       0.21      0.21      0.21      3732\n",
      "                    macro avg       0.21      0.20      0.20      3732\n",
      "                 weighted avg       0.20      0.21      0.20      3732\n",
      "\n"
     ]
    },
    {
     "name": "stderr",
     "output_type": "stream",
     "text": [
      "c:\\users\\aasis\\appdata\\local\\programs\\python\\python37\\lib\\site-packages\\sklearn\\metrics\\classification.py:1143: UndefinedMetricWarning: Precision and F-score are ill-defined and being set to 0.0 in labels with no predicted samples.\n",
      "  'precision', 'predicted', average, warn_for)\n"
     ]
    }
   ],
   "source": [
    "# training a KNN classifier \n",
    "from sklearn.neighbors import KNeighborsClassifier \n",
    "\n",
    "knn = Pipeline([('vect', CountVectorizer()),\n",
    "                ('tfidf', TfidfTransformer()),\n",
    "                ('clf', KNeighborsClassifier(n_neighbors = 39)),\n",
    "               ])\n",
    "knn.fit(X_train, y_train)\n",
    "# accuracy on X_test \n",
    "print('accuracy %s' % accuracy_score(y_pred, y_test))\n",
    "  \n",
    "# testing \n",
    "y_pred = knn.predict(X_test)  \n",
    "print(classification_report(y_test, y_pred,target_names=target))"
   ]
  },
  {
   "cell_type": "code",
   "execution_count": 144,
   "metadata": {},
   "outputs": [
    {
     "name": "stdout",
     "output_type": "stream",
     "text": [
      "accuracy 0.19212218649517684\n",
      "                               precision    recall  f1-score   support\n",
      "\n",
      "                     Clothing       0.06      0.17      0.09       126\n",
      "                    Foot Wear       0.01      0.01      0.01        77\n",
      "             Bags and Wallets       0.04      0.07      0.05        72\n",
      "                    Jewellery       0.32      0.51      0.39        78\n",
      "                  Beauty Care       0.00      0.00      0.00        79\n",
      "                  Accessories       0.28      0.31      0.29        77\n",
      "                    Baby Care       0.72      0.87      0.79        15\n",
      "                         Toys       0.81      0.85      0.83        26\n",
      "                      Mobiles       0.00      0.00      0.00       100\n",
      "            Footwear for Kids       0.04      0.06      0.05        72\n",
      "Mobile and Tablet Accessories       0.00      0.00      0.00       103\n",
      "                  Audio Video       0.01      0.01      0.01       151\n",
      "         Computer Accessories       0.84      0.98      0.91       155\n",
      "                       Laptop       0.54      0.42      0.47       151\n",
      "       Camera and Accessories       0.00      0.00      0.00        48\n",
      "                      Desktop       0.00      0.00      0.00        60\n",
      "          Exciting Eletronics       0.00      0.00      0.00        41\n",
      "    Alarm and Security System       0.04      0.04      0.04        83\n",
      "              Home Appliances       0.02      0.01      0.02       136\n",
      "            Home Organization       1.00      0.47      0.64        15\n",
      "                    Gardening       0.11      0.05      0.07        37\n",
      "           Kitchen and Dining       0.06      0.02      0.03        52\n",
      "                   Home Decor       0.05      0.07      0.06        96\n",
      "                     Lighting       0.82      0.68      0.75       336\n",
      "                  Home Safety       0.00      0.00      0.00        86\n",
      "                        Tools       0.00      0.00      0.00        91\n",
      "      Cleaning and Toiletries       0.04      0.03      0.04       258\n",
      "                      Fitness       0.03      0.03      0.03       184\n",
      "              Body and Frames       0.05      0.03      0.03       115\n",
      "                  Health Care       0.00      0.00      0.00       112\n",
      "                 Dog Supplies       0.89      0.92      0.91        26\n",
      "          Rider's Accessories       0.05      0.04      0.05       179\n",
      "                    Auto Care       0.00      0.00      0.00        34\n",
      "                  Celebration       0.00      0.00      0.00        91\n",
      "             Adventure Sports       0.68      0.66      0.67        32\n",
      "             Cutlery and Jars       0.42      0.37      0.40        46\n",
      "                       Genres       0.00      0.00      0.00        70\n",
      "                    Groceries       0.00      0.00      0.00       110\n",
      "                Fresh Product       0.30      0.35      0.33       112\n",
      "\n",
      "                    micro avg       0.19      0.19      0.19      3732\n",
      "                    macro avg       0.21      0.21      0.20      3732\n",
      "                 weighted avg       0.20      0.19      0.19      3732\n",
      "\n"
     ]
    }
   ],
   "source": [
    "# training a KNN classifier \n",
    "from sklearn.neighbors import KNeighborsClassifier \n",
    "\n",
    "knn = Pipeline([('vect', CountVectorizer()),\n",
    "                ('tfidf', TfidfTransformer()),\n",
    "                ('clf', KNeighborsClassifier(n_neighbors = 19)),\n",
    "               ])\n",
    "knn.fit(X_train, y_train)\n",
    "# accuracy on X_test \n",
    "print('accuracy %s' % accuracy_score(y_pred, y_test))\n",
    "  \n",
    "# testing \n",
    "y_pred = knn.predict(X_test)  \n",
    "print(classification_report(y_test, y_pred,target_names=target))"
   ]
  },
  {
   "cell_type": "code",
   "execution_count": null,
   "metadata": {},
   "outputs": [],
   "source": []
  }
 ],
 "metadata": {
  "kernelspec": {
   "display_name": "Python 3",
   "language": "python",
   "name": "python3"
  },
  "language_info": {
   "codemirror_mode": {
    "name": "ipython",
    "version": 3
   },
   "file_extension": ".py",
   "mimetype": "text/x-python",
   "name": "python",
   "nbconvert_exporter": "python",
   "pygments_lexer": "ipython3",
   "version": "3.7.3"
  }
 },
 "nbformat": 4,
 "nbformat_minor": 2
}
